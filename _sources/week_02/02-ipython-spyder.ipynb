{
 "cells": [
  {
   "cell_type": "markdown",
   "metadata": {},
   "source": [
    "# Scientific development environment: ipython and spyder"
   ]
  },
  {
   "cell_type": "markdown",
   "metadata": {},
   "source": [
    "## Reminder: the \"standard\" python interpreter"
   ]
  },
  {
   "cell_type": "markdown",
   "metadata": {},
   "source": [
    "Let's open a python interpreter and type in some commands:\n",
    "\n",
    "```python\n",
    ">>> a = 2\n",
    ">>> b = 3\n",
    ">>> print(a+b)\n",
    "5\n",
    ">>> a*b\n",
    "6\n",
    ">>> a**3\n",
    "```"
   ]
  },
  {
   "cell_type": "markdown",
   "metadata": {},
   "source": [
    "As it turns out, you will rarely use the python interpreter, but actually used a \"more advanced\" one: `ipython`"
   ]
  },
  {
   "cell_type": "markdown",
   "metadata": {},
   "source": [
    "## ipython: interactive python "
   ]
  },
  {
   "cell_type": "markdown",
   "metadata": {},
   "source": [
    "The default command-line interpreter comes with some functionality (for example, if you use the up and down arrows you can navigate in your previous commands) but this functionality is very sparse. Some important functionalities are missing: some are cosmetic (like colors), some are very useful (like **automatic code completion** with ``[TAB]`` or the possibility to paste several lines of code at once). For all these reasons, the default python command-line interpreter is only used for very small tasks like testing a command or two. Scientists need more interactivity when analyzing their data: this is why ``ipython`` was created."
   ]
  },
  {
   "cell_type": "markdown",
   "metadata": {},
   "source": [
    "[ipython](http://ipython.readthedocs.io/en/stable/index.html) is a standard command-line interpreter, but enhanced with many interactive features. Let's open it (``ipython`` command) and type in some commands:\n",
    "\n",
    "```python\n",
    "In [1]: a = 2\n",
    "\n",
    "In [2]: b = 3\n",
    "\n",
    "In [3]: print(a + b)\n",
    "5\n",
    "\n",
    "In [4]: a*b\n",
    "Out[4]: 6\n",
    "```"
   ]
  },
  {
   "cell_type": "markdown",
   "metadata": {},
   "source": [
    "What are the differences? The ```>>>``` prompt has been replaced by ``In [1]:``. Now there *is* a slight difference between a line with or without ``print()`` (can you find it?). At first sight the differences are small, but it's in the everyday interactive coding that ``ipython`` becomes useful. \n",
    "\n",
    "**From now on, we will always use the ipython command-line interpreter.** I will now describe a small sample of its most useful capabilities."
   ]
  },
  {
   "cell_type": "markdown",
   "metadata": {},
   "source": [
    "### Automatic code completion  "
   ]
  },
  {
   "cell_type": "markdown",
   "metadata": {},
   "source": [
    "In ipython, type ``s`` and then ``[TAB]``. The tool will give you a list of suggestions to choose from (useful when you forgot how a function was called exactly!). Now type ``so`` and ``[TAB]``. Here the only solution will be selected automatically."
   ]
  },
  {
   "cell_type": "markdown",
   "metadata": {},
   "source": [
    "### Getting help"
   ]
  },
  {
   "cell_type": "markdown",
   "metadata": {},
   "source": [
    "Type ``sorted?``. A text help should be printed, telling you what this function is about."
   ]
  },
  {
   "cell_type": "markdown",
   "metadata": {},
   "source": [
    "### Copy paste "
   ]
  },
  {
   "cell_type": "markdown",
   "metadata": {},
   "source": [
    "Copy the following lines and paste them in your ipython interpreter:\n",
    "\n",
    "```python\n",
    "s = 'the jungle book'\n",
    "print(s)\n",
    "l = sorted(s)\n",
    "print(l)\n",
    "l = ''.join(l)\n",
    "print(l)\n",
    "```\n",
    "\n",
    "(note that ``[CTRL-V]`` doesn't work in a linux terminal: you'll have to use `[CTRL-SHIFT-V]`, the mouse with `right click -> paste`, or - even better - the magical linux middle mouse button)"
   ]
  },
  {
   "cell_type": "markdown",
   "metadata": {},
   "source": [
    "## Running scripts"
   ]
  },
  {
   "cell_type": "markdown",
   "metadata": {},
   "source": [
    "### Reminder: running a python script from the terminal "
   ]
  },
  {
   "cell_type": "markdown",
   "metadata": {},
   "source": [
    "Python scripts are simple text files. Per convention we like to give them a suffix: ``.py``. You can run python scripts by calling python in a terminal:\n",
    "\n",
    "```\n",
    "$ python my_python_script.py\n",
    "```"
   ]
  },
  {
   "cell_type": "markdown",
   "metadata": {},
   "source": [
    "### Running a python script from the ipython interpreter"
   ]
  },
  {
   "cell_type": "markdown",
   "metadata": {},
   "source": [
    "Running a script from the ipython interpreter is as easy as:"
   ]
  },
  {
   "cell_type": "code",
   "execution_count": 1,
   "metadata": {},
   "outputs": [
    {
     "name": "stdout",
     "output_type": "stream",
     "text": [
      "The product of 3 and 6 is 18\n"
     ]
    }
   ],
   "source": [
    "%run my_python_script.py"
   ]
  },
  {
   "cell_type": "markdown",
   "metadata": {},
   "source": [
    "(remember the ``[TAB]`` functionality in ipython? You can use it on files as well). Running a script this way is different from running a script in the terminal. Indeed, after running the script, the variables defined in it are still available in the current session. Try computing ``a + b`` to check it out:"
   ]
  },
  {
   "cell_type": "code",
   "execution_count": 2,
   "metadata": {},
   "outputs": [
    {
     "data": {
      "text/plain": [
       "9"
      ]
     },
     "execution_count": 2,
     "metadata": {},
     "output_type": "execute_result"
    }
   ],
   "source": [
    "a + b"
   ]
  },
  {
   "cell_type": "markdown",
   "metadata": {},
   "source": [
    "### Importing a python file "
   ]
  },
  {
   "cell_type": "markdown",
   "metadata": {},
   "source": [
    "Another way to \"run\" a script in a python interpreter is via the ``import`` mechanism:"
   ]
  },
  {
   "cell_type": "code",
   "execution_count": 4,
   "metadata": {},
   "outputs": [
    {
     "name": "stdout",
     "output_type": "stream",
     "text": [
      "The product of 3 and 6 is 18\n"
     ]
    }
   ],
   "source": [
    "import my_python_script"
   ]
  },
  {
   "cell_type": "markdown",
   "metadata": {},
   "source": [
    "Although both ``%run`` and ``import`` execute the script (the output is printed on screen), the two mechanisms are different. As we are going to see, the ``import`` mechanism is an important feature of the python language (also something which you might not be used to from other languages). ``import`` is usually *not* used as a replacement for ``%run``. The biggest difference with ``%run`` is that the variables defined in the script are *not* available at the command line directly. Instead, they can now be addressed as following:"
   ]
  },
  {
   "cell_type": "code",
   "execution_count": 6,
   "metadata": {},
   "outputs": [
    {
     "data": {
      "text/plain": [
       "18"
      ]
     },
     "execution_count": 6,
     "metadata": {},
     "output_type": "execute_result"
    }
   ],
   "source": [
    "my_python_script.a * my_python_script.b"
   ]
  },
  {
   "cell_type": "markdown",
   "metadata": {},
   "source": [
    "... but this is already going too far: more on this in the next lesson."
   ]
  },
  {
   "cell_type": "markdown",
   "metadata": {},
   "source": [
    "## Spyder "
   ]
  },
  {
   "cell_type": "markdown",
   "metadata": {},
   "source": [
    "<img src=\"https://www.spyder-ide.org/spyder_website_banner.png\">"
   ]
  },
  {
   "cell_type": "markdown",
   "metadata": {},
   "source": [
    "[Spyder](https://www.spyder-ide.org) is an open-source integrated development environment ([IDE](https://www.spyder-ide.org/)) for scientific pythom, and it is the best for beginners. To open spyder, simply open your conda environment and type:\n",
    "\n",
    "```\n",
    "spyder\n",
    "```\n",
    "\n",
    "This should open a window like the above. \n",
    "\n",
    "I think that you will learn spyder fast enough while coding, but if you want some tips to get started, the [official documentation](https://docs.spyder-ide.org/current/videos/first-steps-with-spyder.html) is a good place to go first! "
   ]
  },
  {
   "cell_type": "markdown",
   "metadata": {},
   "source": [
    "## Learning checklist"
   ]
  },
  {
   "cell_type": "markdown",
   "metadata": {},
   "source": [
    "<label><input type=\"checkbox\" id=\"week03_01\" class=\"box\"> I understand that `ipython` is short for \"interactive python\". It's basically the same thing as the default **interpreter**, but with more features.</input></label>\n",
    "<label><input type=\"checkbox\" id=\"week03_02\" class=\"box\"> I understand that the **import mechanism** also \"runs\" a file, but the way it does so is fundamentally different. We are going to explain the `import` mechanism in more detail soon.</input></label>   \n",
    "<label><input type=\"checkbox\" id=\"week03_03\" class=\"box\"> I am able to start spyder from the command line.</input></label>   "
   ]
  }
 ],
 "metadata": {
  "hide_input": false,
  "kernelspec": {
   "display_name": "Python 3 (ipykernel)",
   "language": "python",
   "name": "python3"
  },
  "language_info": {
   "codemirror_mode": {
    "name": "ipython",
    "version": 3
   },
   "file_extension": ".py",
   "mimetype": "text/x-python",
   "name": "python",
   "nbconvert_exporter": "python",
   "pygments_lexer": "ipython3",
   "version": "3.10.6"
  },
  "latex_envs": {
   "LaTeX_envs_menu_present": true,
   "autoclose": false,
   "autocomplete": true,
   "bibliofile": "biblio.bib",
   "cite_by": "apalike",
   "current_citInitial": 1,
   "eqLabelWithNumbers": true,
   "eqNumInitial": 1,
   "hotkeys": {
    "equation": "Ctrl-E",
    "itemize": "Ctrl-I"
   },
   "labels_anchors": false,
   "latex_user_defs": false,
   "report_style_numbering": false,
   "user_envs_cfg": false
  },
  "nbTranslate": {
   "displayLangs": [
    "*"
   ],
   "hotkey": "alt-t",
   "langInMainMenu": true,
   "sourceLang": "en",
   "targetLang": "fr",
   "useGoogleTranslate": true
  },
  "toc": {
   "base_numbering": 3,
   "nav_menu": {},
   "number_sections": true,
   "sideBar": true,
   "skip_h1_title": false,
   "title_cell": "Table of Contents",
   "title_sidebar": "Contents",
   "toc_cell": true,
   "toc_position": {},
   "toc_section_display": "block",
   "toc_window_display": true
  }
 },
 "nbformat": 4,
 "nbformat_minor": 4
}
