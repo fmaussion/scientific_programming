{
 "cells": [
  {
   "cell_type": "markdown",
   "metadata": {},
   "source": [
    "# Assignment #02"
   ]
  },
  {
   "cell_type": "markdown",
   "metadata": {},
   "source": [
    "Today's exercises have to be done with help of the python **standard library** alone! **No external module can be used**.\n",
    "\n",
    ":::{tip}\n",
    "Can you remember what the \"standard library\" is? [Here](https://docs.python.org/3/library/) is a list of all the modules and built-ins it provides: so quite a lot!\n",
    ":::"
   ]
  },
  {
   "cell_type": "markdown",
   "metadata": {},
   "source": [
    "## Exercise #02-01: cryptography for Roman Emperors"
   ]
  },
  {
   "cell_type": "markdown",
   "metadata": {},
   "source": [
    "A very simple encryption technique is called the [Caesar cipher](http://en.wikipedia.org/wiki/Caesar_cipher). The basic idea is that each letter is replaced by a letter that is a certain number of letters away, so for example if the shift was 2, then A would become C, B would become D, and Z will become B.\n",
    "\n",
    "**A. Write a function that given a string and a shift, will produce the encrypted string for that shift**. The rules are:\n",
    "- you should accept lowercase and uppercase letters, and return letters of the same case\n",
    "- spaces or other punctuation characters should not be changed.\n",
    "\n",
    "There are several ways to reach this result. Just pick the one which makes more sense to you. Then, decrypt the following message, which was encrypted with a shift of 13:\n",
    "    \n",
    "    Pbatenghyngvbaf, lbh unir fhpprrqrq va qrpelcgvat gur fgevat.\n",
    "    \n",
    "**B. Now write a decoding script** `caesar.py` which, when run in the command line, prints the decoded phrase after asking the user to enter a phrase and a shift with which it was encrypted. Test your script on the sentence above. \n",
    "\n",
    ":::{tip}\n",
    "Make use of python's [input()](https://docs.python.org/3/library/functions.html#input) function\n",
    ":::\n",
    "\n",
    "**C. Now try to decrypt this sentence, for which the shift is unknown**:\n",
    "    \n",
    "    Gwc uivioml bw nqvl bpm zqopb apqnb.\n",
    "    \n",
    "One way to solve this problem involves human decision, but another way can be fully automated (and implies more work). Pick the one you want! You can also add the decryption option to your script if you want."
   ]
  },
  {
   "cell_type": "markdown",
   "metadata": {},
   "source": [
    "## Exercise #02-02: the substitution cipher"
   ]
  },
  {
   "cell_type": "markdown",
   "metadata": {},
   "source": [
    "Since we managed to crack the code above so easily, maybe we should use a better cryptographic algorithm from now on. \n",
    "\n",
    "The Caesar cipher is a special case of the more general [substitution cipher](https://en.wikipedia.org/wiki/Substitution_cipher). In this cipher, any new combined alphabet (or sequence of bits, characters, numbers...) can be used in place of the regular alphabet.\n",
    "\n",
    "To simplify things a bit, we will use python's `random` module and in particular it's [shuffle](https://docs.python.org/3/library/random.html#random.shuffle) function to do the job. To generate a random (but predictable) substitution table we can use the mechanism of \"seeds\", which can be seen as a secret key that you'll have to (privately) give to your forbidden lover for him/her to decipher your message. This works as following: "
   ]
  },
  {
   "cell_type": "code",
   "execution_count": null,
   "metadata": {},
   "outputs": [],
   "source": [
    "alphabet = 'abcdefghijklmnopqrstuvwxyz'\n",
    "seed = 42  # the secret key known by both parties \n",
    "\n",
    "import random\n",
    "random.seed(seed)\n",
    "\n",
    "new_alphabet = list(alphabet)\n",
    "random.shuffle(new_alphabet)\n",
    "print(new_alphabet)"
   ]
  },
  {
   "cell_type": "markdown",
   "metadata": {},
   "source": [
    "**A. Building upon the template from the previous exercise, create a script `substitute.py` which now asks:**\n",
    "    1. for a phrase to encrypt or decrypt\n",
    "    2. whether the script should Encrypt (E) or Decrypt (D) the phrase\n",
    "    3. which seed should be used (it should always be an integer, but can be any integer)"
   ]
  },
  {
   "cell_type": "markdown",
   "metadata": {},
   "source": [
    "**B. Since your cipher still preserves the location of punctuation (space, points, exclamation marks, etc.), it is easier to crack. Can you think of a very simple way to substitute these characters as well for better encoding?** (minimal change in code)"
   ]
  },
  {
   "cell_type": "code",
   "execution_count": null,
   "metadata": {},
   "outputs": [],
   "source": []
  }
 ],
 "metadata": {
  "hide_input": false,
  "kernelspec": {
   "display_name": "Python 3",
   "language": "python",
   "name": "python3"
  },
  "language_info": {
   "codemirror_mode": {
    "name": "ipython",
    "version": 3
   },
   "file_extension": ".py",
   "mimetype": "text/x-python",
   "name": "python",
   "nbconvert_exporter": "python",
   "pygments_lexer": "ipython3",
   "version": "3.8.5"
  },
  "latex_envs": {
   "LaTeX_envs_menu_present": true,
   "autoclose": false,
   "autocomplete": true,
   "bibliofile": "biblio.bib",
   "cite_by": "apalike",
   "current_citInitial": 1,
   "eqLabelWithNumbers": true,
   "eqNumInitial": 1,
   "hotkeys": {
    "equation": "Ctrl-E",
    "itemize": "Ctrl-I"
   },
   "labels_anchors": false,
   "latex_user_defs": false,
   "report_style_numbering": false,
   "user_envs_cfg": false
  },
  "nbTranslate": {
   "displayLangs": [
    "*"
   ],
   "hotkey": "alt-t",
   "langInMainMenu": true,
   "sourceLang": "en",
   "targetLang": "fr",
   "useGoogleTranslate": true
  },
  "toc": {
   "base_numbering": 1,
   "nav_menu": {},
   "number_sections": false,
   "sideBar": true,
   "skip_h1_title": false,
   "title_cell": "Table of Contents",
   "title_sidebar": "Contents",
   "toc_cell": false,
   "toc_position": {},
   "toc_section_display": "block",
   "toc_window_display": false
  }
 },
 "nbformat": 4,
 "nbformat_minor": 4
}
