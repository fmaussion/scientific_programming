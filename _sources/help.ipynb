{
 "cells": [
  {
   "cell_type": "markdown",
   "id": "26df98ed-c631-4a5f-91ae-b06dfe425fc3",
   "metadata": {},
   "source": [
    "# Getting help"
   ]
  },
  {
   "cell_type": "markdown",
   "id": "23c20eef-4438-45e8-93dc-8f8a1d80931c",
   "metadata": {},
   "source": [
    "Seeking for information online is necessary and helpful for programmers of *any* level. I would even argue that the best programmers are the ones who know how to efficiently find information online.\n",
    "\n",
    "When encountering an issue, the first question you should ask yourself is: *\"am I the only person likely to be affected by this problem?\"*. **The answer will be no** in 99% of the cases. For these, here is a list of recommendations:\n",
    "- [Stack Overflow](https://stackoverflow.com/) used to be THE place for programming questions. Thanks to community based moderation rules, the good questions are more visible than bad ones, and good answers are rewarded. [Take a tour](https://stackoverflow.com/tour) of the site's principles, and look for similar questions before asking your own one. Many of its content has been scrapped by generative AI (see below), and the model that has fueled stack overflow's success over decades is at risk. Still, it remains an excellent resource to date.\n",
    "- Learn to ask the right question to your search engine. Naming this the correct way (semantics) is one of the objectives of this lecture, and I hope that in the end you will not only write better code, you will also *speak* the programming language a little better.\n",
    "- This class was developped *before* the rise of generative AI models like **ChatGPT** or **Github Copilot**. Today, these tools are omnipresent and are extremely useful for both beginner and expert programmers. I use these tools almost daily in my work. Feel free to use them in your learning journey - be aware however of their pros and cons. They should *assist* you in learning, not replace your own brain.\n",
    "\n",
    "If every other thing fails (i.e the remaining 1% of the cases), then:\n",
    "- Ask a friend\n",
    "- Ask your professor\n",
    "- Ask a question on Stack Overflow. Before doing so, read what a [Minimal, Complete, and Verifiable Example](https://stackoverflow.com/help/mcve) is and try to stick to these recommendations.\n",
    "- If you think you discovered a bug, than report it to the library directly. Almost all the scientific python packages are hosted on GitHub: the \"issues\" tab is where to report bugs. Read the excellent [Craft Minimal Bug Reports](http://matthewrocklin.com/blog/work/2018/02/28/minimal-bug-reports) article from Matt Rocklin before doing so."
   ]
  }
 ],
 "metadata": {
  "kernelspec": {
   "display_name": "Python 3 (ipykernel)",
   "language": "python",
   "name": "python3"
  },
  "language_info": {
   "codemirror_mode": {
    "name": "ipython",
    "version": 3
   },
   "file_extension": ".py",
   "mimetype": "text/x-python",
   "name": "python",
   "nbconvert_exporter": "python",
   "pygments_lexer": "ipython3",
   "version": "3.12.4"
  }
 },
 "nbformat": 4,
 "nbformat_minor": 5
}
