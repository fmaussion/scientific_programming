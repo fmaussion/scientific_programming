{
 "cells": [
  {
   "cell_type": "markdown",
   "metadata": {},
   "source": [
    "# Object Oriented Programming: why?"
   ]
  },
  {
   "cell_type": "markdown",
   "metadata": {},
   "source": [
    "In the first two OOP units you learned the basic semantics of OOP in python. In this unit we will attempt to provide concrete examples of the use of objects in python (and other OOP languages) and provide some arguments in favor of the use of OOP in your everyday programming tasks."
   ]
  },
  {
   "cell_type": "markdown",
   "metadata": {},
   "source": [
    "## Introduction"
   ]
  },
  {
   "cell_type": "markdown",
   "metadata": {},
   "source": [
    "OOP is a tool that, when used wisely, can help you to structure your programs in a way which might be more readable, easier to [maintain](https://en.wikipedia.org/wiki/Software_maintenance) and more flexible than purely procedural programs. But why is that so? In this lecture, we will discuss five core concepts of OOP: \n",
    "- abstraction\n",
    "- encapsulation\n",
    "- modularity \n",
    "- polymorphism \n",
    "- inheritance"
   ]
  },
  {
   "cell_type": "markdown",
   "metadata": {},
   "source": [
    "## Abstraction"
   ]
  },
  {
   "cell_type": "markdown",
   "metadata": {},
   "source": [
    "**Data abstraction** refers to the separation between the abstract properties of an object and its internal representation.  By giving a name to things and hiding unnecessary details from the user, objects provide an intuitive interface to concepts which might be very complex internally.\n",
    "\n",
    "Going back to our examples from the last two units: we used the term \"objects\" in programming as surrogate for actual objects in the real world: a cat, a pen, a car... These objects have a state (in OOP: `attributes`) and realize actions (in OOP: `methods`). For a pen, the states (attributes) could be: `ink_color`, `ink_volume`, `point_size`, etc. The actions (methods) could be: `write()`, `fill_ink()`, etc.\n",
    "\n",
    "OOP allows you to write programs which feel more natural and intuitive than functions and procedures. If a concept in your program is easily describable in terms of \"state\" and \"actions\", it might be a good candidate for writing a python class.\n",
    "\n",
    "Let's make an example based on a widely used object in Python, with an instance of the class `string`: "
   ]
  },
  {
   "cell_type": "code",
   "execution_count": null,
   "metadata": {},
   "outputs": [],
   "source": [
    "a = 'hello!'"
   ]
  },
  {
   "cell_type": "markdown",
   "metadata": {},
   "source": [
    "The state of our object is relatively simple to describe: it is the sentence (list of characters) stored in the object. We have access to this state (we can print its values) but the way these values are stored in memory is abstracted away. We don't care about the details, we just want a string. Now, a string provides many actions: "
   ]
  },
  {
   "cell_type": "code",
   "execution_count": null,
   "metadata": {},
   "outputs": [],
   "source": [
    "a.capitalize()"
   ]
  },
  {
   "cell_type": "code",
   "execution_count": null,
   "metadata": {},
   "outputs": [],
   "source": [
    "a.capitalize().istitle()"
   ]
  },
  {
   "cell_type": "code",
   "execution_count": null,
   "metadata": {},
   "outputs": [],
   "source": [
    "a.split('l')"
   ]
  },
  {
   "cell_type": "markdown",
   "metadata": {},
   "source": [
    "Abstractions should be as simple and well defined as possible. Sometimes there is more than one possible way to provide an abstraction to the user, and it becomes a debate among the developers of a project whether these abstractions are useful or not.\n",
    "\n",
    "Well defined abstractions can be composed together. A good example is provided by the [xarray](http://xarray.pydata.org) library that you are using in the climate lecture: an ``xarray.DataSet`` is composed of several ``xarray.DataArray`` objects. These ``xarray.DataArray`` objects have the function to store data (a ``numpy.ndarray`` object) together with coordinates (other ``numpy.ndarray`` objects) and attributes (units, name, etc.). The ``xarray.DataArray`` objects have the task to store``xarray.DataArray``s. This chain of abstractions is possible only if each of these concepts has a clearly defined role: xarray does not mess around with numbers in arrays: numpy does the numerical job behind the scenes. Inversely, numpy does not care whether an array has coordinates or not: xarray does the job of tracking variable descriptions and units."
   ]
  },
  {
   "cell_type": "markdown",
   "metadata": {},
   "source": [
    "## Encapsulation "
   ]
  },
  {
   "cell_type": "markdown",
   "metadata": {},
   "source": [
    "**Encapsulation** is tied to the concept of abstraction. By hiding the internal implementation of a class behind a defined interface, users of the class do not need to know details about the internals of the class to use it. The implementation of the class can be changed (or internal data can be modified) without having to change the code of the users of the class.\n",
    "\n",
    "In python, encapsulation is more difficult to achieve than in other languages like Java. Indeed, Java implements the concept of **private methods and attributes**, which are hidden from the user per definition. In python, *nothing* is hidden from the user: however, developers make use of important **conventions** to inform the users that a method or attribute is not meant to be used by the class alone. Let's take an xarray DataArray as an example:"
   ]
  },
  {
   "cell_type": "code",
   "execution_count": null,
   "metadata": {},
   "outputs": [],
   "source": [
    "import xarray as xr\n",
    "import numpy as np\n",
    "da = xr.DataArray([1, 2, 3])"
   ]
  },
  {
   "cell_type": "code",
   "execution_count": null,
   "metadata": {},
   "outputs": [],
   "source": [
    "print(dir(da))"
   ]
  },
  {
   "cell_type": "markdown",
   "metadata": {},
   "source": [
    "In this (very) long list of methods and attributes, some of them are available and documented. For example:"
   ]
  },
  {
   "cell_type": "code",
   "execution_count": null,
   "metadata": {},
   "outputs": [],
   "source": [
    "da.values"
   ]
  },
  {
   "cell_type": "markdown",
   "metadata": {},
   "source": [
    "Other methods/attributes start with **one underscore**. This underscore has no special meaning in the Python language other than being a warning to the users, saying as much as: \"Don't use this method or attribute. If you do, do it at your own risk\". For example:"
   ]
  },
  {
   "cell_type": "code",
   "execution_count": null,
   "metadata": {},
   "outputs": [],
   "source": [
    "da._in_memory"
   ]
  },
  {
   "cell_type": "markdown",
   "metadata": {},
   "source": [
    "``_in_memory`` is an attribute which is meant for internal use in the class (it is called **private**). Setting it to another value might have unpredictable consequences, and relying on it for your own code is not recommended: the xarray developers might rename it or change it without notice. "
   ]
  },
  {
   "cell_type": "markdown",
   "metadata": {},
   "source": [
    "The methods having **two leading and trailing underscores have a special meaning in Python and are part of the language specifications**. We already encountered ``__init__`` for our class instantiation, and we will talk about some others later in this chapter."
   ]
  },
  {
   "cell_type": "markdown",
   "metadata": {},
   "source": [
    "## Modularity "
   ]
  },
  {
   "cell_type": "markdown",
   "metadata": {},
   "source": [
    "**Modularity** is a technique to separate different portions of the program (modules) based on some logical boundary. Modularity is a general principle in programming, although object-oriented programming typically makes it more explicit by giving meaningful names and actions to the program's tools. \n",
    "\n",
    "Taking the example of ``xarray.DataArray`` and ``numpy.Array`` again: both classes have very clear domains of functionality. The latter shines at doing fast numerical computations on arrays, the former provides an intuitive abstraction to the internal arrays by giving names and coordinates to its axes. Modularity is achieved thanks to the naming and documentation of each object's tasks and purpose."
   ]
  },
  {
   "cell_type": "markdown",
   "metadata": {},
   "source": [
    "## Polymorphism"
   ]
  },
  {
   "cell_type": "markdown",
   "metadata": {},
   "source": [
    "**Polymorphism** is the name given to the technique of creating multiple classes that obey the same **interface**. The \"interface\" of an object is the set of public attributes and methods it defines. \n",
    "\n",
    "**Objects from different classes can be mixed at runtime if they obey the same interface**. In other words, polymorphism originates from the fact that a certain action can have well defined but different meanings depending on the objects they apply to.\n",
    "\n",
    "An example of polymorphism is provided by the addition operation in python:"
   ]
  },
  {
   "cell_type": "code",
   "execution_count": null,
   "metadata": {},
   "outputs": [],
   "source": [
    "1 + 1"
   ]
  },
  {
   "cell_type": "code",
   "execution_count": null,
   "metadata": {},
   "outputs": [],
   "source": [
    "1 + 1.2"
   ]
  },
  {
   "cell_type": "code",
   "execution_count": null,
   "metadata": {},
   "outputs": [],
   "source": [
    "[1, 2] + [3, 4] + [5]"
   ]
  },
  {
   "cell_type": "code",
   "execution_count": null,
   "metadata": {},
   "outputs": [],
   "source": [
    "np.array([1, 2]) + [3, 4]"
   ]
  },
  {
   "cell_type": "markdown",
   "metadata": {},
   "source": [
    "Each of these addition operations are performing a different action *depending on the object they are applied to*. \n",
    "\n",
    "OOP relies on polymorphism to provide higher levels of abstraction. In our ``Cat`` and ``Dog`` example from last week, both classes provided a ``say_name()`` method: the internal implementation, however, was different in each case.\n",
    "\n",
    "Many OOP languages (including Python) provide powerful tools for the purpose of polymorphism. One of them is **operator overloading**:"
   ]
  },
  {
   "cell_type": "code",
   "execution_count": null,
   "metadata": {},
   "outputs": [],
   "source": [
    "class ArrayList(list):\n",
    "\n",
    "    def __repr__(self):\n",
    "        \"\"\"Do NOT do this at home!\"\"\"\n",
    "        return 'ArrayList(' + super().__repr__() + ')'\n",
    "\n",
    "    def __add__(self, other):\n",
    "        \"\"\"Do NOT do this at home!\"\"\"\n",
    "        return [a + b for a, b in zip(self, other)]"
   ]
  },
  {
   "cell_type": "markdown",
   "metadata": {},
   "source": [
    "What did we just do? The class definition (``class ArrayList(list)``) indicates that we created a subclass of the parent class ``list``, a well known data type in python. Our child class has all the attributes and methods of the original parent class:"
   ]
  },
  {
   "cell_type": "code",
   "execution_count": null,
   "metadata": {},
   "outputs": [],
   "source": [
    "a = ArrayList([1, 2, 3])"
   ]
  },
  {
   "cell_type": "code",
   "execution_count": null,
   "metadata": {},
   "outputs": [],
   "source": [
    "len(a)"
   ]
  },
  {
   "cell_type": "code",
   "execution_count": null,
   "metadata": {},
   "outputs": [],
   "source": [
    "a"
   ]
  },
  {
   "cell_type": "code",
   "execution_count": null,
   "metadata": {},
   "outputs": [],
   "source": [
    "b = [1, 2, 3]"
   ]
  },
  {
   "cell_type": "code",
   "execution_count": null,
   "metadata": {},
   "outputs": [],
   "source": [
    "b"
   ]
  },
  {
   "cell_type": "code",
   "execution_count": null,
   "metadata": {},
   "outputs": [],
   "source": [
    "np.array([1, 2, 3])"
   ]
  },
  {
   "cell_type": "markdown",
   "metadata": {},
   "source": [
    "Now, we defined a method ``__add__``, which allows us to do some python magic: ``__add__`` is the method which is actually called when two objects are added together. This means that the two statements below are totally equivalent:"
   ]
  },
  {
   "cell_type": "code",
   "execution_count": null,
   "metadata": {},
   "outputs": [],
   "source": [
    "[1] + [2]"
   ]
  },
  {
   "cell_type": "code",
   "execution_count": null,
   "metadata": {},
   "outputs": [],
   "source": [
    "[1].__add__([2])  # the functional version of the literal above"
   ]
  },
  {
   "cell_type": "markdown",
   "metadata": {},
   "source": [
    "Now, what does that mean for the addition on our ``ArrayList`` class? Let's try and find out:"
   ]
  },
  {
   "cell_type": "code",
   "execution_count": null,
   "metadata": {},
   "outputs": [],
   "source": [
    "a + [11, 12, 13]"
   ]
  },
  {
   "cell_type": "markdown",
   "metadata": {},
   "source": [
    "We just defined a new way to realize additions on lists! How did this happen? Well, exactly like the example above: the python interpreter understood that it has to apply the literal operator `+` on the two objects `a` and `[11, 12, 13]`, which translates to a call to `a.__add__([11, 12, 13])`, which calls our own implementation of the list addition.\n",
    "\n",
    "This is a very powerful mechanism: a prominent example is provided by numpy: by implementing the ``__add__`` method on ndarray objects, they provide a new functionality which is hidden from the user but intuitive at the same time. Numpy arrays not only implement `__add__`, they also implement `__mul__`, `__div__`, `__repr__`, etc."
   ]
  },
  {
   "cell_type": "markdown",
   "metadata": {},
   "source": [
    "```{exercise}\n",
    "What does the `__repr__` operator do? Can you implement one for our `ArrayList` class? For example, it could make clear that the `__repr__` is that of an `ArrayList`, not of a `list` (like numpy arrays).\n",
    "```"
   ]
  },
  {
   "cell_type": "code",
   "execution_count": null,
   "metadata": {},
   "outputs": [],
   "source": [
    "a"
   ]
  },
  {
   "cell_type": "code",
   "execution_count": null,
   "metadata": {},
   "outputs": [],
   "source": [
    "a + [1, 2, 3]"
   ]
  },
  {
   "cell_type": "markdown",
   "metadata": {},
   "source": [
    "Operator overloading should be used with care and can be considered an advanced use case of python classes, in particular when used with inheritance as in the example above. People used to `lists` in python won't be happy with your new behavior, i.e. you have to be careful to document what you are doing.\n",
    "\n",
    "For example, our class above is not finished yet. Indeed, see what happens here:"
   ]
  },
  {
   "cell_type": "code",
   "execution_count": null,
   "metadata": {},
   "outputs": [],
   "source": [
    "[11, 12, 13] + a"
   ]
  },
  {
   "cell_type": "markdown",
   "metadata": {},
   "source": [
    "Huh? This did not work as expected! The difference with above is that our custom list `a` is now on the right-hand side of the operator. For this behavior there is a class interface as well, called `__radd__` (for \"right-hand side addition\"). Let's define this operator to do the same as on the left-hand side (this makes sense, because addition is commutative anyway):"
   ]
  },
  {
   "cell_type": "code",
   "execution_count": null,
   "metadata": {},
   "outputs": [],
   "source": [
    "class ArrayList(list):\n",
    "\n",
    "    def __add__(self, other):\n",
    "        \"\"\"Do NOT do this at home!\"\"\"\n",
    "        return [a + b for a, b in zip(self, other)]\n",
    "\n",
    "    __radd__ = __add__"
   ]
  },
  {
   "cell_type": "code",
   "execution_count": null,
   "metadata": {},
   "outputs": [],
   "source": [
    "a = ArrayList([1, 2, 3])\n",
    "[11, 12, 13] + a"
   ]
  },
  {
   "cell_type": "markdown",
   "metadata": {},
   "source": [
    "This looks better now! But this example illustrates the complexity of the topic, and recommends due caution with operator overloading."
   ]
  },
  {
   "cell_type": "markdown",
   "metadata": {},
   "source": [
    "## Inheritance "
   ]
  },
  {
   "cell_type": "markdown",
   "metadata": {},
   "source": [
    "**Inheritance** is a core OOP mechanism which is very useful to provide abstraction, encapsulation, modularity, and polymorphism to python objects. Let's take the concrete example of the `Pet`, `Cat` and `Dog` classes from last week. Inheritance provides:\n",
    "- *abstraction* by giving clear names and actions to the concepts of \"pet\" and their real-world realizations \"cats\" and \"dogs\"\n",
    "- *encapsulation* by keeping track of a pet's weight each time they eat, so that the user does not have to take care of the weight computation or how it is done\n",
    "- *modularity* by merging common code in the pet class while allowing class-specific code in each pet implementation\n",
    "- *polymorphism* by defining a common interface: each pet can \"say its name loudly\" (`.say_name_loudly()`), but the actual outcome depends on the class of the caller (cat or dog) "
   ]
  },
  {
   "cell_type": "markdown",
   "metadata": {},
   "source": [
    "Now, how does the concept of class inheritance apply to real-world scientific applications? There are several examples from the scientific libraries you are using yourself:\n",
    "- xarray uses object inheritance to provide a single consistent interface to the various data files it can open: netCDF4, HDF5, geotiffs, images... All these file readers comply to common interfaces (parent classes) called `WritableCFDataStore` or `BackendArray`.\n",
    "- matplotlib's `YAxis` and `XAxis` classes inherit from the general `Axis` class, which itself inherits from the base `Artist` class, which is responsible of drawing all kind of things. Such relationships are sometimes visually summarized in a class diagram like [this one](https://matplotlib.org/api/artist_api.html#matplotlib.artist.Artist).\n",
    "- cartopy's `PlateCarree` projection is one realization of the more general `Projection` parent class, which has [many subclasses](https://scitools.org.uk/cartopy/docs/latest/crs/projections.html).\n",
    "\n",
    "Inheritance can also be useful for numerical models. In the [glacier model](https://oggm.org/) we are developing, we are using inheritance to provide different ways to compute the surface mass-balance of glaciers. Some mass-balance models are very simple (e.g. [LinearMassBalance](https://github.com/OGGM/oggm/blob/3d4206ac335c7f11b3430cdec5aa58b520e8350a/oggm/core/massbalance.py#L160)) and others are more complex (e.g. [PastMassBalance](https://github.com/OGGM/oggm/blob/3d4206ac335c7f11b3430cdec5aa58b520e8350a/oggm/core/massbalance.py#L212)), but all models inherit from a common [MassBalanceModel](https://github.com/OGGM/oggm/blob/3d4206ac335c7f11b3430cdec5aa58b520e8350a/oggm/core/massbalance.py#L16) class which defines their interface, i.e. how their methods should be called and the units of the data they compute. This is very useful in the model structure, because the actual user of the mass-balance models (in our case, a glacier dynamics model) then doesn't have to care at all about which mass-balance model is actually providing the data: it just needs the mass-balance, not the details about how it's computed."
   ]
  },
  {
   "cell_type": "markdown",
   "metadata": {},
   "source": [
    "## Take home points"
   ]
  },
  {
   "cell_type": "markdown",
   "metadata": {},
   "source": [
    "- Object-oriented programming (OOP) is more of a \"paradigm\" than a true necessity: it is possible to write very powerful software without OOP. In practice, however, the OOP paradigm and its flexibility are in wide use in the scientific computing world. If you possibly won't write OOP programs yourself, you will definitely *use* OOP programs for your own work.\n",
    "- The OOP concepts listed above help to formalize the role of OOP in a program's structure. I would like you to remember that these terms exist and maybe remember examples of their application.\n",
    "- In this lecture we only talked about the *advantages* of OOP. There are also *disadvantages* in using OOP, but I decided not to cover this topic here because it requires a certain experience with OOP first. In practice, the disadvantages often summarize to one point: OOP is sometimes \"over-used\" and tends to over-complexify things which could be kept simple in functional programming. I recommend you to make your own experiences with OOP and come back to reading about these pitfalls later on. "
   ]
  },
  {
   "cell_type": "markdown",
   "metadata": {},
   "source": [
    "## Concluding remarks "
   ]
  },
  {
   "cell_type": "markdown",
   "metadata": {},
   "source": [
    "A \"true\" OOP lecture could occupy a full semester: as an engineering student, I had a full semester lecture of functional programming in C, then a full semester of OOP programming in Java. Here, we only scratched the surface of a complex topic, and if you want to dig deeper in the programming world you will have to learn these skills yourself or with more advanced lectures. Fortunately, programming is one of the easiest skills to train online, and I hope that my introduction  will help you to get started. "
   ]
  }
 ],
 "metadata": {
  "hide_input": false,
  "kernelspec": {
   "display_name": "Python 3 (ipykernel)",
   "language": "python",
   "name": "python3"
  },
  "language_info": {
   "codemirror_mode": {
    "name": "ipython",
    "version": 3
   },
   "file_extension": ".py",
   "mimetype": "text/x-python",
   "name": "python",
   "nbconvert_exporter": "python",
   "pygments_lexer": "ipython3",
   "version": "3.8.5"
  },
  "latex_envs": {
   "LaTeX_envs_menu_present": true,
   "autoclose": false,
   "autocomplete": true,
   "bibliofile": "biblio.bib",
   "cite_by": "apalike",
   "current_citInitial": 1,
   "eqLabelWithNumbers": true,
   "eqNumInitial": 1,
   "hotkeys": {
    "equation": "Ctrl-E",
    "itemize": "Ctrl-I"
   },
   "labels_anchors": false,
   "latex_user_defs": false,
   "report_style_numbering": false,
   "user_envs_cfg": false
  },
  "nbTranslate": {
   "displayLangs": [
    "*"
   ],
   "hotkey": "alt-t",
   "langInMainMenu": true,
   "sourceLang": "en",
   "targetLang": "fr",
   "useGoogleTranslate": true
  },
  "toc": {
   "base_numbering": "26",
   "nav_menu": {},
   "number_sections": true,
   "sideBar": true,
   "skip_h1_title": false,
   "title_cell": "Table of Contents",
   "title_sidebar": "Contents",
   "toc_cell": true,
   "toc_position": {
    "height": "calc(100% - 180px)",
    "left": "10px",
    "top": "150px",
    "width": "235px"
   },
   "toc_section_display": "block",
   "toc_window_display": true
  }
 },
 "nbformat": 4,
 "nbformat_minor": 4
}
