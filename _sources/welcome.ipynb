{
 "cells": [
  {
   "cell_type": "markdown",
   "metadata": {},
   "source": [
    "# Welcome"
   ]
  },
  {
   "cell_type": "markdown",
   "metadata": {},
   "source": [
    "```{figure} img/logo_acinn_small.jpg\n",
    "---\n",
    "figclass: margin\n",
    "---\n",
    "```\n",
    "```{figure} img/logo_uob_small.jpg\n",
    "---\n",
    "figclass: margin\n",
    "---\n",
    "```\n",
    "\n",
    "Lecture notes of the master lecture [707716 - Scientific Programming](https://lfuonline.uibk.ac.at/public/lfuonline_lv.details?sem_id_in=22W&lvnr_id_in=707716&sprache_in=en), taught to 1st semester students following a [Master in Atmospheric Sciences](https://www.uibk.ac.at/acinn/studies/master-in-atmospheric-sciences.html.en) curriculum from the Department of Atmospheric and Cryospheric Sciences ([ACINN](https://www.uibk.ac.at/acinn)) at the University of Innsbruck.\n",
    "\n",
    "This lecture is tailored for a 15 weeks-long class, but these notes might also be of interest to other (geo-)scientists wanting to learn the fundamentals of scientific programming. **Welcome to you all!**\n",
    "\n",
    "```{note}\n",
    "👨‍🏫 I gave this class in Innsbruck for the last time in the Winter 2022/23, before moving to Bristol. This content will remain online for the foreseable future, and I hope it will be useful to you. Enjoy!\n",
    "\n",
    "If you find errors, broken links, etc. Please report it [on Github](https://github.com/fmaussion/scientific_programming).\n",
    "```"
   ]
  },
  {
   "cell_type": "markdown",
   "metadata": {},
   "source": [
    "![](img/welcome_img.jpg)"
   ]
  },
  {
   "cell_type": "markdown",
   "metadata": {},
   "source": [
    "## Authors"
   ]
  },
  {
   "cell_type": "markdown",
   "metadata": {},
   "source": [
    "- [Fabien Maussion](http://fabienmaussion.info/) wrote these notes (unless specified otherwise, e.g. for some tutorials)\n",
    "- [Matthias Göbel](https://www.uibk.ac.at/acinn/people/matthias-goebel.html.en) and [Lilian Schuster](https://www.uibk.ac.at/acinn/people/lilian-schuster.html.en) (student assistants in 2018 and 2019) reviewed and proof read them"
   ]
  }
 ],
 "metadata": {
  "hide_input": false,
  "kernelspec": {
   "display_name": "Python 3 (ipykernel)",
   "language": "python",
   "name": "python3"
  },
  "language_info": {
   "codemirror_mode": {
    "name": "ipython",
    "version": 3
   },
   "file_extension": ".py",
   "mimetype": "text/x-python",
   "name": "python",
   "nbconvert_exporter": "python",
   "pygments_lexer": "ipython3",
   "version": "3.12.4"
  },
  "latex_envs": {
   "LaTeX_envs_menu_present": true,
   "autoclose": false,
   "autocomplete": true,
   "bibliofile": "biblio.bib",
   "cite_by": "apalike",
   "current_citInitial": 1,
   "eqLabelWithNumbers": true,
   "eqNumInitial": 1,
   "hotkeys": {
    "equation": "Ctrl-E",
    "itemize": "Ctrl-I"
   },
   "labels_anchors": false,
   "latex_user_defs": false,
   "report_style_numbering": false,
   "user_envs_cfg": false
  },
  "nbTranslate": {
   "displayLangs": [
    "*"
   ],
   "hotkey": "alt-t",
   "langInMainMenu": true,
   "sourceLang": "en",
   "targetLang": "fr",
   "useGoogleTranslate": true
  },
  "toc": {
   "base_numbering": 1,
   "nav_menu": {},
   "number_sections": false,
   "sideBar": true,
   "skip_h1_title": false,
   "title_cell": "Table of Contents",
   "title_sidebar": "Contents",
   "toc_cell": false,
   "toc_position": {},
   "toc_section_display": "block",
   "toc_window_display": true
  }
 },
 "nbformat": 4,
 "nbformat_minor": 4
}
