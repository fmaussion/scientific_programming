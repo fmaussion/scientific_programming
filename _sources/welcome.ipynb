{
 "cells": [
  {
   "cell_type": "markdown",
   "metadata": {},
   "source": [
    "# Welcome"
   ]
  },
  {
   "cell_type": "markdown",
   "metadata": {},
   "source": [
    "Lecture notes of the master lecture [707716 - Scientific Programming](https://lfuonline.uibk.ac.at/public/lfuonline_lv.details?sem_id_in=21W&lvnr_id_in=707716), taught to 1st semester students following a [Master in Atmospheric Sciences](https://www.uibk.ac.at/acinn/studies/master-in-atmospheric-sciences.html.en) curriculum from the Department of Atmospheric and Cryospheric Sciences ([ACINN](https://www.uibk.ac.at/acinn)) at the University of Innsbruck.\n",
    "\n",
    "This lecture is tailored for a 15 weeks-long class, but these notes might also be of interest to other (geo-)scientists wanting to learn the fundamentals of scientific programming. **Welcome to you all!**\n",
    "\n",
    "```{figure} img/logo_acinn_small.jpg\n",
    "---\n",
    "figclass: margin\n",
    "---\n",
    "```"
   ]
  },
  {
   "cell_type": "markdown",
   "metadata": {},
   "source": [
    "## Learning outcomes"
   ]
  },
  {
   "cell_type": "markdown",
   "metadata": {},
   "source": [
    "This class aims at teaching **modern programming techniques** for (geo-)scientists. After completing the class, attendees will be able to program in a structured, extendable and reproducible manner. They will become familiar with a modern and open-source programming language (Python) and will be able to read and write python programs of medium complexity. They will be able to search for, understand, install and take advantage of existing packages and libraries available in the rich scientific Python ecosystem. They should understand how numbers are handled by computers and be aware of numerical accuracy errors as well as simple performance considerations (vectorization). Furthermore, they will get acquainted with various programming tools (IDEs, debugger, unit testing, open development practices).\n",
    "\n",
    "The course encompasses the following topics, developed by means of concrete examples and practicals:\n",
    "- Introduction to Linux\n",
    "- General programming concepts, differences between compiled and interpreted languages\n",
    "- Revisiting and formalizing basic programming structures (e.g. loops) and learn more advanced ones (e.g. context managers)\n",
    "- Semantics: precise vocabulary in order to ask questions \"the right way\" (see {ref}`getting-help`).\n",
    "- Numerics: floating point numbers, N-dimensional arrays\n",
    "- Software structure: packages, modules, functions, scripts\n",
    "- Object oriented programming: fundamentals, usage, and basic design patterns\n",
    "- Code testing with pytest\n",
    "- Short overview of major scientific python packages\n",
    "- Real world applications!\n",
    "\n",
    "```{admonition} Important!\n",
    ":class: warning\n",
    "This course is very dense (especially if you don't have much prior experience with python), but it won't make of you a \"fully accomplished programmer\". For one, there is no such thing, but more importantly: programming is best \"learned-by-doing\". \n",
    "\n",
    "**My main objective for this course is to get you prepared to learn independently about the more advanced tools you'll need for the rest of your studies and professional life.** \n",
    "```"
   ]
  },
  {
   "cell_type": "markdown",
   "metadata": {},
   "source": [
    "## Prerequisites\n",
    "\n",
    "The targeted audience for this lecture are **students at the master level with previous experience in programming**. No prior knowledge of python is required, but I'll assume that you are familiar with a similar language (Matlab, IDL, R...) and basic programming structures (loops, functions, conditional blocks...). Ideally you will have the programming level of a student having completed Chapters 1 to 10 from the \"[Programming for Everybody](https://www.py4e.com/html3/)\" lecture by Dr. Charles R. Severance."
   ]
  },
  {
   "cell_type": "markdown",
   "metadata": {},
   "source": [
    "## How to use these notes"
   ]
  },
  {
   "cell_type": "markdown",
   "metadata": {},
   "source": [
    "These notes are written as a companion to the lectures. During class I will go through the major concepts (using slides or the good old blackboard), and you can use these notes for independent learning.\n",
    "\n",
    "They are actualized on the go, as this course advances. I am trying to write them in such a way that they are understandable without actually *attending* the course, but I strongly recommend to participate to both the lectures and the practicals.\n",
    "\n",
    "The notes are a mix of examples and small exercises for you to try at home. They are written in [Jupyter Notebooks](https://jupyter-notebook.readthedocs.io). If you want to run the lecture's code yourself, you can:\n",
    "\n",
    "- copy-paste the code of the lecture in a python interpreter and repeat the steps yourself (**recommended for beginners**)\n",
    "- run the notebooks online in an interactive window, by clicking on the \"Launch Binder\" button on the top-right of this page. For a primer on Jupyter Notebooks and MyBinder, visit [OGGM-Edu](https://edu.oggm.org/en/latest/notebooks_howto.html).\n",
    "- download the jupyter notebooks from the course's [repository](https://github.com/fmaussion/scientific_programming) and run them on your computer (recommended after you have become more familiar with Jupyter Notebooks[^foot:nb]).\n",
    "\n",
    "\n",
    "[^foot:nb]: Jupyter Notebooks are great and I use them everyday (you will use them in the climate lecture), but they can be a bit confusing for beginners.\n",
    "\n",
    "```{tip}\n",
    "When you will be going through the examples of these notes, some sentences are marked in **bold**: this underlines their importance for the course. When **single words** are bold  this symbolizes new programming concepts or definitions: they need to be understood (and *googled* if needed).\n",
    "```"
   ]
  },
  {
   "cell_type": "markdown",
   "metadata": {},
   "source": [
    "## Grading "
   ]
  },
  {
   "cell_type": "markdown",
   "metadata": {},
   "source": [
    "The lecture will be graded based on three assessments:\n",
    "- a mid-term group project (the ``climvis`` package): 40%\n",
    "- an oral examination at the end of the semester: 60%\n",
    "\n",
    "A positive evaluation of each of these elements is mandatory to pass the class!\n",
    "\n",
    "The `climvis` package itself will be graded as a group work (50%) and individual contribution (50%).  \n",
    "\n",
    "There will be bonus points for pointing me to typos / mistakes / broken links / incomprehensible or difficult passages in the lecture notes."
   ]
  },
  {
   "cell_type": "markdown",
   "metadata": {},
   "source": [
    "Each week there will be an **assignment** (unless specified otherwise, e.g. during the group projects). These assignments can be worked through alone or in groups. Each week, I will ask **one volunteer group** to present their results to the rest of the class on the following week.\n",
    "\n",
    "The class grants you 5 ECTS if successfully passed: [in theory](https://en.wikipedia.org/wiki/European_Credit_Transfer_and_Accumulation_System), this represents 8 to 10 hours work per week (not including holidays). For this course, it means that **you will spend at least twice as much time doing homework than sitting in class**."
   ]
  },
  {
   "cell_type": "markdown",
   "metadata": {},
   "source": [
    "(getting-help)=\n",
    "## Getting help"
   ]
  },
  {
   "cell_type": "markdown",
   "metadata": {},
   "source": [
    "Seeking for information online is necessary and helpful for programmers of *any* level. I would even argue that the best programmers are the ones who know how to efficiently find information online.\n",
    "\n",
    "When encountering an issue, the first question you should ask yourself is: *\"am I the only person likely to be affected by this problem?\"*. **The answer will be no** in 99% of the cases. For these, here is a list of recommendations:\n",
    "- [Stack Overflow](https://stackoverflow.com/) is THE place for programming questions. Thanks to community based moderation rules, the good questions are more visible than bad ones, and good answers are rewarded. [Take a tour](https://stackoverflow.com/tour) of the site's principles, and look for similar questions before asking your own one.\n",
    "- Learn to ask the right question to your search engine. Naming this the correct way (semantics) is one of the objectives of this lecture, and I hope that in the end you will not only write better code, you will also *speak* the programming language a little better. \n",
    "\n",
    "If every other thing fails (i.e the remaining 1% of the cases), then:\n",
    "- Ask a friend\n",
    "- Ask your professor\n",
    "- Ask a question on Stack Overflow. Before doing so, read what a [Minimal, Complete, and Verifiable Example](https://stackoverflow.com/help/mcve) is and try to stick to these recommendations.\n",
    "- If you think you discovered a bug, than report it to the library directly. Almost all the scientific python packages are hosted on GitHub: the \"issues\" tab is where to report bugs. Read the excellent [Craft Minimal Bug Reports](http://matthewrocklin.com/blog/work/2018/02/28/minimal-bug-reports) article from Matt Rocklin before doing so."
   ]
  },
  {
   "cell_type": "markdown",
   "metadata": {},
   "source": [
    "## Authors"
   ]
  },
  {
   "cell_type": "markdown",
   "metadata": {},
   "source": [
    "- [Fabien Maussion](http://fabienmaussion.info/) wrote these notes (unless specified otherwise, e.g. for some tutorials)\n",
    "- [Matthias Göbel](https://www.uibk.ac.at/acinn/people/matthias-goebel.html.en) and [Lilian Schuster](https://www.uibk.ac.at/acinn/people/lilian-schuster.html.en) (student assistants in ss2018 and WS2018/19) reviewed and proof read them"
   ]
  },
  {
   "cell_type": "markdown",
   "metadata": {},
   "source": [
    " <font color=\"red\">To access last year's course (winter semester 2020), visit:</font> [https://fabienmaussion.info/scipro_ws2020](https://fabienmaussion.info/scipro_ws2020)"
   ]
  }
 ],
 "metadata": {
  "hide_input": false,
  "kernelspec": {
   "display_name": "Python 3 (ipykernel)",
   "language": "python",
   "name": "python3"
  },
  "language_info": {
   "codemirror_mode": {
    "name": "ipython",
    "version": 3
   },
   "file_extension": ".py",
   "mimetype": "text/x-python",
   "name": "python",
   "nbconvert_exporter": "python",
   "pygments_lexer": "ipython3",
   "version": "3.8.5"
  },
  "latex_envs": {
   "LaTeX_envs_menu_present": true,
   "autoclose": false,
   "autocomplete": true,
   "bibliofile": "biblio.bib",
   "cite_by": "apalike",
   "current_citInitial": 1,
   "eqLabelWithNumbers": true,
   "eqNumInitial": 1,
   "hotkeys": {
    "equation": "Ctrl-E",
    "itemize": "Ctrl-I"
   },
   "labels_anchors": false,
   "latex_user_defs": false,
   "report_style_numbering": false,
   "user_envs_cfg": false
  },
  "nbTranslate": {
   "displayLangs": [
    "*"
   ],
   "hotkey": "alt-t",
   "langInMainMenu": true,
   "sourceLang": "en",
   "targetLang": "fr",
   "useGoogleTranslate": true
  },
  "toc": {
   "base_numbering": 1,
   "nav_menu": {},
   "number_sections": false,
   "sideBar": true,
   "skip_h1_title": false,
   "title_cell": "Table of Contents",
   "title_sidebar": "Contents",
   "toc_cell": false,
   "toc_position": {},
   "toc_section_display": "block",
   "toc_window_display": true
  }
 },
 "nbformat": 4,
 "nbformat_minor": 4
}
