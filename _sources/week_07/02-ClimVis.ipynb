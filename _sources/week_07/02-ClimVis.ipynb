{
 "cells": [
  {
   "cell_type": "markdown",
   "metadata": {},
   "source": [
    "# Term project: the ClimVis package"
   ]
  },
  {
   "cell_type": "markdown",
   "metadata": {},
   "source": [
    "This is the main project of this semester, and will count for 40% of the final grade. The submission is going to happen in three stages:\n",
    "\n",
    "**Careful!!! New deadlines after the student vote on November 30.**\n",
    "\n",
    "- **First submission deadline: Monday 10.01.2022 at 00H00** (midnight on Sunday): one ``.zip`` file per group containing their version of the climvis package\n",
    "- Code review by me and ~30 min feedback round per group (online meeting between January 11th and 14th, to be scheduled individually)\n",
    "- **Second submission deadline: Tuesday 25.01.2022 at 00H00**  (midnight on Monday). Same project with reviews addressed (reviews are small requested changes to the existing project, not a big change) \n",
    "- **Bonus:** on Tuesday 25.01, I will ask all the groups to shortly \"showcase\" their project, i.e. run their app for the class and show what it can be used for. This is not graded, and is more for fun and exchange than anything else!\n",
    "\n",
    "Here is an *indicative* (i.e. this might change slightly) table I'll use for the grading:\n",
    "\n",
    "**Group grade (10 points):**\n",
    "- Documentation: 3 *(project documentation + individual contributions' docstrings, i.e. no individual grade here)*\n",
    "- Integration tests: 2 *(tool / project level tests)*\n",
    "- pep8: 1 *(compliance to pep8)*\n",
    "- Coherence: 1 *(how do the individual contributions fit together, i.e. was there an effort of documentation at least)*\n",
    "- Traceability: 1 *(who did what, are the author(s) name(s) provided in the function's docstrings)*\n",
    "- Response to reviews: 2 *(reaction to the code reviews and updates, although a bad or no response to the review can lead to a refusal)*\n",
    "\n",
    "**Individual grade (10 points):**\n",
    "- Complexity: 5 *(level and complexity of the implemented tools, i.e. amount of programming work)*\n",
    "- Originality: 3 *(did you do something more than following the list of suggestions)*\n",
    "- Unit tests: 2 *(individual, function tests)*\n",
    "\n",
    "```{important}\n",
    "I will try and test the code (using `pytest`) on my computer - any new data or library that is necessary should be documented in the code, or in the command line utility documentation!\n",
    "```"
   ]
  },
  {
   "cell_type": "markdown",
   "metadata": {},
   "source": [
    "## The climvis package"
   ]
  },
  {
   "cell_type": "markdown",
   "metadata": {},
   "source": [
    "I've written a small package called **climvis**. Its design is based on the [template package](https://github.com/fmaussion/scispack), but this time it really does something.\n",
    "\n",
    "**Download the zipped package from [here](https://github.com/fmaussion/climvis/archive/master.zip) and extract it. Read the README and the package requirements first. You will have to install the [motionless](https://github.com/ryancox/motionless) package (`conda install motionless`) for it to work.**\n",
    "\n",
    "**Now install climvis in development mode. If you are working on your own computer run:**\n",
    "\n",
    "    pip install -e .\n",
    "    \n",
    "from the root directory. **If you are working on a computer on which you have no admin rights, run:**\n",
    "\n",
    "    pip install --user -e .\n",
    "    \n",
    "instead."
   ]
  },
  {
   "cell_type": "markdown",
   "metadata": {},
   "source": [
    "**Try the command line interface (``cruvis -h``) from a terminal. Now explore ``setup.py``: can you identify what makes the command available from the terminal? Where is the code executing the command ``cruvis``?**"
   ]
  },
  {
   "cell_type": "markdown",
   "metadata": {},
   "source": [
    "**Familiarize yourself with the tool. Can you understand what the role of each function is?**"
   ]
  },
  {
   "cell_type": "markdown",
   "metadata": {},
   "source": [
    "**Can you run the tests successfully? Probably not. Somewhere in ``cfg.py``, a hard coded path is pointing to a non-existing directory.**\n",
    "\n",
    "**If you are working on your own computer, change the path to a local folder of yours and download the necessary data:**\n",
    "- [temperature](https://crudata.uea.ac.uk/cru/data/hrg/cru_ts_4.03/cruts.1905011326.v4.03/tmp/cru_ts4.03.1901.2018.tmp.dat.nc.gz)\n",
    "- [precipitation](https://crudata.uea.ac.uk/cru/data/hrg/cru_ts_4.03/cruts.1905011326.v4.03/pre/cru_ts4.03.1901.2018.pre.dat.nc.gz)\n",
    "- [elevation](https://cluster.klima.uni-bremen.de/~fmaussion/teaching/scipro/cru_cl1_topography.nc)\n",
    "\n",
    "**Careful! The total decompressed output is about 6GB large.**"
   ]
  },
  {
   "cell_type": "markdown",
   "metadata": {},
   "source": [
    "Make sure you are able to run the command succesfully before going on. For example, ``cruvis -l 12 47`` should work fine and display a page in your browser."
   ]
  },
  {
   "cell_type": "markdown",
   "metadata": {},
   "source": [
    "## Guided exercise: make the tool more robust"
   ]
  },
  {
   "cell_type": "markdown",
   "metadata": {},
   "source": [
    "Here are a couple of smaller tasks to get you started:\n",
    "- The hard coded path in ``cfg.py`` is very ugly. At the same time, we really need the CRU data for the tool to run! Add a safety check in the code in order to make sure the files are available. If the CRU files are not available, print the following message and exit the program:\n",
    "\n",
    "   ``The CRU files are not available on this system. For cruvis (part of the climvis package) to work properly, please create a file called \".climvis\" in your HOME directory, and indicate the path to the CRU directory in it.``\n",
    "\n",
    "- Add a small function in ``cfg.py`` which parses this new ``.climvis`` file and uses the given directory in place of the hard-coded one. Tip: you could make good use of [os.path.expanduser](https://docs.python.org/3/library/os.path.html#os.path.expanduser) for this function. Optional: you can even write a small command line program (e.g. `cruvis_setup`) which asks the user for the path of the CRU folder, checks if the data is available and if yes, write the file for the user.\n",
    "\n",
    "- Selecting a location over the oceans will raise a very uninformative python error message. Make the ``write_html`` function more robust: if the data contains NaNs, print a warning and exit the program."
   ]
  },
  {
   "cell_type": "markdown",
   "metadata": {},
   "source": [
    "## Project: make the tool better"
   ]
  },
  {
   "cell_type": "markdown",
   "metadata": {},
   "source": [
    "Now you should be ready to contribute to this great package! **Add at least N+1 simple functionalities** to it, where N is your group size. This functionality can be anything you want, as long as it makes you write some code. \n",
    "\n",
    "Here are some ideas of functionalities that you can adapt at wish.\n",
    "- you could add a plot of the 1901-2018 timeseries for this grid point, and make a robust trend analysis for the period.\n",
    "- you could add [other data from CRU](https://crudata.uea.ac.uk/cru/data/hrg/cru_ts_4.03/) to the plot.\n",
    "- you could add a new command to the tool called ``uibkvis``, which instead plots the data from the UIBK weather stations. For example, you could plot the temperature for all stations, or even better: give choices to the user as to what they want to plot. You'll have to document its command line options of course. You can get inspiration from the wind statistics we did together, but with more variables.\n",
    "- you could use a python [windrose](https://github.com/python-windrose/windrose) package to plot a windrose from the uibk data, and add the plot to a webpage\n",
    "- you could add an option to ``cruvis``, which accepts a city name instead of the lon and lat of the point. You could use the file shipped with the package for this (`world_cities.csv`: careful - it is quite a badly maintained file - i.e. duplicates and missing cities - and you might want to find another one).\n",
    "- you could add a new command line tool to compare the climate at two locations in one webpage.\n",
    "- you could parse any other data you'd find interesting from the web and plot it! For example, [upper air soundings](http://weather.uwyo.edu/upperair/sounding.html)? \n",
    "- you could use an interactive plotting library like [Bokeh](https://bokeh.pydata.org) (possibly by making use of higher level tools like [holoviews](http://holoviews.org/)) to make reactive plots in your HTML page. For example to visualize the ACINN data interactively?\n",
    "- **any idea you find interesting**! You can discuss some ideas with me beforehand if you are unsure if your idea is not enough or too much. Examples from previous years include:\n",
    "  - a \"fly safe\" info webpage, which scrapped data from the web specifically for flying\n",
    "  - an interactive bokeh app to visualize CRU climate trends in various cities\n",
    "  - an El Niño advisory page\n",
    "  - a bokeh tool to visualize radio soundings\n",
    "  - and more..."
   ]
  },
  {
   "cell_type": "markdown",
   "metadata": {},
   "source": [
    "## Expectations "
   ]
  },
  {
   "cell_type": "markdown",
   "metadata": {},
   "source": [
    "Some tasks in the list above are significantly simpler than others. Some of you might pick a project which is too ambitious and then reduce their expectations with time. Others might pick one of the simpler task and be finished very quickly.\n",
    "\n",
    "If you struggle to know what is expected of you, please just be honest with yourselves and with me. I am reluctant to impose thresholds on the number of lines of code, because I find this measure silly (many lines of code is NOT a measure of quality). My goal is that you all get better at programming after the project then when you started, regardless of your starting level. \n",
    "\n",
    "The list of possible topics should help you to decide on what to code, but otherwise I can provide a vague rule of thumb: if you coded 10 lines of code (without comments), that's probably not enough (unless they are very clever lines of code). If you coded 1000 lines of code, that's probably too much.\n",
    "\n",
    "I don't mind if you take an easy task, as long as you write something on your own, and write good code. The difficulty of the task will decide on the base grade, and the quality of the code / tests will add points on top. If you pick an \"easy\" task, you may also be in charge of adding the `+1` (in `N+1`) functionality for the group. Try to split the tasks within the group to get something coherent!\n",
    "\n",
    "You all have very different backgrounds and interest. Try to find a project you like, and convince me that you pushed your own programming limit a little bit and that you learned something in the process.\n",
    "\n",
    "Ah! And **don't forget to write tests.**"
   ]
  }
 ],
 "metadata": {
  "hide_input": false,
  "kernelspec": {
   "display_name": "Python 3 (ipykernel)",
   "language": "python",
   "name": "python3"
  },
  "language_info": {
   "codemirror_mode": {
    "name": "ipython",
    "version": 3
   },
   "file_extension": ".py",
   "mimetype": "text/x-python",
   "name": "python",
   "nbconvert_exporter": "python",
   "pygments_lexer": "ipython3",
   "version": "3.8.5"
  },
  "latex_envs": {
   "LaTeX_envs_menu_present": true,
   "autoclose": false,
   "autocomplete": true,
   "bibliofile": "biblio.bib",
   "cite_by": "apalike",
   "current_citInitial": 1,
   "eqLabelWithNumbers": true,
   "eqNumInitial": 1,
   "hotkeys": {
    "equation": "Ctrl-E",
    "itemize": "Ctrl-I"
   },
   "labels_anchors": false,
   "latex_user_defs": false,
   "report_style_numbering": false,
   "user_envs_cfg": false
  },
  "nbTranslate": {
   "displayLangs": [
    "*"
   ],
   "hotkey": "alt-t",
   "langInMainMenu": true,
   "sourceLang": "en",
   "targetLang": "fr",
   "useGoogleTranslate": true
  },
  "toc": {
   "base_numbering": 1,
   "nav_menu": {},
   "number_sections": false,
   "sideBar": true,
   "skip_h1_title": false,
   "title_cell": "Table of Contents",
   "title_sidebar": "Contents",
   "toc_cell": false,
   "toc_position": {},
   "toc_section_display": "block",
   "toc_window_display": false
  }
 },
 "nbformat": 4,
 "nbformat_minor": 4
}
