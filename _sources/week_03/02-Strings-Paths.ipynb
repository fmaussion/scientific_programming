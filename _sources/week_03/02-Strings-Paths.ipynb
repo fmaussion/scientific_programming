{
 "cells": [
  {
   "cell_type": "markdown",
   "metadata": {},
   "source": [
    "# String formatting and file paths"
   ]
  },
  {
   "cell_type": "markdown",
   "metadata": {},
   "source": [
    "A scientific data analysis workflow almost invariably implies downloading, manipulating and opening files. Often, it also implies writing new files (for example with post-processed data). Fortunately, python comes with many handy tools to format strings."
   ]
  },
  {
   "cell_type": "markdown",
   "metadata": {},
   "source": [
    "## String Formatting"
   ]
  },
  {
   "cell_type": "markdown",
   "metadata": {},
   "source": [
    "\"String formatting\" refers to formatting the content of variables (strings, numbers, paths, etc.) into strings, for example to display them on screen or to write them to a text file. Unfortunately, there are more than one way to format strings in python (actually there are at least 4!). This short section will guide you to the ones you should preferably use."
   ]
  },
  {
   "cell_type": "markdown",
   "metadata": {},
   "source": [
    "### The modern way: formatted string (\"f-string\") literals"
   ]
  },
  {
   "cell_type": "markdown",
   "metadata": {},
   "source": [
    "Consider the following example:"
   ]
  },
  {
   "cell_type": "code",
   "execution_count": 3,
   "metadata": {},
   "outputs": [
    {
     "name": "stdout",
     "output_type": "stream",
     "text": [
      "Hello Assane!\n"
     ]
    }
   ],
   "source": [
    "name = 'Assane'\n",
    "print(f'Hello {name}!')"
   ]
  },
  {
   "cell_type": "markdown",
   "metadata": {},
   "source": [
    "The important bits here is the **`f` prefix** to the string literal which indicates to the interpreter that the string might contain **curly braces**, which contain variable names that will be replaced with their values.\n",
    "\n",
    "Not only strings can be formatted into a string. Numbers can too:"
   ]
  },
  {
   "cell_type": "code",
   "execution_count": 4,
   "metadata": {},
   "outputs": [
    {
     "name": "stdout",
     "output_type": "stream",
     "text": [
      "Assane has 3 children.\n"
     ]
    }
   ],
   "source": [
    "n = 3\n",
    "print(f'{name} has {n} children.')"
   ]
  },
  {
   "cell_type": "code",
   "execution_count": 5,
   "metadata": {},
   "outputs": [
    {
     "name": "stdout",
     "output_type": "stream",
     "text": [
      "pi ≈ 3.14\n"
     ]
    }
   ],
   "source": [
    "pi = 3.14 \n",
    "print(f'pi ≈ {pi}')"
   ]
  },
  {
   "cell_type": "markdown",
   "metadata": {},
   "source": [
    "f-strings are very powerful. They can evaluate arbitrary expressions:"
   ]
  },
  {
   "cell_type": "code",
   "execution_count": 8,
   "metadata": {},
   "outputs": [
    {
     "name": "stdout",
     "output_type": "stream",
     "text": [
      "2 pi ≈ 6.28\n"
     ]
    }
   ],
   "source": [
    "print(f'2 pi ≈ {2 * pi}')"
   ]
  },
  {
   "cell_type": "markdown",
   "metadata": {},
   "source": [
    "This feature is to be used with care, you probably don't want to have very complicated expressions within your f-strings!"
   ]
  },
  {
   "cell_type": "markdown",
   "metadata": {},
   "source": [
    "### Formatting numbers in strings"
   ]
  },
  {
   "cell_type": "markdown",
   "metadata": {},
   "source": [
    "Very often, you want your strings to be of predictable length and format. For example, you may want float numbers to be printed only with a chosen precision:"
   ]
  },
  {
   "cell_type": "code",
   "execution_count": 24,
   "metadata": {},
   "outputs": [
    {
     "name": "stdout",
     "output_type": "stream",
     "text": [
      "Set free: 0.6666666666666666\n",
      "Formatted to 2 decimals: 0.67\n",
      "Formatted to an integer: 0\n",
      "Formatted to a rounded integer: 1\n",
      "Formatted to a rounded integer with leading spaces:    1\n",
      "Formatted to a rounded integer with leading zeros: 0001\n"
     ]
    }
   ],
   "source": [
    "frac = 2 / 3\n",
    "print(f'Set free: {frac}')\n",
    "print(f'Formatted to 2 decimals: {frac:.2f}')  # f is for \"float\"\n",
    "print(f'Formatted to an integer: {int(frac)}')\n",
    "print(f'Formatted to a rounded integer: {round(frac)}')\n",
    "print(f'Formatted to a rounded integer with leading spaces: {round(frac):4d}')  # d is for \"int\"\n",
    "print(f'Formatted to a rounded integer with leading zeros: {round(frac):04d}')"
   ]
  },
  {
   "cell_type": "markdown",
   "metadata": {},
   "source": [
    "### Formatting dates in strings "
   ]
  },
  {
   "cell_type": "markdown",
   "metadata": {},
   "source": [
    "Also possible:"
   ]
  },
  {
   "cell_type": "code",
   "execution_count": 26,
   "metadata": {},
   "outputs": [
    {
     "name": "stdout",
     "output_type": "stream",
     "text": [
      "2021-10-18 21:27:58.415456\n",
      "2021-10-18 21:27\n"
     ]
    }
   ],
   "source": [
    "import datetime\n",
    "now = datetime.datetime.now()\n",
    "\n",
    "print(now)\n",
    "print(f'{now:%Y-%m-%d %H:%M}')"
   ]
  },
  {
   "cell_type": "markdown",
   "metadata": {},
   "source": [
    "### The old ways"
   ]
  },
  {
   "cell_type": "markdown",
   "metadata": {},
   "source": [
    "f-strings have been added to python in version 3.6 (en of 2016: that's only a few years back!). Before that, two other string formatting tools were available and are still used today. Therefore, you should learn them as well."
   ]
  },
  {
   "cell_type": "markdown",
   "metadata": {},
   "source": [
    "#### The \"not too old\" way: `.format()` (still useful!)"
   ]
  },
  {
   "cell_type": "markdown",
   "metadata": {},
   "source": [
    "This string formatting method was introduced with python 3 (so that's already a bit older). It works with appending a call to the `.format()` method to a string:"
   ]
  },
  {
   "cell_type": "code",
   "execution_count": 39,
   "metadata": {},
   "outputs": [
    {
     "name": "stdout",
     "output_type": "stream",
     "text": [
      "Hello, Assane!\n"
     ]
    }
   ],
   "source": [
    "print('Hello, {}!'.format(name))"
   ]
  },
  {
   "cell_type": "markdown",
   "metadata": {},
   "source": [
    "No `f` prefix here (don't mix them up!). Otherwise, it works more or less the same:"
   ]
  },
  {
   "cell_type": "code",
   "execution_count": 40,
   "metadata": {},
   "outputs": [
    {
     "name": "stdout",
     "output_type": "stream",
     "text": [
      "Assane has 3 children.\n",
      "Assane has 03 children, right?\n"
     ]
    }
   ],
   "source": [
    "print('{} has {} children.'.format(name, n))\n",
    "print('{name_of_person} has {n_children:02d} children, right?'.format(n_children=n, name_of_person=name))"
   ]
  },
  {
   "cell_type": "markdown",
   "metadata": {},
   "source": [
    "You see where this is going! This is pretty much the same syntax, but a bit more verbose. f-strings are generally more readable and should be preferred, but the `.format()` can be useful in very specific cases, as shown in the `greetings` example from the previous lesson which I adapt here: "
   ]
  },
  {
   "cell_type": "code",
   "execution_count": 41,
   "metadata": {},
   "outputs": [
    {
     "name": "stdout",
     "output_type": "stream",
     "text": [
      "Hey Lesedi! I think you should come over to Cape Town and visit Table Mountain.\n"
     ]
    }
   ],
   "source": [
    "template_string = 'Hey {name}! I think you should come over to {city} and visit {place}.'\n",
    "# some code ommitted here...\n",
    "print(template_string.format(name='Lesedi', city='Cape Town', place='Table Mountain'))"
   ]
  },
  {
   "cell_type": "markdown",
   "metadata": {},
   "source": [
    "The nice thing in the example above is that you can create a template string early in your script, that you can \"fill\" with values later in your program."
   ]
  },
  {
   "cell_type": "markdown",
   "metadata": {},
   "source": [
    "#### The very old way: the `%` operator"
   ]
  },
  {
   "cell_type": "markdown",
   "metadata": {},
   "source": [
    "This was the standard in python 2 but is still working today (and will continue to work in the future):"
   ]
  },
  {
   "cell_type": "code",
   "execution_count": 44,
   "metadata": {},
   "outputs": [
    {
     "name": "stdout",
     "output_type": "stream",
     "text": [
      "Hello Assane!\n"
     ]
    }
   ],
   "source": [
    "print('Hello %s!' % name)"
   ]
  },
  {
   "cell_type": "markdown",
   "metadata": {},
   "source": [
    "We don't like this way, but you may encounter it in some older code."
   ]
  },
  {
   "cell_type": "markdown",
   "metadata": {},
   "source": [
    "### Take home: string formatting "
   ]
  },
  {
   "cell_type": "markdown",
   "metadata": {},
   "source": [
    "- there is probably *no string format* you can think of that doesn't have a formatting solution (people are manipulating strings all the time)\n",
    "- use f-strings! They are great.\n",
    "- sometimes, use `.format()`. This is also great.\n",
    "- if you want more examples, read [this tutorial from the python docs](https://docs.python.org/3/tutorial/inputoutput.html)"
   ]
  },
  {
   "cell_type": "markdown",
   "metadata": {},
   "source": [
    "## Path handling in python"
   ]
  },
  {
   "cell_type": "markdown",
   "metadata": {},
   "source": [
    "Handling file paths is one of the less fun parts of a scientist's job, I agree. But we just have to do it, there is no way around it.\n",
    "\n",
    "Here I will write some content myself, but it's late and for now just read this [short blog post](https://medium.com/@ageitgey/python-3-quick-tip-the-easy-way-to-deal-with-file-paths-on-windows-mac-and-linux-11a072b58d5f)."
   ]
  },
  {
   "cell_type": "markdown",
   "metadata": {},
   "source": [
    "### Take home: path handling"
   ]
  },
  {
   "cell_type": "markdown",
   "metadata": {},
   "source": [
    "- never use `+` and other string shenanigans to handle your file paths\n",
    "- [os.path](https://docs.python.org/3/library/os.path.html) and, in particular, `os.path.join` is a simple way to deal with paths as strings\n",
    "- [pathlib](https://docs.python.org/3/library/pathlib.html) is the new cool kid in the block. It works very well but might confuse you at first."
   ]
  }
 ],
 "metadata": {
  "hide_input": false,
  "kernelspec": {
   "display_name": "Python 3 (ipykernel)",
   "language": "python",
   "name": "python3"
  },
  "language_info": {
   "codemirror_mode": {
    "name": "ipython",
    "version": 3
   },
   "file_extension": ".py",
   "mimetype": "text/x-python",
   "name": "python",
   "nbconvert_exporter": "python",
   "pygments_lexer": "ipython3",
   "version": "3.8.5"
  },
  "latex_envs": {
   "LaTeX_envs_menu_present": true,
   "autoclose": false,
   "autocomplete": true,
   "bibliofile": "biblio.bib",
   "cite_by": "apalike",
   "current_citInitial": 1,
   "eqLabelWithNumbers": true,
   "eqNumInitial": 1,
   "hotkeys": {
    "equation": "Ctrl-E",
    "itemize": "Ctrl-I"
   },
   "labels_anchors": false,
   "latex_user_defs": false,
   "report_style_numbering": false,
   "user_envs_cfg": false
  },
  "nbTranslate": {
   "displayLangs": [
    "*"
   ],
   "hotkey": "alt-t",
   "langInMainMenu": true,
   "sourceLang": "en",
   "targetLang": "fr",
   "useGoogleTranslate": true
  },
  "toc": {
   "base_numbering": "8",
   "nav_menu": {},
   "number_sections": true,
   "sideBar": true,
   "skip_h1_title": false,
   "title_cell": "Table of Contents",
   "title_sidebar": "Contents",
   "toc_cell": true,
   "toc_position": {
    "height": "calc(100% - 180px)",
    "left": "10px",
    "top": "150px",
    "width": "384px"
   },
   "toc_section_display": "block",
   "toc_window_display": true
  }
 },
 "nbformat": 4,
 "nbformat_minor": 4
}
