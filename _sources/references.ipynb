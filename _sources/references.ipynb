{
 "cells": [
  {
   "cell_type": "markdown",
   "metadata": {},
   "source": [
    "# External resources "
   ]
  },
  {
   "cell_type": "markdown",
   "metadata": {},
   "source": [
    "Resources used (and linked) in these lecture notes:\n",
    "\n",
    "\n",
    "**Prerequisites:**\n",
    "- [Programming for Everybody (Getting Started with Python)](https://www.edx.org/course/programming-for-everybody-getting-started-with-python) from EdX: if you have no programming experience, this is recommended *before* you take this lecture, this will guide you through the first programming steps. If you are able to learn by yourself, the textbook is [available for free](https://www.py4e.com).\n",
    "\n",
    "**Linux and bash scripting:**\n",
    "- [Ryan's Tutorials](https://ryanstutorials.net/) for the linux command line and bash scripting are entertaining and well designed.\n",
    "\n",
    "**Python tutorials:**\n",
    "- the [official tutorial](https://docs.python.org/3/tutorial/index.html), always a good place to start.\n",
    "- the [scipy lecture notes](http://scipy-lectures.org), a good overview of the scientific python stack for scientists with previous programming experience.\n",
    "\n",
    "**Python reference:**\n",
    "- the [python documentation](https://docs.python.org) is your best reference for any question related to the language and the standard library.\n",
    "\n",
    "**Testing**\n",
    "- Katy Huff's [scientific python testing tutorial](http://carpentries-incubator.github.io/python-testing/): a one and a half hour introduction to testing practices, from the basics to continuous integration\n",
    "\n",
    "**Floating point precision errors**\n",
    "- Python's [Floating Point Arithmetic](https://docs.python.org/3/tutorial/floatingpoint.html) article is a good read but a bit tough for beginners\n",
    "- [What Every Programmer Should Know About Floating-Point Arithmetic](https://floating-point-gui.de/) is a more gentle introduction, but you still might want to use a search engine for more information.\n",
    "\n",
    "**Numpy**\n",
    "- [Why python is slow](https://jakevdp.github.io/blog/2014/05/09/why-python-is-slow/) by Jake Vanderplas\n",
    "- [From Python to Numpy](http://www.labri.fr/perso/nrougier/from-python-to-numpy/) by Nicolas P. Rougier: an open-access book on numpy vectorization techniques (rather advanced).\n",
    "- [The numpy reference](https://docs.scipy.org/doc/numpy/reference/index.html): the official documentation is always the best place to obtain first hand information.\n",
    "\n",
    "**Scientific Python**\n",
    "- [Python Data Science Handbook](https://jakevdp.github.io/PythonDataScienceHandbook/) by Jake Vanderplas: an open-access  textbook on using Python for Scientists\n",
    "\n",
    "**Python scripts, packages, namespaces and scopes**\n",
    "- an [entry level tutorial from RealPython](https://realpython.com/run-python-scripts/) about python scripts\n",
    "- [blog post by Sebastian Raschka](https://sebastianraschka.com/Articles/2014_python_scope_and_namespaces.html#scope-resolution-for-variable-names-via-the-legb-rule): A Beginner's Guide to Python's Namespaces, Scope Resolution, and the LEGB Rule\n",
    "\n",
    "**Object Oriented Programming**\n",
    "The web is full of blog posts and basic tutorials about OOP in python. Unfortunately, most of them make a poor job at explaining *why* OOP can be useful and when not. I will try to find better resources, but for now I recommend:\n",
    "- [RealPython's beginner tutorial](https://realpython.com/python3-object-oriented-programming/)\n",
    "- [Wikipedia page about OOP](https://en.wikipedia.org/wiki/Object-oriented_programming)\n",
    "- <a href=\"https://en.wikipedia.org/wiki/Inheritance_(object-oriented_programming\">Wikipedia page about inheritance</a>\n",
    "\n",
    "**Documentation**\n",
    "- [A beginner’s guide to writing documentation](http://www.writethedocs.org/guide/writing/beginners-guide-to-docs/)\n",
    "\n",
    "**Some youtube videos about tech in general**\n",
    "- [A fun but though-provoking talk about machine learning and why we should think before we do things](https://www.youtube.com/watch?v=ajGX7odA87k)\n",
    "\n",
    "*(this list will be updated when the notes get written further)*"
   ]
  },
  {
   "cell_type": "code",
   "execution_count": null,
   "metadata": {},
   "outputs": [],
   "source": []
  }
 ],
 "metadata": {
  "kernelspec": {
   "display_name": "Python 3 (ipykernel)",
   "language": "python",
   "name": "python3"
  },
  "language_info": {
   "codemirror_mode": {
    "name": "ipython",
    "version": 3
   },
   "file_extension": ".py",
   "mimetype": "text/x-python",
   "name": "python",
   "nbconvert_exporter": "python",
   "pygments_lexer": "ipython3",
   "version": "3.10.6"
  }
 },
 "nbformat": 4,
 "nbformat_minor": 4
}
