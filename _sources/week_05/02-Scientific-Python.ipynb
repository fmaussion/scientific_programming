{
 "cells": [
  {
   "cell_type": "markdown",
   "metadata": {},
   "source": [
    "# 02 - The scientific python stack"
   ]
  },
  {
   "cell_type": "markdown",
   "metadata": {},
   "source": [
    "Unlike Matlab, the set of Python tools used by scientists does not come from one single source. It is the result of a non-coordinated, chaotic and creative development process originating from a community of volunteers and professionals. \n",
    "\n",
    "In this chapter I will shortly describe some of the essential tools that every scientific python programmer should know about. It is not representative or complete: it's just a list of packages I happen to know about, and I surely missed many of them."
   ]
  },
  {
   "cell_type": "markdown",
   "metadata": {},
   "source": [
    "## Python's scientific ecosystem"
   ]
  },
  {
   "cell_type": "markdown",
   "metadata": {},
   "source": [
    "The set of python scientific packages is sometimes referred to as the \"scientific python ecosystem\". I didn't find an official explanation for this name, but I guess that it has something to do with the fact that many packages rely on the others to build new features on top of them, like a natural ecosystem.\n",
    "\n",
    "Jake Vanderplas made a great graphic in a [2015 presentation](https://speakerdeck.com/jakevdp/the-state-of-the-stack-scipy-2015-keynote) (the video of the presentation is also [available here](https://www.youtube.com/watch?v=5GlNDD7qbP4) if you are interested), and I took the liberty to adapt it a little bit:"
   ]
  },
  {
   "cell_type": "markdown",
   "metadata": {},
   "source": [
    "![img](https://fabienmaussion.info/acinn_python_workshop/figures/scipy_ecosystem.png)"
   ]
  },
  {
   "cell_type": "markdown",
   "metadata": {},
   "source": [
    "## The core packages "
   ]
  },
  {
   "cell_type": "markdown",
   "metadata": {},
   "source": [
    "\n",
    "- **numpy**: [documentation](https://docs.scipy.org/doc/), [code repository](https://github.com/numpy/numpy)\n",
    "- **scipy**: [documentation](https://docs.scipy.org/doc/scipy/reference/), [code repository](https://github.com/scipy/scipy)\n",
    "- **matplotlib**: [documentation](https://matplotlib.org/), [code repository](https://github.com/matplotlib/matplotlib)\n",
    "\n",
    "Numpy provides the N-dimensional arrays necessary to do fast computations, and SciPy adds the fundamental scientific tools to it. SciPy is a very large package and covers many aspects of the scientific workflow. It is organized in submodules, all dedicated to a specific aspect of data processing. For example: [scipy.integrate](https://docs.scipy.org/doc/scipy/reference/integrate.html), [scipy.optimize](https://docs.scipy.org/doc/scipy/reference/optimize.html), or [scipy.linalg](https://docs.scipy.org/doc/scipy/reference/linalg.html). Matplotlib is the traditional package to make graphics in python."
   ]
  },
  {
   "cell_type": "markdown",
   "metadata": {},
   "source": [
    "## Essential numpy \"extensions\""
   ]
  },
  {
   "cell_type": "markdown",
   "metadata": {},
   "source": [
    "There are two packages which I consider essential when it comes to data processing:\n",
    "- **pandas** provides data structures designed to make working with labeled data both easy and intuitive ([documentation](http://pandas.pydata.org/pandas-docs/stable/), [code repository](https://github.com/pandas-dev/pandas)). \n",
    "- **xarray** extends pandas to N-dimensional arrays ([documentation](http://xarray.pydata.org), [code repository](https://github.com/pydata/xarray)).\n",
    "\n",
    "They both add a layer of abstraction to numpy arrays, giving \"names\" and \"labels\" to their dimensions and the data they contain. We will talk about them in the lecture, and most importantly, you will use both of them during the climate and cryosphere master lectures."
   ]
  },
  {
   "cell_type": "markdown",
   "metadata": {},
   "source": [
    "## Domain specific packages "
   ]
  },
  {
   "cell_type": "markdown",
   "metadata": {},
   "source": [
    "There are so many of them! I can't list them all, but here are a few that you will probably come across in your career:\n",
    "\n",
    "**Geosciences/Meteorology**:\n",
    "- [MetPy](https://unidata.github.io/MetPy/latest/index.html): the meteorology toolbox\n",
    "- [Cartopy](https://scitools.org.uk/cartopy): maps and map projections\n",
    "- [xESMF](https://xesmf.readthedocs.io/en/latest/): Universal Regridder for Geospatial Data\n",
    "- [xgcm](https://xgcm.readthedocs.io/en/latest/): General Circulation Model Postprocessing with xarray\n",
    "- [GeoPandas](http://geopandas.org/): Pandas for vector data\n",
    "- [Rasterio](https://rasterio.readthedocs.io/en/latest/): geospatial raster data I/O\n",
    "\n",
    "**Statistics/Machine Learning**:\n",
    "- [Statsmodels](https://www.statsmodels.org/stable/index.html): statistic toolbox for models and tests\n",
    "- [Seaborn](https://seaborn.pydata.org/index.html): statistical data visualization\n",
    "- [Scikit-learn](http://scikit-learn.org/): machine learning tools\n",
    "- [TensorFlow](https://www.tensorflow.org/): Google's brain\n",
    "- [PyTorch](https://pytorch.org/): Facebook's brain\n",
    "\n",
    "**Miscellaneous**:\n",
    "- [Scikit-image](https://scikit-image.org/): image processing\n",
    "- [Bokeh](https://bokeh.pydata.org/en/latest/): interactive plots\n",
    "- [Dask](http://docs.dask.org/en/latest/): parallel computing\n",
    "- ..."
   ]
  }
 ],
 "metadata": {
  "hide_input": false,
  "kernelspec": {
   "display_name": "Python 3",
   "language": "python",
   "name": "python3"
  },
  "language_info": {
   "codemirror_mode": {
    "name": "ipython",
    "version": 3
   },
   "file_extension": ".py",
   "mimetype": "text/x-python",
   "name": "python",
   "nbconvert_exporter": "python",
   "pygments_lexer": "ipython3",
   "version": "3.8.5"
  },
  "latex_envs": {
   "LaTeX_envs_menu_present": true,
   "autoclose": false,
   "autocomplete": true,
   "bibliofile": "biblio.bib",
   "cite_by": "apalike",
   "current_citInitial": 1,
   "eqLabelWithNumbers": true,
   "eqNumInitial": 1,
   "hotkeys": {
    "equation": "Ctrl-E",
    "itemize": "Ctrl-I"
   },
   "labels_anchors": false,
   "latex_user_defs": false,
   "report_style_numbering": false,
   "user_envs_cfg": false
  },
  "nbTranslate": {
   "displayLangs": [
    "*"
   ],
   "hotkey": "alt-t",
   "langInMainMenu": true,
   "sourceLang": "en",
   "targetLang": "fr",
   "useGoogleTranslate": true
  },
  "toc": {
   "base_numbering": "15",
   "nav_menu": {},
   "number_sections": true,
   "sideBar": true,
   "skip_h1_title": false,
   "title_cell": "Table of Contents",
   "title_sidebar": "Contents",
   "toc_cell": true,
   "toc_position": {
    "height": "calc(100% - 180px)",
    "left": "10px",
    "top": "150px",
    "width": "384px"
   },
   "toc_section_display": "block",
   "toc_window_display": true
  }
 },
 "nbformat": 4,
 "nbformat_minor": 4
}
