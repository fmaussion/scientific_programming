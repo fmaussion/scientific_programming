{
 "cells": [
  {
   "cell_type": "markdown",
   "metadata": {},
   "source": [
    "# Assignment #07: Pydemic"
   ]
  },
  {
   "cell_type": "markdown",
   "metadata": {},
   "source": [
    "[Pydemic](https://github.com/fmaussion/pydemic) is a simple [agent-based model](https://en.wikipedia.org/wiki/Agent-based_model) of a pandemic.\n",
    "\n",
    "Agents are perfect to teach the basics of object-oriented programming. Note that I wrote the program with this goal in mind, *not* for performance or accuracy. I also just wrote the program in a few hours, so there is room for improvement. You are welcome to help me out!\n",
    "\n",
    "Start by getting an overview of the model structure.\n",
    "\n",
    "**Sensitivity analyses**: starting from the default parameter values, vary one parameter at a time and study the consequences for the temporal trajectory of the pandemic. Of particular relevance are the following: (i) agent density (number of agents per pixel), (ii) initial number of infected agents (is it possible to start a pandemic with a single infected individual? What are the settings that favor this?), (iii) agent mobility, (iv) probability of infection, (v) time until recover.\n",
    "\n",
    "**Add at least one functionality to the model.** Ideas:\n",
    "- add a timer for immunity loss (this can be complexified by computing the probability of infection as a function of time since infection / vaccination)\n",
    "- add vaccination as a way to gain immunity\n",
    "- add a new agent status: hospitalized. When an agent is hospitalized it is out of the domain and may die.\n",
    "- add a healthcare threshold, above which the hospitalized patients are more likely to die.\n",
    "- add politics: when a certain threshold is reached, impose a lockdown.\n",
    "- etc.\n",
    "\n",
    "You don't have to add too many of those (unless you have a lot of fun). Pydemic will keep us busy for the next couple of weeks, so take it easy!"
   ]
  }
 ],
 "metadata": {
  "hide_input": false,
  "kernelspec": {
   "display_name": "Python 3 (ipykernel)",
   "language": "python",
   "name": "python3"
  },
  "language_info": {
   "codemirror_mode": {
    "name": "ipython",
    "version": 3
   },
   "file_extension": ".py",
   "mimetype": "text/x-python",
   "name": "python",
   "nbconvert_exporter": "python",
   "pygments_lexer": "ipython3",
   "version": "3.8.5"
  },
  "latex_envs": {
   "LaTeX_envs_menu_present": true,
   "autoclose": false,
   "autocomplete": true,
   "bibliofile": "biblio.bib",
   "cite_by": "apalike",
   "current_citInitial": 1,
   "eqLabelWithNumbers": true,
   "eqNumInitial": 1,
   "hotkeys": {
    "equation": "Ctrl-E",
    "itemize": "Ctrl-I"
   },
   "labels_anchors": false,
   "latex_user_defs": false,
   "report_style_numbering": false,
   "user_envs_cfg": false
  },
  "nbTranslate": {
   "displayLangs": [
    "*"
   ],
   "hotkey": "alt-t",
   "langInMainMenu": true,
   "sourceLang": "en",
   "targetLang": "fr",
   "useGoogleTranslate": true
  },
  "toc": {
   "base_numbering": 1,
   "nav_menu": {},
   "number_sections": false,
   "sideBar": true,
   "skip_h1_title": false,
   "title_cell": "Table of Contents",
   "title_sidebar": "Contents",
   "toc_cell": false,
   "toc_position": {},
   "toc_section_display": "block",
   "toc_window_display": false
  }
 },
 "nbformat": 4,
 "nbformat_minor": 4
}
