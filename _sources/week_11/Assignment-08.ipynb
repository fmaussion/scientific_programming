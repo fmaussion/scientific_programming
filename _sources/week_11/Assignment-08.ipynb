{
 "cells": [
  {
   "cell_type": "markdown",
   "metadata": {},
   "source": [
    "# Assignment #08: Pydemic - second wave"
   ]
  },
  {
   "cell_type": "markdown",
   "metadata": {},
   "source": [
    "[Pydemic](https://github.com/fmaussion/pydemic) is a simple [agent-based model](https://en.wikipedia.org/wiki/Agent-based_model) of a pandemic.\n",
    "\n",
    "We already used it for the previous assignment.\n",
    "\n",
    "```{warning} \n",
    "I changed parts of the code since the last version of pydemic to make the tool a bit more realistic, and I also standardized the output (it is now an `xarray` dataset). Your code from last week may need to be adapted if you want to carry it over to this new version (not necessary).\n",
    "```\n",
    "\n",
    "This time, we want to illustrate how to use inheritance in OOP. Your task is to develop a child class of `NaiveAgent` called `PolicyAwareAgent`. These agents behave much like `NaiveAgents`, with one exception: they can go into quarantine. After a given incubation time (say 3 days) during which the agents are contagious but unaware that they are sick, the agents will go into quarantine and therefore are out of the domain and do not pose a risk to the other agents.\n",
    "\n",
    "*Other possible enhancements:*\n",
    "- *`PolicyAwareAgents` are aware of the number of contagious agents at a given time and decide to quarantine themselves when the infection rate is high*\n",
    "- *the simulation is a mix of `NaiveAgents` and `PolicyAwareAgents`*\n",
    "- *hospitals have a capacity limit, above which the mortality rate doubles*\n",
    "- *etc.*"
   ]
  }
 ],
 "metadata": {
  "hide_input": false,
  "kernelspec": {
   "display_name": "Python 3 (ipykernel)",
   "language": "python",
   "name": "python3"
  },
  "language_info": {
   "codemirror_mode": {
    "name": "ipython",
    "version": 3
   },
   "file_extension": ".py",
   "mimetype": "text/x-python",
   "name": "python",
   "nbconvert_exporter": "python",
   "pygments_lexer": "ipython3",
   "version": "3.8.5"
  },
  "latex_envs": {
   "LaTeX_envs_menu_present": true,
   "autoclose": false,
   "autocomplete": true,
   "bibliofile": "biblio.bib",
   "cite_by": "apalike",
   "current_citInitial": 1,
   "eqLabelWithNumbers": true,
   "eqNumInitial": 1,
   "hotkeys": {
    "equation": "Ctrl-E",
    "itemize": "Ctrl-I"
   },
   "labels_anchors": false,
   "latex_user_defs": false,
   "report_style_numbering": false,
   "user_envs_cfg": false
  },
  "nbTranslate": {
   "displayLangs": [
    "*"
   ],
   "hotkey": "alt-t",
   "langInMainMenu": true,
   "sourceLang": "en",
   "targetLang": "fr",
   "useGoogleTranslate": true
  },
  "toc": {
   "base_numbering": 1,
   "nav_menu": {},
   "number_sections": false,
   "sideBar": true,
   "skip_h1_title": false,
   "title_cell": "Table of Contents",
   "title_sidebar": "Contents",
   "toc_cell": false,
   "toc_position": {},
   "toc_section_display": "block",
   "toc_window_display": false
  }
 },
 "nbformat": 4,
 "nbformat_minor": 4
}
