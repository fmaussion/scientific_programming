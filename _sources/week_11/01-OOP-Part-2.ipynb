{
 "cells": [
  {
   "cell_type": "markdown",
   "metadata": {},
   "source": [
    "# Object Oriented Programming: inheritance"
   ]
  },
  {
   "cell_type": "markdown",
   "metadata": {},
   "source": [
    "Last week we learned the basic structure of python classes and introduced new semantics: classes, instances, methods, attributes... Today we learn about a very important feature of most OOP languages: **inheritance**. "
   ]
  },
  {
   "cell_type": "markdown",
   "metadata": {},
   "source": [
    "## Class inheritance: introduction"
   ]
  },
  {
   "cell_type": "markdown",
   "metadata": {},
   "source": [
    "**Inheritance** is a core concept of OOP. It allows a **subclass**  (also called \"**child class**\") to override or extend methods and attributes from a **base class** (also called \"**parent class**\"). In other words, child classes inherit all of the parent's attributes and behaviors but can also specify new behaviors or replace old ones. \n",
    "\n",
    "This is best shown with an example: let's make the ``Cat`` and ``Dog`` class inherit from the ``Pet`` class."
   ]
  },
  {
   "cell_type": "code",
   "execution_count": 1,
   "metadata": {},
   "outputs": [],
   "source": [
    "class Pet:\n",
    "\n",
    "    # Initializer\n",
    "    def __init__(self, name, weight):\n",
    "        self.name = name\n",
    "        self.weight = weight\n",
    "\n",
    "    def eat_food(self, food):\n",
    "        self.weight += food\n",
    "\n",
    "    @property\n",
    "    def weight_lbs(self):\n",
    "        return self.weight / 0.45359237\n",
    "\n",
    "    def say_name_loudly(self):\n",
    "        return self.say_name().upper()\n",
    "\n",
    "\n",
    "class Cat(Pet):\n",
    "\n",
    "    # Class attribute\n",
    "    language = 'Meow'\n",
    "\n",
    "    # Method\n",
    "    def say_name(self):\n",
    "        return '{}, my name is {} and I am nice!'.format(self.language, self.name)\n",
    "\n",
    "\n",
    "class Dog(Pet):\n",
    "\n",
    "    # Class attribute\n",
    "    language = 'Woof'\n",
    "\n",
    "    # Method\n",
    "    def say_name(self):\n",
    "        return '{}, my name is {} and I smell funny!'.format(self.language, self.name)"
   ]
  },
  {
   "cell_type": "markdown",
   "metadata": {},
   "source": [
    "Let's advance through this example step by step.\n",
    "\n",
    "First, let's have a look at the ``Pet`` class. It is a standard class defined the exact same way as in the previous lecture. Therefore, it can be instantiated and will work as expected:"
   ]
  },
  {
   "cell_type": "code",
   "execution_count": 2,
   "metadata": {},
   "outputs": [
    {
     "data": {
      "text/plain": [
       "22.046226218487757"
      ]
     },
     "execution_count": 2,
     "metadata": {},
     "output_type": "execute_result"
    }
   ],
   "source": [
    "p = Pet('PetName', 10)\n",
    "p.weight_lbs"
   ]
  },
  {
   "cell_type": "markdown",
   "metadata": {},
   "source": [
    "The functionality of the class ``Pet`` however is very general, and it is unlikely to be used alone (a `pet` isn't specific enough to most people: is it a cat, a fish, a dog?). We used this class to implement the general functionality supported by all pets: they have a name and a weight, regardless of their species.\n",
    "\n",
    "Now comes the important part: the ``Cat`` and ``Dog`` classes make use of these functionalities by **inheriting** from the ``Pet`` **parent class**. This inheritance is formalized in the class definition ``class Cat(Pet)``. The code of the two **child classes** is remarkably simple: it adds only a new functionality to the ones already inherited from ``Pet``. For example: "
   ]
  },
  {
   "cell_type": "code",
   "execution_count": 3,
   "metadata": {},
   "outputs": [
    {
     "data": {
      "text/plain": [
       "'Meow, my name is Kitty and I am nice!'"
      ]
     },
     "execution_count": 3,
     "metadata": {},
     "output_type": "execute_result"
    }
   ],
   "source": [
    "c = Cat('Kitty', 4)\n",
    "c.say_name()"
   ]
  },
  {
   "cell_type": "markdown",
   "metadata": {},
   "source": [
    "The ``Pet`` instance methods are still available:"
   ]
  },
  {
   "cell_type": "code",
   "execution_count": 4,
   "metadata": {},
   "outputs": [
    {
     "data": {
      "text/plain": [
       "4.2"
      ]
     },
     "execution_count": 4,
     "metadata": {},
     "output_type": "execute_result"
    }
   ],
   "source": [
    "c.eat_food(0.2)\n",
    "c.weight"
   ]
  },
  {
   "cell_type": "code",
   "execution_count": 5,
   "metadata": {},
   "outputs": [
    {
     "data": {
      "text/plain": [
       "'Woof, my name is Charlie and I smell funny!'"
      ]
     },
     "execution_count": 5,
     "metadata": {},
     "output_type": "execute_result"
    }
   ],
   "source": [
    "d = Dog('Charlie', 8)\n",
    "d.say_name()"
   ]
  },
  {
   "cell_type": "markdown",
   "metadata": {},
   "source": [
    "There is a pretty straightforward rule for the behavior of child class instances: **when the called method or attribute is available at the child class level, it will be used** (even if also available at the parent class level: this is called **overriding**, and will be explained in the next unit); **if not, use the parent class implementation**.\n",
    "\n",
    "This is exactly what happens in the code above: ``eat_food`` and ``weight`` are defined in the ``Pet`` class but are available for both ``Cat`` and ``Dog`` instances. ``say_name``, however, is a child class instance method and can't be used by ``Pet`` instances."
   ]
  },
  {
   "cell_type": "markdown",
   "metadata": {},
   "source": [
    "This relationship between parent and child classes can be formalized as following:"
   ]
  },
  {
   "cell_type": "code",
   "execution_count": 6,
   "metadata": {},
   "outputs": [
    {
     "name": "stdout",
     "output_type": "stream",
     "text": [
      "Is d a Dog? True\n",
      "Is d also a Pet? True\n",
      "Is d also a Cat? False\n"
     ]
    }
   ],
   "source": [
    "print('Is d a Dog?', isinstance(d, Dog))\n",
    "print('Is d also a Pet?', isinstance(d, Pet))\n",
    "print('Is d also a Cat?', isinstance(d, Cat))"
   ]
  },
  {
   "cell_type": "markdown",
   "metadata": {},
   "source": [
    "However, a Pet is neither a Cat or a Dog:"
   ]
  },
  {
   "cell_type": "code",
   "execution_count": 7,
   "metadata": {},
   "outputs": [
    {
     "name": "stdout",
     "output_type": "stream",
     "text": [
      "Is p a Dog? False\n",
      "Or a Cat? False\n"
     ]
    }
   ],
   "source": [
    "print('Is p a Dog?', isinstance(p, Dog))\n",
    "print('Or a Cat?', isinstance(p, Cat))"
   ]
  },
  {
   "cell_type": "markdown",
   "metadata": {},
   "source": [
    "So, what about the ``say_name_loudly`` method? Although available for ``Pet`` instances, calling it will raise an error:"
   ]
  },
  {
   "cell_type": "code",
   "execution_count": 8,
   "metadata": {},
   "outputs": [
    {
     "ename": "AttributeError",
     "evalue": "'Pet' object has no attribute 'say_name'",
     "output_type": "error",
     "traceback": [
      "\u001b[0;31m---------------------------------------------------------------------------\u001b[0m",
      "\u001b[0;31mAttributeError\u001b[0m                            Traceback (most recent call last)",
      "\u001b[0;32m/tmp/ipykernel_60471/349804252.py\u001b[0m in \u001b[0;36m<module>\u001b[0;34m\u001b[0m\n\u001b[1;32m      1\u001b[0m \u001b[0mp\u001b[0m \u001b[0;34m=\u001b[0m \u001b[0mPet\u001b[0m\u001b[0;34m(\u001b[0m\u001b[0;34m'PetName'\u001b[0m\u001b[0;34m,\u001b[0m \u001b[0;36m10\u001b[0m\u001b[0;34m)\u001b[0m\u001b[0;34m\u001b[0m\u001b[0;34m\u001b[0m\u001b[0m\n\u001b[0;32m----> 2\u001b[0;31m \u001b[0mp\u001b[0m\u001b[0;34m.\u001b[0m\u001b[0msay_name_loudly\u001b[0m\u001b[0;34m(\u001b[0m\u001b[0;34m)\u001b[0m  \u001b[0;31m# this raises an AttributeError\u001b[0m\u001b[0;34m\u001b[0m\u001b[0;34m\u001b[0m\u001b[0m\n\u001b[0m",
      "\u001b[0;32m/tmp/ipykernel_60471/1337416500.py\u001b[0m in \u001b[0;36msay_name_loudly\u001b[0;34m(self)\u001b[0m\n\u001b[1;32m     14\u001b[0m \u001b[0;34m\u001b[0m\u001b[0m\n\u001b[1;32m     15\u001b[0m     \u001b[0;32mdef\u001b[0m \u001b[0msay_name_loudly\u001b[0m\u001b[0;34m(\u001b[0m\u001b[0mself\u001b[0m\u001b[0;34m)\u001b[0m\u001b[0;34m:\u001b[0m\u001b[0;34m\u001b[0m\u001b[0;34m\u001b[0m\u001b[0m\n\u001b[0;32m---> 16\u001b[0;31m         \u001b[0;32mreturn\u001b[0m \u001b[0mself\u001b[0m\u001b[0;34m.\u001b[0m\u001b[0msay_name\u001b[0m\u001b[0;34m(\u001b[0m\u001b[0;34m)\u001b[0m\u001b[0;34m.\u001b[0m\u001b[0mupper\u001b[0m\u001b[0;34m(\u001b[0m\u001b[0;34m)\u001b[0m\u001b[0;34m\u001b[0m\u001b[0;34m\u001b[0m\u001b[0m\n\u001b[0m\u001b[1;32m     17\u001b[0m \u001b[0;34m\u001b[0m\u001b[0m\n\u001b[1;32m     18\u001b[0m \u001b[0;34m\u001b[0m\u001b[0m\n",
      "\u001b[0;31mAttributeError\u001b[0m: 'Pet' object has no attribute 'say_name'"
     ]
    }
   ],
   "source": [
    "p = Pet('PetName', 10)\n",
    "p.say_name_loudly()  # this raises an AttributeError"
   ]
  },
  {
   "cell_type": "markdown",
   "metadata": {},
   "source": [
    "What happened here? It's correct, the class \"Pet\" has no `say_name` method!\n",
    "\n",
    "In fact, it was intended behavior: since ``say_name_loudly`` is available to the child class instances, the method will work for them! See for instance: "
   ]
  },
  {
   "cell_type": "code",
   "execution_count": 9,
   "metadata": {},
   "outputs": [
    {
     "data": {
      "text/plain": [
       "'WOOF, MY NAME IS CHARLIE AND I SMELL FUNNY!'"
      ]
     },
     "execution_count": 9,
     "metadata": {},
     "output_type": "execute_result"
    }
   ],
   "source": [
    "d = Dog('Charlie', 8)\n",
    "d.say_name_loudly()"
   ]
  },
  {
   "cell_type": "markdown",
   "metadata": {},
   "source": [
    "This is a very typical use case for class inheritance in OOP: it allows <a href=\"https://en.wikipedia.org/wiki/Inheritance_(object-oriented_programming)#Code_reuse\">code re-use</a>. Here the method `say_name_loudly()` is the same for both Dogs and Cats, but the implementation of `say_name()` is different for each child class. This brings us to our next topic: interfaces. "
   ]
  },
  {
   "cell_type": "markdown",
   "metadata": {},
   "source": [
    "## Interfaces"
   ]
  },
  {
   "cell_type": "markdown",
   "metadata": {},
   "source": [
    "A further important use case for class inheritance in OOP is the possibility to define so-called **interfaces** (or [protocols](https://en.wikipedia.org/wiki/Protocol_(object-oriented_programming)), which is a more general term). An interface can be seen as a set of functionalities that, once agreed upon, should be implemented by child classes. Taking the example above, let's write the `Pet` class as an \"interface\" in python:"
   ]
  },
  {
   "cell_type": "code",
   "execution_count": 10,
   "metadata": {},
   "outputs": [],
   "source": [
    "class Pet:\n",
    "\n",
    "    # Initializer\n",
    "    def __init__(self, name, weight):\n",
    "        self.name = name\n",
    "        self.weight = weight\n",
    "\n",
    "    def eat_food(self, food):\n",
    "        self.weight += food\n",
    "\n",
    "    @property\n",
    "    def weight_lbs(self):\n",
    "        return self.weight / 0.45359237\n",
    "\n",
    "    def say_name(self):\n",
    "        raise NotImplementedError('This method should be implemented by subclasses of Pet')\n",
    "\n",
    "    def do_trick(self, treat):\n",
    "        raise NotImplementedError('This method should be implemented by subclasses of Pet')\n",
    "\n",
    "    def say_name_loudly(self):\n",
    "        return self.say_name().upper()\n",
    "\n",
    "    def do_trick_n_times(self, treats):\n",
    "        for treat in treats:\n",
    "            self.do_trick(treat)"
   ]
  },
  {
   "cell_type": "markdown",
   "metadata": {},
   "source": [
    "The only difference to the previous example is the addition of the `say_name` and `do_trick` methods with an explicit error message. Now, if a user instantiates a `Pet` (which should not be allowed) and calls its functionalities, a proper error message is sent:"
   ]
  },
  {
   "cell_type": "code",
   "execution_count": 11,
   "metadata": {},
   "outputs": [
    {
     "ename": "NotImplementedError",
     "evalue": "This method should be implemented by subclasses of Pet",
     "output_type": "error",
     "traceback": [
      "\u001b[0;31m---------------------------------------------------------------------------\u001b[0m",
      "\u001b[0;31mNotImplementedError\u001b[0m                       Traceback (most recent call last)",
      "\u001b[0;32m/tmp/ipykernel_60471/1884487588.py\u001b[0m in \u001b[0;36m<module>\u001b[0;34m\u001b[0m\n\u001b[1;32m      1\u001b[0m \u001b[0mp\u001b[0m \u001b[0;34m=\u001b[0m \u001b[0mPet\u001b[0m\u001b[0;34m(\u001b[0m\u001b[0;34m'PetName'\u001b[0m\u001b[0;34m,\u001b[0m \u001b[0;36m10\u001b[0m\u001b[0;34m)\u001b[0m\u001b[0;34m\u001b[0m\u001b[0;34m\u001b[0m\u001b[0m\n\u001b[0;32m----> 2\u001b[0;31m \u001b[0mp\u001b[0m\u001b[0;34m.\u001b[0m\u001b[0msay_name_loudly\u001b[0m\u001b[0;34m(\u001b[0m\u001b[0;34m)\u001b[0m  \u001b[0;31m# this now raises a NotImplementedError\u001b[0m\u001b[0;34m\u001b[0m\u001b[0;34m\u001b[0m\u001b[0m\n\u001b[0m",
      "\u001b[0;32m/tmp/ipykernel_60471/1690547947.py\u001b[0m in \u001b[0;36msay_name_loudly\u001b[0;34m(self)\u001b[0m\n\u001b[1;32m     20\u001b[0m \u001b[0;34m\u001b[0m\u001b[0m\n\u001b[1;32m     21\u001b[0m     \u001b[0;32mdef\u001b[0m \u001b[0msay_name_loudly\u001b[0m\u001b[0;34m(\u001b[0m\u001b[0mself\u001b[0m\u001b[0;34m)\u001b[0m\u001b[0;34m:\u001b[0m\u001b[0;34m\u001b[0m\u001b[0;34m\u001b[0m\u001b[0m\n\u001b[0;32m---> 22\u001b[0;31m         \u001b[0;32mreturn\u001b[0m \u001b[0mself\u001b[0m\u001b[0;34m.\u001b[0m\u001b[0msay_name\u001b[0m\u001b[0;34m(\u001b[0m\u001b[0;34m)\u001b[0m\u001b[0;34m.\u001b[0m\u001b[0mupper\u001b[0m\u001b[0;34m(\u001b[0m\u001b[0;34m)\u001b[0m\u001b[0;34m\u001b[0m\u001b[0;34m\u001b[0m\u001b[0m\n\u001b[0m\u001b[1;32m     23\u001b[0m \u001b[0;34m\u001b[0m\u001b[0m\n\u001b[1;32m     24\u001b[0m     \u001b[0;32mdef\u001b[0m \u001b[0mdo_trick_n_times\u001b[0m\u001b[0;34m(\u001b[0m\u001b[0mself\u001b[0m\u001b[0;34m,\u001b[0m \u001b[0mtreats\u001b[0m\u001b[0;34m)\u001b[0m\u001b[0;34m:\u001b[0m\u001b[0;34m\u001b[0m\u001b[0;34m\u001b[0m\u001b[0m\n",
      "\u001b[0;32m/tmp/ipykernel_60471/1690547947.py\u001b[0m in \u001b[0;36msay_name\u001b[0;34m(self)\u001b[0m\n\u001b[1;32m     14\u001b[0m \u001b[0;34m\u001b[0m\u001b[0m\n\u001b[1;32m     15\u001b[0m     \u001b[0;32mdef\u001b[0m \u001b[0msay_name\u001b[0m\u001b[0;34m(\u001b[0m\u001b[0mself\u001b[0m\u001b[0;34m)\u001b[0m\u001b[0;34m:\u001b[0m\u001b[0;34m\u001b[0m\u001b[0;34m\u001b[0m\u001b[0m\n\u001b[0;32m---> 16\u001b[0;31m         \u001b[0;32mraise\u001b[0m \u001b[0mNotImplementedError\u001b[0m\u001b[0;34m(\u001b[0m\u001b[0;34m'This method should be implemented by subclasses of Pet'\u001b[0m\u001b[0;34m)\u001b[0m\u001b[0;34m\u001b[0m\u001b[0;34m\u001b[0m\u001b[0m\n\u001b[0m\u001b[1;32m     17\u001b[0m \u001b[0;34m\u001b[0m\u001b[0m\n\u001b[1;32m     18\u001b[0m     \u001b[0;32mdef\u001b[0m \u001b[0mdo_trick\u001b[0m\u001b[0;34m(\u001b[0m\u001b[0mself\u001b[0m\u001b[0;34m,\u001b[0m \u001b[0mtreat\u001b[0m\u001b[0;34m)\u001b[0m\u001b[0;34m:\u001b[0m\u001b[0;34m\u001b[0m\u001b[0;34m\u001b[0m\u001b[0m\n",
      "\u001b[0;31mNotImplementedError\u001b[0m: This method should be implemented by subclasses of Pet"
     ]
    }
   ],
   "source": [
    "p = Pet('PetName', 10)\n",
    "p.say_name_loudly()  # this now raises a NotImplementedError"
   ]
  },
  {
   "cell_type": "markdown",
   "metadata": {},
   "source": [
    "The difference is subtle, but important: with this method, we define a new \"contract\" that subclasses will have to implement in order to be \"good pets\": they have to be able to say their name (no argument) and do a trick (for one positional argument: `treat`). These \"protocols\" (or contracts) are clear: therefore, the methods `say_name_loudly` and `do_trick_n_times` make sense, even without a formal implementation of the `say_name` and `do_trick` methods. Let's implement a class `Cat` which implements this `Pet` interface:"
   ]
  },
  {
   "cell_type": "code",
   "execution_count": 12,
   "metadata": {},
   "outputs": [],
   "source": [
    "# This just imports a silly string -\n",
    "# replace it with any string if you want to test it locally\n",
    "from ascii_art import cat_trick\n",
    "\n",
    "\n",
    "class Cat(Pet):\n",
    "\n",
    "    # Class attribute\n",
    "    language = 'Meow'\n",
    "\n",
    "    # Method\n",
    "    def say_name(self):\n",
    "        return '{}, my name is {} and I am nice!'.format(self.language, self.name)\n",
    "\n",
    "    def do_trick(self, treat):\n",
    "        if treat > 0:\n",
    "            print(cat_trick)\n",
    "        else:\n",
    "            print('No trick')"
   ]
  },
  {
   "cell_type": "code",
   "execution_count": 13,
   "metadata": {},
   "outputs": [
    {
     "name": "stdout",
     "output_type": "stream",
     "text": [
      "No trick\n",
      "                               /\\\n",
      "                               \\ \\\n",
      "                                \\ \\\n",
      "                                / /\n",
      "                               / /\n",
      "                              _\\ \\_/\\/\\\n",
      "                             /  *  \\@@ =\n",
      "                            |       |Y/\n",
      "                            |       |~\n",
      "                             \\ /_\\ /\n",
      "                              \\ //\n",
      "                               |||\n",
      "                              _|||_\n",
      "                             ( / \\ )\n"
     ]
    }
   ],
   "source": [
    "c = Cat('Kitty', 4)\n",
    "c.do_trick_n_times([0, 1])"
   ]
  },
  {
   "cell_type": "markdown",
   "metadata": {},
   "source": [
    "## Take home points"
   ]
  },
  {
   "cell_type": "markdown",
   "metadata": {},
   "source": [
    "- class inheritance allows to share code and functionality between classes which share one or more common functionalities\n",
    "- methods and attributes available at the parent class level are also available at the child class level, but not the other way around\n",
    "- parent classes can be used as \"interfaces\", i.e. define protocols that child classes have to implement\n",
    "\n",
    "This was only a (very) brief introduction to the concept of inheritance. In the next session we will discuss concrete (and more advanced) use cases for inheritance and OOP in general."
   ]
  }
 ],
 "metadata": {
  "hide_input": false,
  "kernelspec": {
   "display_name": "Python 3 (ipykernel)",
   "language": "python",
   "name": "python3"
  },
  "language_info": {
   "codemirror_mode": {
    "name": "ipython",
    "version": 3
   },
   "file_extension": ".py",
   "mimetype": "text/x-python",
   "name": "python",
   "nbconvert_exporter": "python",
   "pygments_lexer": "ipython3",
   "version": "3.8.5"
  },
  "latex_envs": {
   "LaTeX_envs_menu_present": true,
   "autoclose": false,
   "autocomplete": true,
   "bibliofile": "biblio.bib",
   "cite_by": "apalike",
   "current_citInitial": 1,
   "eqLabelWithNumbers": true,
   "eqNumInitial": 1,
   "hotkeys": {
    "equation": "Ctrl-E",
    "itemize": "Ctrl-I"
   },
   "labels_anchors": false,
   "latex_user_defs": false,
   "report_style_numbering": false,
   "user_envs_cfg": false
  },
  "nbTranslate": {
   "displayLangs": [
    "*"
   ],
   "hotkey": "alt-t",
   "langInMainMenu": true,
   "sourceLang": "en",
   "targetLang": "fr",
   "useGoogleTranslate": true
  },
  "toc": {
   "base_numbering": "25",
   "nav_menu": {},
   "number_sections": true,
   "sideBar": true,
   "skip_h1_title": false,
   "title_cell": "Table of Contents",
   "title_sidebar": "Contents",
   "toc_cell": true,
   "toc_position": {
    "height": "calc(100% - 180px)",
    "left": "10px",
    "top": "150px",
    "width": "345px"
   },
   "toc_section_display": "block",
   "toc_window_display": true
  }
 },
 "nbformat": 4,
 "nbformat_minor": 4
}
