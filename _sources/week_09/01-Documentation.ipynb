{
 "cells": [
  {
   "cell_type": "markdown",
   "metadata": {},
   "source": [
    "# Documenting your code"
   ]
  },
  {
   "cell_type": "markdown",
   "metadata": {},
   "source": [
    "**Code documentation is an integral part of the programming process**. In this chapter I give some recommendations about how to write a useful documentation and how specific tools can be used to generate an html documentation for your project."
   ]
  },
  {
   "cell_type": "markdown",
   "metadata": {},
   "source": [
    "## Introduction"
   ]
  },
  {
   "cell_type": "markdown",
   "metadata": {},
   "source": [
    "There are three major components of code documentation:\n",
    "- **inline comments**: they explain the algorithm and single blocks of code as they are written. They are meant to be read by yourself and other programmers trying to debug and/or understand your code\n",
    "- **API documentation** (or function / method documentation): explains the purpose of functions or methods, their output, their input variables and their expected types, as well as implementation details if necessary. API stands for [Application Programming Interface](https://en.wikipedia.org/wiki/Application_programming_interface):  API documentation is written for *users* of the function and should be understandable without looking at the code.\n",
    "- **project documentation**: this encompasses all materials around a project: introductory material, tutorials, online classes, workshops, etc. Without such a project documentation, complex libraries like numpy or pandas would be very difficult to learn."
   ]
  },
  {
   "cell_type": "markdown",
   "metadata": {},
   "source": [
    "Writing documentation is like writing tests: it is hard, and represents a lot of work with little immediate reward. **At the very least**, your own code should have inline comments."
   ]
  },
  {
   "cell_type": "markdown",
   "metadata": {},
   "source": [
    "## Inline comments "
   ]
  },
  {
   "cell_type": "markdown",
   "metadata": {},
   "source": [
    "Inline comments are plain text explanations of your code. As written in [cs.utah.edu](https://www.cs.utah.edu/~germain/PPS/Topics/commenting.html): All programs should be commented in such a manner as to easily describe the purpose of the code and any algorithms used to accomplish the purpose. A user should be able to utilize a previously written program (or function) without ever having to look at the code, simply by reading the comments."
   ]
  },
  {
   "cell_type": "markdown",
   "metadata": {},
   "source": [
    "### How to write inline comments"
   ]
  },
  {
   "cell_type": "markdown",
   "metadata": {},
   "source": [
    "They are often placed at the top of a file (header comments) or before a thematic code block:"
   ]
  },
  {
   "cell_type": "code",
   "execution_count": null,
   "metadata": {},
   "outputs": [],
   "source": [
    "# 1D interpolation example from scipy\n",
    "# see: https://docs.scipy.org/doc/scipy/reference/tutorial/interpolate.html\n",
    "# We compare two ways to interpolate data (linear and cubic) on a synthetic example\n",
    "# Inline comments are my own (F. Maussion)\n",
    "import numpy as np\n",
    "import matplotlib.pyplot as plt\n",
    "from scipy.interpolate import interp1d\n",
    "\n",
    "# Create synthetic data for the plot\n",
    "x = np.linspace(0, 10, num=11, endpoint=True)\n",
    "y = np.cos(-x**2/9.0)\n",
    "\n",
    "# Define two different interpolation functions to compare:\n",
    "# linear (default) and cubic\n",
    "fl = interp1d(x, y)\n",
    "fc = interp1d(x, y, kind='cubic')\n",
    "\n",
    "# Location at which we want to interpolate\n",
    "xnew = np.linspace(0, 10, num=41, endpoint=True)\n",
    "\n",
    "# Compute the interpolated points and plot\n",
    "plt.plot(x, y, 'o', xnew, fl(xnew), '-', xnew, fc(xnew), '--')\n",
    "plt.legend(['data', 'linear', 'cubic'], loc='best');"
   ]
  },
  {
   "cell_type": "markdown",
   "metadata": {},
   "source": [
    "As you can see, the comments help to organize the code. The same example without comments is much less engaging:"
   ]
  },
  {
   "cell_type": "code",
   "execution_count": null,
   "metadata": {},
   "outputs": [],
   "source": [
    "import numpy as np\n",
    "import matplotlib.pyplot as plt\n",
    "from scipy.interpolate import interp1d\n",
    "x = np.linspace(0, 10, num=11, endpoint=True)\n",
    "y = np.cos(-x**2/9.0)\n",
    "fl = interp1d(x, y)\n",
    "fc = interp1d(x, y, kind='cubic')\n",
    "xnew = np.linspace(0, 10, num=41, endpoint=True)\n",
    "plt.plot(x, y, 'o', xnew, fl(xnew), '-', xnew, fc(xnew), '--')\n",
    "plt.legend(['data', 'linear', 'cubic'], loc='best');"
   ]
  },
  {
   "cell_type": "markdown",
   "metadata": {},
   "source": [
    "Comments can include references to algorithms or indications about who wrote these lines. They should become an automatism when you write code: organize your code in blocks, and comment the purpose of each block. For places which require a bit more explanation, don't hesitate to write several lines of comments."
   ]
  },
  {
   "cell_type": "markdown",
   "metadata": {},
   "source": [
    "### How NOT to write inline comments "
   ]
  },
  {
   "cell_type": "markdown",
   "metadata": {},
   "source": [
    "Inline comments can be more harmfull than helping. See the following example:"
   ]
  },
  {
   "cell_type": "code",
   "execution_count": null,
   "metadata": {},
   "outputs": [],
   "source": [
    "# Numpy tutorial on matrix multiplication\n",
    "# Author: mowglie\n",
    "import numpy as np\n",
    "import matplotlib.pyplot as plt\n",
    "from scipy.interpolate import interp1d\n",
    "\n",
    "# linspace between 0 and 10\n",
    "x = np.linspace(0, 10, num=11, endpoint=True)\n",
    "y = np.cos(-x**2/9.0)  # apply cosinus\n",
    "\n",
    "# from documentation: \n",
    "# https://docs.numpy.org/doc/numpy/reference/generated/scipy.interpolate.interp1d.html#scipy.interpolate.interp1d\n",
    "fl = interp1d(x, y)\n",
    "fc = interp1d(x, y, kind='cubic')\n",
    "\n",
    "# linspace between 0 and 10\n",
    "xnew = np.linspace(0, 10, num=41, endpoint=True)\n",
    "\n",
    "# Plot\n",
    "plt.plot(x, y, 'o', xnew, fl(xnew), '-', xnew, fc(xnew), '--')\n",
    "plt.legend(['data', 'linear', 'cubic'], loc='best');"
   ]
  },
  {
   "cell_type": "markdown",
   "metadata": {},
   "source": [
    "What are the problems here?\n",
    "1. **Wrong/outdated documentation**: the header inline comments are from a previous file and the documentation link does not work\n",
    "2. **Commenting the obvious**: paraphrasing the name of the function or its arguments is not helping at all! It is not plain English, and assumes that the reader knows the function and what it does."
   ]
  },
  {
   "cell_type": "markdown",
   "metadata": {},
   "source": [
    "Regarding obvious comments, I really like this comic by [Abstruse Goose](https://abstrusegoose.com/432) which I find brings it quite to the point:\n",
    "\n",
    "![abstruse goose 432](https://abstrusegoose.com/strips/you_down_wit_OPC-yeah_you_know_me.png)"
   ]
  },
  {
   "cell_type": "markdown",
   "metadata": {},
   "source": [
    "Basically: **think about future readers when writing both code and comments**! And don't forget: this future reader might be *you*, and you'll be thanking yourself."
   ]
  },
  {
   "cell_type": "markdown",
   "metadata": {},
   "source": [
    "## API documentation"
   ]
  },
  {
   "cell_type": "markdown",
   "metadata": {},
   "source": [
    "A [function signature](https://developer.mozilla.org/en-US/docs/Glossary/Signature/Function) (or type signature, or method signature) defines input and output of functions or methods. When writing a function, you expect users (including yourself) to use it more than once, possibly for a longer period of time. Ideally, you would like to understand what a function does *long* after writing it. This is what [docstrings](https://www.python.org/dev/peps/pep-0257/#what-is-a-docstring) are for:"
   ]
  },
  {
   "cell_type": "code",
   "execution_count": null,
   "metadata": {},
   "outputs": [],
   "source": [
    "def repeat(phrase, n_times=2, sep=', '):\n",
    "    \"\"\"Repeat a phrase a given number of times.\n",
    "    \n",
    "    This uses the well known algorithm of string multiplication\n",
    "    by GvR et al.\n",
    "    \n",
    "    Parameters\n",
    "    ----------\n",
    "    phrase : str\n",
    "        The phrase to repat\n",
    "    n_times : int, optional\n",
    "        The number of times the phrase should be repeated\n",
    "    sep : str, optional\n",
    "        The separator between each repetition\n",
    "        \n",
    "    Returns\n",
    "    -------\n",
    "    str\n",
    "        The repeated phrase\n",
    "        \n",
    "    Raises\n",
    "    ------\n",
    "    ValueError\n",
    "        When ``phrase`` is not a string\n",
    "    \"\"\"\n",
    "    \n",
    "    if not isinstance(phrase, str):\n",
    "        raise ValueError('phrase should be a string!')\n",
    "    return sep.join([phrase] * n_times)"
   ]
  },
  {
   "cell_type": "markdown",
   "metadata": {},
   "source": [
    "**Docstrings** have a special meaning in python. They are not used by the language itself, but python offers a way to access them:"
   ]
  },
  {
   "cell_type": "code",
   "execution_count": null,
   "metadata": {},
   "outputs": [],
   "source": [
    "print(repeat.__doc__)"
   ]
  },
  {
   "cell_type": "markdown",
   "metadata": {},
   "source": [
    "The dosctring is also read by ipython when calling help (``?``) on a function.\n",
    "\n",
    "There are no strict rules about how docstrings should be written, but the scientific community has agreed on a convention: [numpydoc](https://numpydoc.readthedocs.io/en/latest/format.html), first written for python and then applied by many other projects in the scientific stack. By complying to this convention you'll make the job of your readers easier.\n",
    "\n",
    "The convention describes how to describe the input and output variables type as well as other information. More importantly, it can be parsed automatically by doc generators like Sphinx (see below). \n",
    "\n",
    "I highly recommend to write numpydoc docstrings for your projects. There is one exception to this recommendation though: **write docstrings only if they are accurate and if you plan to maintain them**. Indeed, **wrong/false documentation is worse than no documentation at all**: it gives others confidence in what your function is supposed to do (a \"contract\"). If your code does not comply to the contract written in the docstring, this will lead to bugs, deception, and loss of time for users of your code (including yourself)."
   ]
  },
  {
   "cell_type": "markdown",
   "metadata": {},
   "source": [
    "## Documentation generators"
   ]
  },
  {
   "cell_type": "markdown",
   "metadata": {},
   "source": [
    "Writing documentation is hard and tedious. It is a task that most people want to avoid, but it is extremely important. In particular in the python world where almost everything is open-source and based on the work of volunteers, documentation might sometimes be neglected.\n",
    "\n",
    "Fortunately, some tools make it easier for open-source programmers to write documentation."
   ]
  },
  {
   "cell_type": "markdown",
   "metadata": {},
   "source": [
    "### Sphinx"
   ]
  },
  {
   "cell_type": "markdown",
   "metadata": {
    "slideshow": {
     "slide_type": "slide"
    }
   },
   "source": [
    "[Shpinx](http://www.sphinx-doc.org/) is a tool that makes it easy to create intelligent and beautiful documentation. It can parse your documentation written as text files and convert them to nice, engaging html websites. Importantly, sphinx can parse python code and write an API documentation automatically. \n",
    "\n",
    "Many open-source projects use sphinx for their documentation, including numpy and xarray. In the lecture we will make a demo of sphinx by building a project documentation locally."
   ]
  },
  {
   "cell_type": "markdown",
   "metadata": {},
   "source": [
    "### ReadTheDocs "
   ]
  },
  {
   "cell_type": "markdown",
   "metadata": {},
   "source": [
    "[readthedocs.org](https://readthedocs.org/) is a platform hosting the documentation of open-source projects *for free*. It builds the documentation website using sphinx and updates it at each code update. The documentation of the [Open Global Glacier Model](http://docs.oggm.org) or [xarray](http://xarray.pydata.org/) are hosted on ReadTheDocs."
   ]
  },
  {
   "cell_type": "markdown",
   "metadata": {},
   "source": [
    "## Interactive tutorials "
   ]
  },
  {
   "cell_type": "markdown",
   "metadata": {},
   "source": [
    "Since the rise of jupyter notebooks in recent years, they have proven very useful tools to write engaging tutorials. You can find jupyter notebooks documenting libraries like xarray, or scientific findings like the recent [nobel prize in physics](https://www.numfocus.org/blog/numfocus-projects-featured-in-ligo-gravitational-waves-discovery/).\n",
    "\n",
    "Thanks to innovative online services, notebook can now be run interactively *in your web browser*: the leading platform to run jupyter notebooks online is [MyBinder](https://mybinder.org/). We use MyBinder to offer online tutorials for our [glacier model](https://oggm.org/tutorials), for example."
   ]
  },
  {
   "cell_type": "markdown",
   "metadata": {},
   "source": [
    "## Take home points "
   ]
  },
  {
   "cell_type": "markdown",
   "metadata": {},
   "source": [
    "- write inline comments (always), but write them in a useful way (you will be thanking yourself for this later): do not state the obvious, organize your code in blocks, provide keys to understanding complex code to your readers\n",
    "- write function docstrings, but only if you plan to take care of them\n",
    "- a wrong documentation is worse than no documentation, but a good documentation is far better than no documentation"
   ]
  }
 ],
 "metadata": {
  "hide_input": false,
  "kernelspec": {
   "display_name": "Python 3 (ipykernel)",
   "language": "python",
   "name": "python3"
  },
  "language_info": {
   "codemirror_mode": {
    "name": "ipython",
    "version": 3
   },
   "file_extension": ".py",
   "mimetype": "text/x-python",
   "name": "python",
   "nbconvert_exporter": "python",
   "pygments_lexer": "ipython3",
   "version": "3.8.5"
  },
  "latex_envs": {
   "LaTeX_envs_menu_present": true,
   "autoclose": false,
   "autocomplete": true,
   "bibliofile": "biblio.bib",
   "cite_by": "apalike",
   "current_citInitial": 1,
   "eqLabelWithNumbers": true,
   "eqNumInitial": 1,
   "hotkeys": {
    "equation": "Ctrl-E",
    "itemize": "Ctrl-I"
   },
   "labels_anchors": false,
   "latex_user_defs": false,
   "report_style_numbering": false,
   "user_envs_cfg": false
  },
  "nbTranslate": {
   "displayLangs": [
    "*"
   ],
   "hotkey": "alt-t",
   "langInMainMenu": true,
   "sourceLang": "en",
   "targetLang": "fr",
   "useGoogleTranslate": true
  },
  "toc": {
   "base_numbering": "22",
   "nav_menu": {},
   "number_sections": true,
   "sideBar": true,
   "skip_h1_title": false,
   "title_cell": "Table of Contents",
   "title_sidebar": "Contents",
   "toc_cell": true,
   "toc_position": {
    "height": "750px",
    "left": "29px",
    "top": "111px",
    "width": "310px"
   },
   "toc_section_display": true,
   "toc_window_display": true
  }
 },
 "nbformat": 4,
 "nbformat_minor": 4
}
