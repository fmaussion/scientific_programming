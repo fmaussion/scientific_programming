{
 "cells": [
  {
   "cell_type": "markdown",
   "id": "053878fd-509b-4755-a47b-cf0f75965f40",
   "metadata": {},
   "source": [
    "# Revisions"
   ]
  },
  {
   "cell_type": "markdown",
   "id": "5d5d6d4e-1f97-4421-b796-8383177c9313",
   "metadata": {},
   "source": [
    "This week you are supposed to work on your project! \n",
    "\n",
    "\n",
    "So instead of new content, we will have a look at some code snippets in class!"
   ]
  }
 ],
 "metadata": {
  "kernelspec": {
   "display_name": "Python 3 (ipykernel)",
   "language": "python",
   "name": "python3"
  },
  "language_info": {
   "codemirror_mode": {
    "name": "ipython",
    "version": 3
   },
   "file_extension": ".py",
   "mimetype": "text/x-python",
   "name": "python",
   "nbconvert_exporter": "python",
   "pygments_lexer": "ipython3",
   "version": "3.8.5"
  }
 },
 "nbformat": 4,
 "nbformat_minor": 5
}
