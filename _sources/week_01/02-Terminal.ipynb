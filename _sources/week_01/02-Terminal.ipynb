{
 "cells": [
  {
   "cell_type": "markdown",
   "metadata": {},
   "source": [
    "# Basic terminal commands and navigation"
   ]
  },
  {
   "cell_type": "markdown",
   "metadata": {},
   "source": [
    "In order to start using python (or any programming language, really) you need to know a few very important things about your computer:\n",
    "- where are files located on my system?\n",
    "- how to use a terminal to navigate between folders to find the files I want to use?"
   ]
  },
  {
   "cell_type": "markdown",
   "metadata": {},
   "source": [
    "## Tutorials\n",
    "\n",
    "- **For Windows users**: [A windows command prompt primer](./02a-Windows)\n",
    "- **For Linux/Mac users** (recommended for windows users as well): [An introduction to the Linux terminal](./02b-Linux)"
   ]
  },
  {
   "cell_type": "markdown",
   "metadata": {},
   "source": [
    "## Learning checklist (all platforms)\n",
    "\n",
    "<label><input type=\"checkbox\" id=\"week01b_01\" class=\"box\"> I know how to open a terminal/prompt on my computer and exit it.</input></label>\n",
    "<label><input type=\"checkbox\" id=\"week01b_02\" class=\"box\"> I know how to navigate between folders and files using the terminal/prompt.</input></label>   \n",
    "<label><input type=\"checkbox\" id=\"week01b_03\" class=\"box\"> I know how to list all files in a directory (including hidden ones).</input></label>  "
   ]
  }
 ],
 "metadata": {
  "hide_input": false,
  "kernelspec": {
   "display_name": "Python 3 (ipykernel)",
   "language": "python",
   "name": "python3"
  },
  "language_info": {
   "codemirror_mode": {
    "name": "ipython",
    "version": 3
   },
   "file_extension": ".py",
   "mimetype": "text/x-python",
   "name": "python",
   "nbconvert_exporter": "python",
   "pygments_lexer": "ipython3",
   "version": "3.10.6"
  },
  "toc": {
   "base_numbering": 2,
   "nav_menu": {},
   "number_sections": true,
   "sideBar": true,
   "skip_h1_title": false,
   "title_cell": "Table of Contents",
   "title_sidebar": "Contents",
   "toc_cell": true,
   "toc_position": {},
   "toc_section_display": "block",
   "toc_window_display": true
  }
 },
 "nbformat": 4,
 "nbformat_minor": 4
}
