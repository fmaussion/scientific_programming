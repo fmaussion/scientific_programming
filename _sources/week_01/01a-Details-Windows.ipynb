{
 "cells": [
  {
   "cell_type": "markdown",
   "metadata": {},
   "source": [
    "# For windows users: the difference between the command prompt, the miniforge prompt, and the python interpreter "
   ]
  },
  {
   "cell_type": "markdown",
   "metadata": {},
   "source": [
    "Many of you have opened a prompt (a terminal) for the first time in this class. When I was a child and my parents bought our first computer, opening a terminal was very normal and even needed to play games! \n",
    "\n",
    "**There is nothing to be afraid of**. You will use the prompt very often, but you won't need it for anything else than starting python, jupyterlab, or any other python tool of your choice.\n",
    "\n",
    "## The command prompt (or `cmd.exe`)\n",
    "\n",
    "You will find it by typing cmd in the windows search bar:\n",
    "\n",
    "<img src=\"../img/cmd.png\" width=\"400\"> <br>\n",
    "\n",
    "In the command prompt, you can do many things, but the one thing you'll really need is to **navigate** to the folder of your choice. The name of the currently active folder is always indicated at the start of the command line.\n",
    "\n",
    "Only a few commands are necessary for this class:\n",
    "- `help`: seeing the list of commands available\n",
    "- `dir`: list the directories (folders) in the current location\n",
    "- `cd FolderName`: navigate to the folder FolderName\n",
    "- `cd ..`: navigate one folder up\n",
    "- `TAB`: ask the command prompt to complete the name for you. For example, if you are lazy and type two letters of the desired folder only, typing `TAB` might complete it for you\n",
    "- `exit`: exit the prompt (you can also simply close the window)\n",
    "\n",
    "That's it! The reason why you need to be able to navigate to a specific folder will be explained in the next lesson.\n",
    "\n",
    "## The miniforge prompt\n",
    "\n",
    "You will find it by typing \"miniforge\" in the windows search bar:\n",
    "\n",
    "<img src=\"../img/miniforge.png\" width=\"400\"> <br>\n",
    "\n",
    "You will recognize that you are in a miniforge prompt by the title of the window and the `(base)` text before the location:\n",
    "\n",
    "<img src=\"../img/term.png\" width=\"600\"> <br>\n",
    "\n",
    "**The miniforge prompt is exactly like the command prompt, BUT it has python installed in it**. All the commands explained above work in the miniforge prompt as well, but these new commands are now available to you:\n",
    "- all the `mamba` commands (`mamba list`, `mamba install`, ...)\n",
    "- opening a python interpreter (`python`, and later today also `ipython`, `jupyter-lab`) \n",
    "\n",
    "**In practice, you will actually never open the command prompt, but always the miniforge prompt. You will use it to navigate to a folder and then start a python interpreter.**\n",
    "\n",
    "## The python interpreter\n",
    "\n",
    "The python interpreter can be opened in many different ways, but the way you learn first is to start it from the miniforge prompt. The python interpreter is recognizable by the three \"great than\" sign at the beginning of the command line `>>>`. The python interpreter is where the python commands are valid.\n",
    "\n",
    "```{admonition} Be aware of the context\n",
    ":class: important\n",
    "\n",
    "Be aware of the interpreter your are using. To summarize:\n",
    "- In the command prompt, you can navigate between folders (`cd`, `dir`, etc.)\n",
    "- In the miniforge prompt, you can navigate between folders AND you can install python packages (`mamba`) and start python (`python` or `jupyter-lab`)\n",
    "- In the python interpreter, you can type python commands and much much more \n",
    "```"
   ]
  }
 ],
 "metadata": {
  "hide_input": false,
  "kernelspec": {
   "display_name": "Python 3 (ipykernel)",
   "language": "python",
   "name": "python3"
  },
  "language_info": {
   "codemirror_mode": {
    "name": "ipython",
    "version": 3
   },
   "file_extension": ".py",
   "mimetype": "text/x-python",
   "name": "python",
   "nbconvert_exporter": "python",
   "pygments_lexer": "ipython3",
   "version": "3.10.6"
  },
  "toc": {
   "base_numbering": 2,
   "nav_menu": {},
   "number_sections": true,
   "sideBar": true,
   "skip_h1_title": false,
   "title_cell": "Table of Contents",
   "title_sidebar": "Contents",
   "toc_cell": true,
   "toc_position": {},
   "toc_section_display": "block",
   "toc_window_display": true
  }
 },
 "nbformat": 4,
 "nbformat_minor": 4
}
