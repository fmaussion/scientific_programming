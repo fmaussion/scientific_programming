{
 "cells": [
  {
   "cell_type": "markdown",
   "metadata": {},
   "source": [
    "# Getting started with Python "
   ]
  },
  {
   "cell_type": "markdown",
   "metadata": {},
   "source": [
    "In this chapter we are getting used to the python command line, and we are going to write our first small program.\n",
    "\n",
    "**Prerequisites**: you have python and ipython installed, as described in {doc}`02-Installation`. Alternatively, you can also use MyBinder for this unit."
   ]
  },
  {
   "cell_type": "markdown",
   "metadata": {},
   "source": [
    "## The standard command-line interpreter"
   ]
  },
  {
   "cell_type": "markdown",
   "metadata": {},
   "source": [
    "Let's open a python interpreter and type in some commands:\n",
    "\n",
    "```python\n",
    ">>> a = 2\n",
    ">>> b = 3\n",
    ">>> print(a+b)\n",
    "5\n",
    ">>> a*b\n",
    "6\n",
    ">>> a**3\n",
    "```"
   ]
  },
  {
   "cell_type": "markdown",
   "metadata": {},
   "source": [
    "This should look quite familiar to you, whatever language you learned before. We defined variables, and did some arithmetics with them. On line 3 we used the ``print()`` function to display the output of our computations, but as it turns out it is not necessary: the command line shell will print the output anyway. This functionality is called [REPL](https://en.wikipedia.org/wiki/Read%E2%80%93eval%E2%80%93print_loop), and it is a feature of modern interpreted languages. We'll come back to this later.\n",
    "\n",
    "The default command-line interpreter comes with some functionality (for example, if you use the up and down arrows you can navigate in your previous commands) but this functionality is very sparse. Some important functionalities are missing: some are cosmetic (like colors), some are very useful (like **automatic code completion** with ``[TAB]`` or the possibility to paste several lines of code at once). For all these reasons, the default python command-line interpreter is only used for very small tasks like testing a command or two. Scientists need more interactivity when analyzing their data: this is why ``ipython`` was created."
   ]
  },
  {
   "cell_type": "markdown",
   "metadata": {},
   "source": [
    "## ipython: interactive python "
   ]
  },
  {
   "cell_type": "markdown",
   "metadata": {},
   "source": [
    "[ipython](http://ipython.readthedocs.io/en/stable/index.html) is a standard command-line interpreter, but enhanced with many interactive features. Let's open it (``ipython`` command) and type in some commands:\n",
    "\n",
    "```python\n",
    "In [1]: a = 2\n",
    "\n",
    "In [2]: b = 3\n",
    "\n",
    "In [3]: print(a + b)\n",
    "5\n",
    "\n",
    "In [4]: a*b\n",
    "Out[4]: 6\n",
    "```"
   ]
  },
  {
   "cell_type": "markdown",
   "metadata": {},
   "source": [
    "What are the differences? The ```>>>``` prompt has been replaced by ``In [1]:``. Now there *is* a slight difference between a line with or without ``print()`` (can you find it?). At first sight the differences are small, but it's in the everyday interactive coding that ``ipython`` becomes useful. \n",
    "\n",
    "**From now on, we will always use the ipython command-line interpreter.** I will now describe a small sample of its most useful capabilities."
   ]
  },
  {
   "cell_type": "markdown",
   "metadata": {},
   "source": [
    "### Automatic code completion  "
   ]
  },
  {
   "cell_type": "markdown",
   "metadata": {},
   "source": [
    "In ipython, type ``s`` and then ``[TAB]``. The tool will give you a list of suggestions to choose from (useful when you forgot how a function was called exactly!). Now type ``so`` and ``[TAB]``. Here the only solution will be selected automatically."
   ]
  },
  {
   "cell_type": "markdown",
   "metadata": {},
   "source": [
    "### Getting help"
   ]
  },
  {
   "cell_type": "markdown",
   "metadata": {},
   "source": [
    "Type ``sorted?``. A text help should be printed, telling you what this function is about."
   ]
  },
  {
   "cell_type": "markdown",
   "metadata": {},
   "source": [
    "### Copy paste "
   ]
  },
  {
   "cell_type": "markdown",
   "metadata": {},
   "source": [
    "Copy the following lines and paste them in your ipython interpreter:\n",
    "\n",
    "```python\n",
    "s = 'the jungle book'\n",
    "print(s)\n",
    "l = sorted(s)\n",
    "print(l)\n",
    "l = ''.join(l)\n",
    "print(l)\n",
    "```\n",
    "\n",
    "(note that ``[CTRL-V]`` doesn't work in a linux terminal: you'll have to use `[CTRL-SHIFT-V]`, the mouse with `right click -> paste`, or - even better - the magical linux middle mouse button)"
   ]
  },
  {
   "cell_type": "markdown",
   "metadata": {},
   "source": [
    "## Running scripts"
   ]
  },
  {
   "cell_type": "markdown",
   "metadata": {},
   "source": [
    "Of course, the command-line interpreter is only useful for small tasks or for data exploration. Most of the time, you will want to write **scripts** (a collection of commands executed in order to reach a certain goal) or more complex **programs** (the difference between \"scripts\" and \"programs\" is fuzzy, but for now let's call a \"program\" a tool which involves writing several functions and/or files)."
   ]
  },
  {
   "cell_type": "markdown",
   "metadata": {},
   "source": [
    "### Running a python script from the terminal "
   ]
  },
  {
   "cell_type": "markdown",
   "metadata": {},
   "source": [
    "Python scripts are simple text files. Per convention we like to give them a suffix: ``.py``. This suffix is required for python modules but not mandatory for scripts with a shebang. In general it's a good idea to use the ``.py`` suffix though.\n",
    "\n",
    "Let's create a new file, ``my_python_script.py`` (using a text editor of your choice, for example `gedit` in ubuntu or `wordpad` in Windows), and add these few lines of code to it:\n",
    "\n",
    "```python\n",
    "a = 3\n",
    "b = 6\n",
    "c = a * b\n",
    "print('The product of {} and {} is {}'.format(a, b, c))\n",
    "```\n",
    "\n",
    "Now you should be able to run the script by calling python in a terminal:\n",
    "\n",
    "```\n",
    "$ python my_python_script.py\n",
    "```"
   ]
  },
  {
   "cell_type": "markdown",
   "metadata": {},
   "source": [
    "### Running a python script from the ipython interpreter"
   ]
  },
  {
   "cell_type": "markdown",
   "metadata": {},
   "source": [
    "Running a script from the ipython interpreter is as easy as:"
   ]
  },
  {
   "cell_type": "code",
   "execution_count": null,
   "metadata": {},
   "outputs": [],
   "source": [
    "%run my_python_script.py"
   ]
  },
  {
   "cell_type": "markdown",
   "metadata": {},
   "source": [
    "(remember the ``[TAB]`` functionality in ipython? You can use it on files as well). Running a script this way is different from running a script in the terminal. Indeed, after running the script, the variables defined in it are still available in the current session. Try computing ``a + b`` to check it out:"
   ]
  },
  {
   "cell_type": "code",
   "execution_count": null,
   "metadata": {},
   "outputs": [],
   "source": [
    "a + b"
   ]
  },
  {
   "cell_type": "markdown",
   "metadata": {},
   "source": [
    "### Importing a python file "
   ]
  },
  {
   "cell_type": "markdown",
   "metadata": {},
   "source": [
    "Another way to \"run\" a script in a python interpreter is via the ``import`` mechanism:"
   ]
  },
  {
   "cell_type": "code",
   "execution_count": null,
   "metadata": {},
   "outputs": [],
   "source": [
    "import my_python_script"
   ]
  },
  {
   "cell_type": "markdown",
   "metadata": {},
   "source": [
    "Although both ``%run`` and ``import`` execute the script (the output is printed on screen), the two mechanisms are different. As we are going to see next week, the ``import`` mechanism is an important feature of the python language (also something which you might not be used to from other languages). ``import`` is usually *not* used as a replacement for ``%run``. The biggest difference with ``%run`` is that the variables defined in the script are *not* available at the command line directly. Instead, they can now be addressed as following:"
   ]
  },
  {
   "cell_type": "code",
   "execution_count": null,
   "metadata": {},
   "outputs": [],
   "source": [
    "my_python_script.a * my_python_script.b"
   ]
  },
  {
   "cell_type": "markdown",
   "metadata": {},
   "source": [
    "... but this is already going too far: more on this next week."
   ]
  },
  {
   "cell_type": "markdown",
   "metadata": {},
   "source": [
    "## What is this python \"interpreter\"? "
   ]
  },
  {
   "cell_type": "markdown",
   "metadata": {},
   "source": [
    "Start with reading the definition from <a href=\"https://techterms.com/definition/interpreter\">the Tech Terms Dictionary</a>.\n",
    "\n",
    "Put simple, the python interpreter is a program executing python programs or commands. It reads the programs you write and executes the instructions they contain. \n",
    "\n",
    "We will look into interpreters in a little more detail later in the semester, when we will talk about compiled and interpreted languages. "
   ]
  },
  {
   "cell_type": "markdown",
   "metadata": {},
   "source": [
    "## Take home points"
   ]
  },
  {
   "cell_type": "markdown",
   "metadata": {},
   "source": [
    "- ``ipython`` is short for \"interactive python\". It's basically the same thing as the default **interpreter**, but with more features. From now on we will use ipython only: you will learn more of it's features as we go.\n",
    "- python scripts are text files ending with ``.py``. They can be run from the terminal (``python my_file.py``) or from the ``ipython`` interpreter (``%run my_file.py``).\n",
    "- the **import mechanism** also \"runs\" a file, but the way it does so is fundamentally different. We are going to explain the ``import`` mechanism in more detail soon. "
   ]
  }
 ],
 "metadata": {
  "hide_input": false,
  "kernelspec": {
   "display_name": "Python 3 (ipykernel)",
   "language": "python",
   "name": "python3"
  },
  "language_info": {
   "codemirror_mode": {
    "name": "ipython",
    "version": 3
   },
   "file_extension": ".py",
   "mimetype": "text/x-python",
   "name": "python",
   "nbconvert_exporter": "python",
   "pygments_lexer": "ipython3",
   "version": "3.8.5"
  },
  "latex_envs": {
   "LaTeX_envs_menu_present": true,
   "autoclose": false,
   "autocomplete": true,
   "bibliofile": "biblio.bib",
   "cite_by": "apalike",
   "current_citInitial": 1,
   "eqLabelWithNumbers": true,
   "eqNumInitial": 1,
   "hotkeys": {
    "equation": "Ctrl-E",
    "itemize": "Ctrl-I"
   },
   "labels_anchors": false,
   "latex_user_defs": false,
   "report_style_numbering": false,
   "user_envs_cfg": false
  },
  "nbTranslate": {
   "displayLangs": [
    "*"
   ],
   "hotkey": "alt-t",
   "langInMainMenu": true,
   "sourceLang": "en",
   "targetLang": "fr",
   "useGoogleTranslate": true
  },
  "toc": {
   "base_numbering": 3,
   "nav_menu": {},
   "number_sections": true,
   "sideBar": true,
   "skip_h1_title": false,
   "title_cell": "Table of Contents",
   "title_sidebar": "Contents",
   "toc_cell": true,
   "toc_position": {},
   "toc_section_display": "block",
   "toc_window_display": true
  }
 },
 "nbformat": 4,
 "nbformat_minor": 4
}
