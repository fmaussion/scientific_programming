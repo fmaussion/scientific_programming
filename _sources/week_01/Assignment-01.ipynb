{
 "cells": [
  {
   "cell_type": "markdown",
   "metadata": {},
   "source": [
    "# Assignment #01"
   ]
  },
  {
   "cell_type": "markdown",
   "metadata": {},
   "source": [
    "This week's assignment is about getting you more comfortable with linux and able to use python on your computer before doing more complicated things."
   ]
  },
  {
   "cell_type": "markdown",
   "metadata": {},
   "source": [
    "## Exercise #01-01: install python on your laptop"
   ]
  },
  {
   "cell_type": "markdown",
   "metadata": {},
   "source": [
    "Follow the instructions from {doc}`01-Installation`/"
   ]
  },
  {
   "cell_type": "markdown",
   "metadata": {},
   "source": [
    "## Exercise #01-02 (recommended for windows users, mandatory for linux/mac users): linux tutorial"
   ]
  },
  {
   "cell_type": "markdown",
   "metadata": {},
   "source": [
    "Follow the linux tutorial from {doc}`02b-Linux` (on MyBinder, your laptop, or at university)."
   ]
  },
  {
   "cell_type": "markdown",
   "metadata": {},
   "source": [
    "## Exercise #01-03 (recommended): install python on your university account"
   ]
  },
  {
   "cell_type": "markdown",
   "metadata": {},
   "source": [
    "Follow the instructions from {doc}`03-Installation-uni` to install python on your linux account at the university."
   ]
  },
  {
   "cell_type": "markdown",
   "metadata": {},
   "source": [
    "## Exercise #01-04: a first python script"
   ]
  },
  {
   "cell_type": "markdown",
   "metadata": {},
   "source": [
    "Open a terminal/prompt and navigate to a folder on your laptop where you will put the exercises of this class.\n",
    "\n",
    "Create a new python file containing the following code:\n",
    "\n",
    "```python\n",
    "import platform\n",
    "import sys\n",
    "import os\n",
    "\n",
    "print('Enter your name:')\n",
    "username = input()\n",
    "print(f\"Hello {username}!\")\n",
    "print(f\"You are running python on {platform.system()}, release {platform.release()}.\")\n",
    "print(f\"Your python version is {sys.version}, installed at {sys.exec_prefix}\")\n",
    "print(f\"Your current working directory is {os.getcwd()}.\", end=\" \")\n",
    "print(f\"It has {len(os.listdir())} files and directories in it.\")\n",
    "```\n",
    "\n",
    "**Run the script**. Does everything match your expectations? If not, you might want to get back to all the steps above."
   ]
  }
 ],
 "metadata": {
  "hide_input": false,
  "kernelspec": {
   "display_name": "Python 3 (ipykernel)",
   "language": "python",
   "name": "python3"
  },
  "language_info": {
   "codemirror_mode": {
    "name": "ipython",
    "version": 3
   },
   "file_extension": ".py",
   "mimetype": "text/x-python",
   "name": "python",
   "nbconvert_exporter": "python",
   "pygments_lexer": "ipython3",
   "version": "3.10.6"
  },
  "toc": {
   "base_numbering": 1,
   "nav_menu": {},
   "number_sections": false,
   "sideBar": true,
   "skip_h1_title": false,
   "title_cell": "Table of Contents",
   "title_sidebar": "Contents",
   "toc_cell": false,
   "toc_position": {},
   "toc_section_display": "block",
   "toc_window_display": false
  }
 },
 "nbformat": 4,
 "nbformat_minor": 4
}
