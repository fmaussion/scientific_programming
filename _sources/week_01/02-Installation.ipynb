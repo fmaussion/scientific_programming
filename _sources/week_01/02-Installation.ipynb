{
 "cells": [
  {
   "cell_type": "markdown",
   "metadata": {},
   "source": [
    "# Installing Python"
   ]
  },
  {
   "cell_type": "markdown",
   "metadata": {},
   "source": [
    "<img src=\"https://www.python.org/static/community_logos/python-logo.png\" align=\"left\"> This chapter contains some instructions about how to install Python on your personal computer and at the University.\n",
    "\n",
    "In previous years, it was possible to use Python at the University's Computer lab only. In these rather special circumstances, it is probably easier to also install Python on your laptop."
   ]
  },
  {
   "cell_type": "markdown",
   "metadata": {},
   "source": [
    "## Preamble: which Python version?"
   ]
  },
  {
   "cell_type": "markdown",
   "metadata": {},
   "source": [
    "Short answer: **the latest stable major release of Python is [Python version 3.9](https://docs.python.org/3/)**."
   ]
  },
  {
   "cell_type": "markdown",
   "metadata": {},
   "source": [
    "```{admonition} Long answer\n",
    ":class: dropdown, note\n",
    "\n",
    "If you did some online search about Python, you probably stumbled upon some discussion about the \"Py2 vs Py3 problem\". About 10 years ago, an evolution of the python language introduced changes which were not **backwards compatible**. This means that code written in Python 2.7 may not work in Python 3. According to the Python developers this change was necessary to get rid of old baggage and inconsistent syntax, but it was also considered by many as a \"treason\". Indeed, backwards compatibility is an important aspect of software development for large projects like python: it is a contract between developers and users stipulating that the code that users write will continue to work in subsequent releases. This contract was broken once, but this shouldn't happen again. \n",
    "\n",
    "Since updating code requires time and money, many people and companies continued to use Python 2 internally. Five years ago, I would maybe have been reluctant to teach you Python 3 because the future of the language was uncertain and many tools existed only in Python 2. Today the wide adoption of Python 3 is finally accomplished and the future is looking very good. All major scientific python tools are supporting Python 3, and major libraries [announced that they will stop to support Python 2](http://python3statement.org/) before or shortly after the end-of-life date of Python 2 (by 2020).\n",
    "\n",
    "In this lecture we *might* talk about the differences between Python 2 and Python 3 at some point, but it's unlikely. You can safely concentrate on learning Python 3 only.\n",
    "```"
   ]
  },
  {
   "cell_type": "markdown",
   "metadata": {},
   "source": [
    "(installation:uni)=\n",
    "## Installation at the University of Innsbruck (optional)"
   ]
  },
  {
   "cell_type": "markdown",
   "metadata": {},
   "source": [
    "```{note}\n",
    "I kept this section online for consistency with previous classes, but because of the restrictions you will not have a normal access to the computer lab this year. If you want, you can ignore these instructions, but they are still working and may be useful for your in-presence classes.\n",
    "```"
   ]
  },
  {
   "cell_type": "markdown",
   "metadata": {},
   "source": [
    "In this section we use the powerful linux ``PATH`` variable to \"install\" the same Python program in your personal Linux account. This is done in a couple of easy steps."
   ]
  },
  {
   "cell_type": "markdown",
   "metadata": {},
   "source": [
    "### The default  python on linux systems"
   ]
  },
  {
   "cell_type": "markdown",
   "metadata": {},
   "source": [
    "Open a terminal and type:\n",
    "\n",
    "```\n",
    "$ python\n",
    "```\n",
    "\n",
    "This should have started the python command line, looking like this:\n",
    "\n",
    "```\n",
    "Python 2.7.5 (default, Apr  2 2020, 13:16:51) \n",
    "[GCC 4.8.5 20150623 (Red Hat 4.8.5-39)] on linux2\n",
    "Type \"help\", \"copyright\", \"credits\" or \"license\" for more information.\n",
    ">>>\n",
    "```\n",
    "\n",
    "The ```>>>``` is a **prompt**, waiting for you to type python commands. Type ``[CTRL+D]`` to exit.\n",
    "\n",
    "Python is available per default on virtually *any* linux system, for the simple reason that many programs actually *use* python internally. However, as you can see, it runs python version 2 (as of 2020, modern Linux distributions now removed the `python` command and only offer `python3`). We can also run python 3 with a simple:\n",
    "\n",
    "```\n",
    "$ python3\n",
    "```\n",
    "\n",
    "Now, shouldn't this python program be enough? For simple usages like today's examples, yes it would suffice. But as we are going to see, python alone isn't really useful for us scientists: we need so-called **third party packages**, tools developed with and for python, but not available per default. While some of them are so important that they are available as linux packages, it is much easier (and safer) to use our own python installation for installing those. This is the primary purpose of a personalized python installation."
   ]
  },
  {
   "cell_type": "markdown",
   "metadata": {},
   "source": [
    "### Using a custom (pre-installed) python at the university"
   ]
  },
  {
   "cell_type": "markdown",
   "metadata": {},
   "source": [
    "It turns out I have \"installed\" a more recent python version (and some additional packages) on a shared repository available to everyone with a UIBK account. I wrote \"installed\" with quotation marks because, in linux, the definition of \"installed\" is subjective. Let's say that I've put the python executables somewhere where everybody can see them. Let's try it:\n",
    "\n",
    "```\n",
    "$ /project/c7071047/miniconda3/bin/python\n",
    "Python 3.7.3 | packaged by conda-forge | (default, Jul  1 2019, 21:52:21) \n",
    "[GCC 7.3.0] :: Anaconda, Inc. on linux\n",
    "Type \"help\", \"copyright\", \"credits\" or \"license\" for more information.\n",
    ">>>\n",
    "```\n",
    "\n",
    "You should have been able to launch a new python interpreter: this version is more recent and provided by ``Anaconda, Inc.`` **This is the python I'd like you to use from now on** (when at the University - for your personal computer see the next section).\n",
    "\n",
    "```{note}\n",
    "The ``/project`` folder is a shared folder. I don't know where the device is located *physically*, but it definitely isn't in the computer room. This is yet another powerful feature of linux systems: shared folders look just like normal folders. Quite practical, huh? Now this may have one simple drawback: launching this python might be a bit slow sometimes (especially if all of you try to open it at the same time). Most of the time this shouldn't be a big problem, though.\n",
    "```"
   ]
  },
  {
   "cell_type": "markdown",
   "metadata": {},
   "source": [
    "### Making this change \"permanent\" "
   ]
  },
  {
   "cell_type": "markdown",
   "metadata": {},
   "source": [
    "Nobody wants to write such a long command to start python. So what we are going to do is to add the ``/project/c7071047/miniconda3/bin/`` folder to our ``PATH``, and in such a way that it is remembered for your later sessions.\n",
    "\n",
    "We are going to edit a special file in your ``HOME``, ``~/.bashrc``. This file contains a list of commands which are executed automatically each time you open a terminal. How practical! Let's open this file and add the following two lines at the end of it:\n",
    "\n",
    "```\n",
    "# added for the python course:\n",
    "export PATH=\"/project/c7071047/miniconda3/bin:$PATH\"\n",
    "```\n",
    "\n",
    "```{warning}\n",
    "Careful! This will add a folder to the ``PATH`` variable, which is a fundamental element in linux: make sure that you add these two lines (and exactly these lines: respect the upper- and lower-case as well!) to your ``.bashrc``\n",
    "```\n",
    "\n",
    "What did we just do? We added a folder to the ``PATH`` (remember what this is?) and added it at the *beginning* of it. This is important because linux is going to look for programs in order: if a ``python`` executable is found in the first folder, no need to look for another one (i.e. ignore the default linux program).\n",
    "\n",
    "```{note}\n",
    "For this change to take effect, close your terminal and open a new one! ``~/.bashrc`` is executed only once, at the opening of a new terminal.\n",
    "```"
   ]
  },
  {
   "cell_type": "markdown",
   "metadata": {},
   "source": [
    "If everything worked fine, after typing ``python`` in the command line you should be given the most recent version I prepared for you."
   ]
  },
  {
   "cell_type": "markdown",
   "metadata": {},
   "source": [
    "(installation:pc)=\n",
    "## Installing Python on your PC"
   ]
  },
  {
   "cell_type": "markdown",
   "metadata": {},
   "source": [
    "Unlike Matlab or IDL, Python's scientific track is not installed\n",
    "\"out of the box\" with a single installation file. Fortunately, there are very useful tools out there to help us out.\n",
    "The most useful is [Miniconda](http://conda.pydata.org/miniconda.html),\n",
    "which will help us to install *both* Python and the packages we need\n",
    "within a couple of minutes. The first installation step is platform specific (Windows, Linux, or Mac) while the other steps are the \n",
    "same on all platforms."
   ]
  },
  {
   "cell_type": "markdown",
   "metadata": {},
   "source": [
    "```{admonition} For Windows users\n",
    ":class: warning\n",
    "Windows is not a very friendly environment for software development and science[^foot_windows]. Things tend to work, but they are often more complicated and slower than on linux or mac. Furthermore, since the majority of the scientific software developers and teachers (including me) do not work on Windows, bugs or problems are sometimes left unnoticed.\n",
    "\n",
    "That being said: if you are not comfortable with computers or the command line, it is very much OK to stay with Windows. All of my past students managed to get python to work on Windows. It should work OK for you as well.\n",
    "```\n",
    "\n",
    "[^foot_windows]: Some people would obviously disagree with this, but I personally stand to it: for daily tasks like programming, connecting to a supercomputer or a data server, analyzing and managing data, writing a document with latex, etc., linux is better than Windows."
   ]
  },
  {
   "cell_type": "markdown",
   "metadata": {},
   "source": [
    "### Install Miniconda "
   ]
  },
  {
   "cell_type": "markdown",
   "metadata": {},
   "source": [
    "Go to the miniconda [website](http://conda.pydata.org/miniconda.html) and\n",
    "download the latest installer for your platform (be careful to\n",
    "check whether you need a 64- or 32-bit version - most probably 64).\n",
    "\n",
    "The installation is really easy and described\n",
    "[here](https://conda.io/projects/conda/en/latest/user-guide/install/index.html).\n",
    "Choose an installation directory where you have enough space available\n",
    "(conda installations can quickly grow larger than a few GB).\n",
    "\n",
    "To see if everything worked well, open a terminal window (on Windows, the\n",
    "[anaconda prompt](https://docs.anaconda.com/anaconda/user-guide/getting-started/#open-prompt-win))\n",
    ", and type in:\n",
    "\n",
    "```\n",
    "conda update conda\n",
    "```    \n",
    "\n",
    "If you type:\n",
    "\n",
    "```\n",
    "python\n",
    "```\n",
    "\n",
    "A new python prompt should appear, with something like:\n",
    "\n",
    "```\n",
    "Python X.X.X |Continuum Analytics, Inc.| (default, Oct 19 2015, 21:52:17) \n",
    "xxxx\n",
    "Type \"help\", \"copyright\", \"credits\" or \"license\" for more information.\n",
    ">>>\n",
    "```\n",
    "\n",
    "You can type ``exit()`` or ``[CTRL+D]`` to get out of the python prompt.\n",
    "\n",
    "\n",
    "```{admonition} For Windows users\n",
    ":class: important\n",
    "\n",
    "To have access to conda commands and to manage your environments and packages, the\n",
    "[anaconda prompt](https://docs.anaconda.com/anaconda/user-guide/getting-started/#open-prompt-win) is what you want to use.\n",
    "\n",
    "You may have installed and tried ``git bash`` in the previous lecture. If you like it and want to use it further instead of the anaconda prompt, you can add your ``conda`` commands to it by following these [instructions](https://discuss.codecademy.com/t/setting-up-conda-in-git-bash/534473).\n",
    "```"
   ]
  },
  {
   "cell_type": "markdown",
   "metadata": {},
   "source": [
    "### Recommended: make a new environment called \"scipro\" "
   ]
  },
  {
   "cell_type": "markdown",
   "metadata": {},
   "source": [
    "Conda also helps us to define so-called \"environments\". A conda environment is\n",
    "an isolated directory that contains a specific collection of packages that you have\n",
    "installed. \n",
    "\n",
    "Environments are not necessary, but helpful on the long term (helpful e.g. if some packages are in conflict with each other). If this is \n",
    "your first installation you can skip this part and go directly\n",
    "to [Install the packages](#packs). \n",
    "\n",
    "If you want to try environments already (you'll thank me later), please have a short look at the conda introduction\n",
    "[here](https://conda.io/projects/conda/en/latest/user-guide/concepts/environments.html) before going on.\n",
    "\n",
    "In the terminal, type:\n",
    "\n",
    "    conda create -n scipro\n",
    "    \n",
    "This created a new environment called \"scipro\" which has the latest python version as\n",
    "default interpreter. This environment can be activated with one command:\n",
    "\n",
    "```\n",
    "conda activate scipro\n",
    "```\n",
    "\n",
    "Note that after activation, the prompt changed to something like\n",
    "``[scipro]xxx>``. Once in a specific environment, all the packages we\n",
    "install will be available in this environment only. This is very useful\n",
    "if you need different versions of python for different projects for example.\n",
    "\n",
    "**Don't forget to activate this environment** every time you want to work on\n",
    "the exercises or when you want to install a new package. You can deactivate\n",
    "the current environment with:\n",
    "\n",
    "```\n",
    "conda deactivate\n",
    "```"
   ]
  },
  {
   "cell_type": "markdown",
   "metadata": {},
   "source": [
    "### Install the packages\n",
    "<a id='packs'></a>"
   ]
  },
  {
   "cell_type": "markdown",
   "metadata": {},
   "source": [
    "There are a couple of packages that you will always need, whatever you are\n",
    "working on. These are: [ipython](http://ipython.org/),\n",
    "[Jupyter](https://jupyter.org/), [numpy](http://www.numpy.org/),\n",
    "[scipy](https://www.scipy.org/), [matplotlib](http://matplotlib.org).\n",
    "\n",
    "To install them, type:\n",
    "\n",
    "```\n",
    "conda install numpy scipy matplotlib ipython jupyter\n",
    "```\n",
    "\n",
    "This will download the packages and install them, as well as their\n",
    "dependencies. This can take a while! If successful, you should now be able to\n",
    "start ``ipython``, for example:\n",
    "\n",
    "```\n",
    "ipython\n",
    "```\n",
    "\n",
    "Use ``[CTRL+D]`` to close the interpreter and get back to the prompt.\n",
    "\n",
    "We will need some other packages later on, but this will get you started. If you want to install the [spyder](https://www.spyder-ide.org/) development environment, do:\n",
    "\n",
    "```\n",
    "conda install spyder\n",
    "```\n",
    "\n",
    "And then run:\n",
    "\n",
    "```\n",
    "spyder (or spyder3, depending on your system)\n",
    "```"
   ]
  },
  {
   "cell_type": "markdown",
   "metadata": {},
   "source": [
    "### Optional: update the packages"
   ]
  },
  {
   "cell_type": "markdown",
   "metadata": {},
   "source": [
    "After a while, it might be useful to update the packages you are using (careful! this is *most of the times* a good idea, but not always[^foot_update]).\n",
    "\n",
    "You can update a single package:\n",
    "\n",
    "```\n",
    "conda update numpy\n",
    "```\n",
    "\n",
    "Or then simply update them all:\n",
    "\n",
    "```\n",
    "conda update --all\n",
    "```\n",
    "\n",
    "[^foot_update]: Some updates might include changes which change the way functions are called, or -even worse- change your results. This is usually not the case for large, well-known software packages, but it can happen. The best way to ensure consistency are tests - as we are going to learn - and getting information about the package updates."
   ]
  },
  {
   "cell_type": "markdown",
   "metadata": {},
   "source": [
    "(conda-clone)=\n",
    "### Go safe: clone your working environments before installing new packages "
   ]
  },
  {
   "cell_type": "markdown",
   "metadata": {},
   "source": [
    "\"Never change a winning team\" (also known as \"if it ain't broke, don't fix it\") is a true programming wisdom. In the course of your studies, you might have to install new packages to a perfectly fine, working environment. I've said often in class that conda environments are nothing to be afraid of (they are just files on your computer), but still: if your setup currently works, keeping it working is generally a good idea.\n",
    "\n",
    "If you have a `scipro` environment that works and you are afraid of braking it, it's a good idea to [clone it](https://conda.io/projects/conda/en/latest/user-guide/tasks/manage-environments.html#cloning-an-environment) with:\n",
    "\n",
    "```\n",
    "conda create --name scipro_clone --clone scipro\n",
    "```\n",
    "\n",
    "Once this is done, you can now try wild things in the `scipro` environment, knowing that you can always delete it if things go wrong and clone it back from the original anytime..."
   ]
  },
  {
   "cell_type": "markdown",
   "metadata": {},
   "source": [
    "## Advanced python installation instructions and troubleshooting "
   ]
  },
  {
   "cell_type": "markdown",
   "metadata": {},
   "source": [
    "Sooner or later, you will encounter issues when installing a package. For me (on my Windows machine that I installed just for you, my dear students!), it started at [Assignment 03](../week_03/Assignment-03), when I wanted to install `rasterio` on my `scipro` environment. I was welcomed with the message that `rasterio` was not available for my python version (v3.9) in the default channels. Similar problems may also occur on Linux or MacOS, by the way.\n",
    "\n",
    "Fortunately, I was able to solve this problem and install rasterio on Windows without hassle. I will now provide you with the tools that can help you to do that. **Please use these tools only after having tried the default instructions on this page, and after you have understood the basic concepts of environments as explained above. These tools work very well, but I recommend to understand some conda basics before using them.*\n",
    "\n",
    "Now, we will address two main problems of the default conda installation:\n",
    "- `conda` commands are very slow. They become much slower as the number of packages you have installed increases. There is a [bunch of information on the web about that](https://www.anaconda.com/blog/understanding-and-improving-condas-performance), and I won't detail them here. **One solution to this problem is [mamba](https://github.com/mamba-org/mamba).**\n",
    "- the anaconda default channels (the online repositories delivering the packages you installed if you followed the instructions above) are not always up-to-date to the latest developments (this is why `rasterio` was not yet available with python 3.9 when I tried it). **The solution to this problem is [conda-forge](https://conda-forge.org).**"
   ]
  },
  {
   "cell_type": "markdown",
   "metadata": {},
   "source": [
    "### Solve the performance problem: `mamba`"
   ]
  },
  {
   "cell_type": "markdown",
   "metadata": {},
   "source": [
    "[mamba](https://github.com/mamba-org/mamba) is an \"in-place\" replacement for conda. This means that all conda commands you know about can be replaced by mamba commands and will work just the same (but quite faster). Using mamba is quite safe - I recommend to avoid mixing mamba commands with conda commands though: once you have started using mamba, use only that.\n",
    "\n",
    "To use mamba, install mamba in your `(base)` environment:\n",
    "\n",
    "```\n",
    "$ conda install mamba -n base -c conda-forge\n",
    "```\n",
    "\n",
    "Once installed, you can use `mamba` in place of the typical `conda` commands to install packages (see below).\n",
    "\n",
    "\n",
    "````{admonition} For git bash users\n",
    ":class: dropdown, tip\n",
    "\n",
    "If you use `git bash` instead of the anaconda prompt to start spyder, you will have to add mamba to it as well. Edit your `~/.bashrc` file to add a link to `mamba` as well. Here is how mine looks like:\n",
    "\n",
    "```\n",
    ". /c/Users/c7071047/Miniconda3/etc/profile.d/conda.sh\n",
    "mamba() { /c/Users/c7071047/Miniconda3/condabin/mamba.bat \"$@\" ;}\n",
    "```\n",
    "\n",
    "````"
   ]
  },
  {
   "cell_type": "markdown",
   "metadata": {},
   "source": [
    "### Solve the package availability problem: use `conda-forge`"
   ]
  },
  {
   "cell_type": "markdown",
   "metadata": {},
   "source": [
    "[conda-forge](https://conda-forge.org) is a collection of packages maintained by a large community of volunteers and the package maintainers themselves. It is usually more up-to-date than the default conda channels. To use `conda-forge`, we will [follow the instructions on their documentation](https://conda-forge.org/docs/user/introduction.html#how-can-i-install-packages-from-conda-forge).\n",
    "\n",
    "We start by adding `conda-forge` to our channels and set it as the default channel:\n",
    "\n",
    "```\n",
    "$ conda config --add channels conda-forge\n",
    "$ conda config --set channel_priority strict\n",
    "\n",
    "```\n",
    "\n",
    "Then, we create a new environment (just to be sure):\n",
    "\n",
    "```\n",
    "$ conda create --name scipro_forge\n",
    "$ conda activate scipro_forge\n",
    "```\n",
    "\n",
    "And finally, we install the packages we need:\n",
    "\n",
    "```\n",
    "$ mamba install numpy scipy matplotlib ipython jupyter spyder matplotlib xarray \n",
    "$ mamba install rasterio  (if you want!)\n",
    "```\n",
    "\n",
    "That's as simple as that!"
   ]
  },
  {
   "cell_type": "markdown",
   "metadata": {},
   "source": [
    "## Take home points"
   ]
  },
  {
   "cell_type": "markdown",
   "metadata": {},
   "source": [
    "- python is available per default on almost all linux distributions, for the simple reason that many software packages use python internally \n",
    "- it is not available per default on windows, but it can be installed \n",
    "- the system python is useful for scripting or for simple tasks, but for real-world applications you want to install python (and related packages) on your own. \n",
    "- the best tool to install a custom python and selected packages is [conda](https://conda.io/docs/), installed via [miniconda](https://conda.io/miniconda.html)\n",
    "- **conda-forge** and **mamba** are drop-in replacements for the default anaconda channels and conda install commands, respectively. They are useful for more advanced use cases\n",
    "- on linux, a python \"installation\" is simply a link to a python executable file - on Windows, it's more complicated\n",
    "- Windows excels at hiding details to the users: this can be good sometimes (for example when you want to play games or run microsoft word), but as a scientist I recommend you start to think and learn about how things work on the system you use everyday. In short: stick to Windows if you like it, but **learn how to use it properly** and learn **how it works from the inside**."
   ]
  }
 ],
 "metadata": {
  "hide_input": false,
  "kernelspec": {
   "display_name": "Python 3 (ipykernel)",
   "language": "python",
   "name": "python3"
  },
  "language_info": {
   "codemirror_mode": {
    "name": "ipython",
    "version": 3
   },
   "file_extension": ".py",
   "mimetype": "text/x-python",
   "name": "python",
   "nbconvert_exporter": "python",
   "pygments_lexer": "ipython3",
   "version": "3.8.5"
  },
  "toc": {
   "base_numbering": 2,
   "nav_menu": {},
   "number_sections": true,
   "sideBar": true,
   "skip_h1_title": false,
   "title_cell": "Table of Contents",
   "title_sidebar": "Contents",
   "toc_cell": true,
   "toc_position": {},
   "toc_section_display": "block",
   "toc_window_display": true
  }
 },
 "nbformat": 4,
 "nbformat_minor": 4
}
