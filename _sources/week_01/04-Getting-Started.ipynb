{
 "cells": [
  {
   "cell_type": "markdown",
   "metadata": {},
   "source": [
    "# Getting started with Python "
   ]
  },
  {
   "cell_type": "markdown",
   "metadata": {},
   "source": [
    "In this chapter we are getting used to the python command line, and we are going to write our first small program.\n",
    "\n",
    "**Prerequisites**: you have python and ipython installed, as described in {doc}`01-Installation`. Alternatively, you can also use MyBinder for this unit."
   ]
  },
  {
   "cell_type": "markdown",
   "metadata": {},
   "source": [
    "## The standard command-line interpreter"
   ]
  },
  {
   "cell_type": "markdown",
   "metadata": {},
   "source": [
    "Let's open a python interpreter and type in some commands:\n",
    "\n",
    "```python\n",
    ">>> a = 2\n",
    ">>> b = 3\n",
    ">>> print(a+b)\n",
    "5\n",
    ">>> a*b\n",
    "6\n",
    ">>> a**3\n",
    "```"
   ]
  },
  {
   "cell_type": "markdown",
   "metadata": {},
   "source": [
    "This should look quite familiar to you, whatever language you learned before. We defined variables, and did some arithmetics with them. On line 3 we used the ``print()`` function to display the output of our computations, but as it turns out it is not necessary: the command line shell will print the output anyway. This functionality is called [REPL](https://en.wikipedia.org/wiki/Read%E2%80%93eval%E2%80%93print_loop), and it is a feature of modern interpreted languages. We'll come back to this later."
   ]
  },
  {
   "cell_type": "markdown",
   "metadata": {},
   "source": [
    "## Running scripts"
   ]
  },
  {
   "cell_type": "markdown",
   "metadata": {},
   "source": [
    "Of course, the command-line interpreter is only useful for small tasks or for data exploration. Most of the time, you will want to write **scripts** (a collection of commands executed in order to reach a certain goal) or more complex **programs** (the difference between \"scripts\" and \"programs\" is fuzzy, but for now let's call a \"program\" a tool which involves writing several functions and/or files)."
   ]
  },
  {
   "cell_type": "markdown",
   "metadata": {},
   "source": [
    "### Running a python script from the terminal "
   ]
  },
  {
   "cell_type": "markdown",
   "metadata": {},
   "source": [
    "Python scripts are simple text files. Per convention we like to give them a suffix: ``.py``. This suffix is required for python modules but not mandatory for scripts with a shebang. In general it's a good idea to use the ``.py`` suffix though.\n",
    "\n",
    "Let's create a new file, ``my_python_script.py`` (using a text editor of your choice, for example `gedit` in ubuntu or `wordpad` in Windows), and add these few lines of code to it:\n",
    "\n",
    "```python\n",
    "a = 3\n",
    "b = 6\n",
    "c = a * b\n",
    "print('The product of {} and {} is {}'.format(a, b, c))\n",
    "```\n",
    "\n",
    "Now you should be able to run the script by calling python in a terminal:\n",
    "\n",
    "```\n",
    "$ python my_python_script.py\n",
    "```"
   ]
  },
  {
   "cell_type": "markdown",
   "metadata": {},
   "source": [
    "## Take home points"
   ]
  },
  {
   "cell_type": "markdown",
   "metadata": {},
   "source": [
    "- python scripts are text files ending with ``.py``. They can be run from the terminal (``python my_file.py``) or from the ``ipython`` interpreter (``%run my_file.py``)."
   ]
  }
 ],
 "metadata": {
  "hide_input": false,
  "kernelspec": {
   "display_name": "Python 3 (ipykernel)",
   "language": "python",
   "name": "python3"
  },
  "language_info": {
   "codemirror_mode": {
    "name": "ipython",
    "version": 3
   },
   "file_extension": ".py",
   "mimetype": "text/x-python",
   "name": "python",
   "nbconvert_exporter": "python",
   "pygments_lexer": "ipython3",
   "version": "3.10.6"
  },
  "latex_envs": {
   "LaTeX_envs_menu_present": true,
   "autoclose": false,
   "autocomplete": true,
   "bibliofile": "biblio.bib",
   "cite_by": "apalike",
   "current_citInitial": 1,
   "eqLabelWithNumbers": true,
   "eqNumInitial": 1,
   "hotkeys": {
    "equation": "Ctrl-E",
    "itemize": "Ctrl-I"
   },
   "labels_anchors": false,
   "latex_user_defs": false,
   "report_style_numbering": false,
   "user_envs_cfg": false
  },
  "nbTranslate": {
   "displayLangs": [
    "*"
   ],
   "hotkey": "alt-t",
   "langInMainMenu": true,
   "sourceLang": "en",
   "targetLang": "fr",
   "useGoogleTranslate": true
  },
  "toc": {
   "base_numbering": 3,
   "nav_menu": {},
   "number_sections": true,
   "sideBar": true,
   "skip_h1_title": false,
   "title_cell": "Table of Contents",
   "title_sidebar": "Contents",
   "toc_cell": true,
   "toc_position": {},
   "toc_section_display": "block",
   "toc_window_display": true
  }
 },
 "nbformat": 4,
 "nbformat_minor": 4
}
