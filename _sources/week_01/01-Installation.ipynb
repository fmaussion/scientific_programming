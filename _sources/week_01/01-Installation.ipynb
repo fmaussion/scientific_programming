{
 "cells": [
  {
   "cell_type": "markdown",
   "metadata": {},
   "source": [
    "# Installing Python on your computer"
   ]
  },
  {
   "cell_type": "markdown",
   "metadata": {},
   "source": [
    "<img src=\"https://www.python.org/static/community_logos/python-logo.png\" align=\"left\"> This chapter contains some instructions about how to install Python on your personal computer.\n",
    "\n",
    "There are many ways to install Python on your computer (and while most of them work, some of them are less practical than others for scientific applications). Unless you know what you are doing (i.e.: you have been doing this before), please follow these instructions exactly.\n",
    "\n",
    "\n",
    "```{admonition} Important! What to do if you **already** have python installed on your laptop \n",
    ":class: warning, dropdown\n",
    "    \n",
    "**If you already have anaconda / conda / miniconda installed**:\n",
    "\n",
    "You can keep your installation if it works for you. If you want to start from scratch, uninstall anaconda and start again as explained below. \n",
    "\n",
    "---\n",
    "\n",
    "**If you don't know what I'm talking about:** \n",
    "\n",
    "Then you should probably follow the instructions below.\n",
    "```"
   ]
  },
  {
   "cell_type": "markdown",
   "metadata": {},
   "source": [
    "```{admonition} Important! For Windows 7 users\n",
    ":class: warning, dropdown\n",
    "\n",
    "Windows 7 is [not supported since January 2020](https://en.wikipedia.org/wiki/Windows_7). It seems that you can't install `mambaforge` on Windows 7. Regardless of python, I strongly recommend to update to a version with security updates. \n",
    "```"
   ]
  },
  {
   "cell_type": "markdown",
   "metadata": {},
   "source": [
    "## Install Miniconda "
   ]
  },
  {
   "cell_type": "markdown",
   "metadata": {},
   "source": [
    "### On Windows \n",
    "\n",
    "Go to the miniforge download website: https://github.com/conda-forge/miniforge#mambaforge\n",
    "\n",
    "Download the installers for **Mambaforge** and your operating system (Windows, Mac OS or Linux).\n",
    "Unless you have an uncommon architecture (unlikely), you should choose the `x86_64` files.\n",
    "\n",
    "<img src=\"../img/download_options.png\" width=\"400\"> <br>\n",
    "\n",
    "Double-click the `.exe` file.\n",
    "\n",
    "Follow the instructions on the screen.\n",
    "\n",
    "If you are unsure about any setting, accept the defaults. You can change them later. At this stage, I recommend:\n",
    "\n",
    "<img src=\"../img/install_options.png\" width=\"400\">\n",
    "\n",
    "### On Mac OS and Linux \n",
    "\n",
    "For these platforms, no need to download the files yourself. Open a terminal and do:\n",
    "\n",
    "```none\n",
    "curl -L -O \"https://github.com/conda-forge/miniforge/releases/latest/download/Mambaforge-$(uname)-$(uname -m).sh\"\n",
    "bash Mambaforge-$(uname)-$(uname -m).sh\n",
    "```\n",
    "\n",
    "or, if this doesn't work:\n",
    "\n",
    "```none\n",
    "wget \"https://github.com/conda-forge/miniforge/releases/latest/download/Mambaforge-$(uname)-$(uname -m).sh\"\n",
    "bash Mambaforge-$(uname)-$(uname -m).sh\n",
    "```\n",
    "\n",
    "The first command downloads the tool, and the second installs it. Follow the prompts on the installer screens.\n",
    "\n",
    "If you are unsure about any setting, accept the defaults **except for the last question asking you if you wish to run `conda init`: here, answer \"yes\".**\n",
    "\n",
    "To make the changes take effect, close and then re-open your terminal window.\n",
    "\n",
    "### Testing your installation\n",
    "\n",
    "\n",
    "To see if everything worked well, open a terminal (Mac and Linux). On Windows, open the `miniforge prompt` (from the Start menu, search for and open \"miniforge prompt\"):\n",
    "\n",
    "<img src=\"../img/miniforge.png\" width=\"400\"> <br>\n",
    "\n",
    "and type in:\n",
    "\n",
    "```none\n",
    "mamba list\n",
    "```    \n",
    "\n",
    "You should see a long list of package names.\n",
    "\n",
    "If you type:\n",
    "\n",
    "```none\n",
    "python\n",
    "```\n",
    "\n",
    "A new python prompt should appear, with something like:\n",
    "\n",
    "```none\n",
    "Python 3.9.7 | packaged by conda-forge | (default, Sep 29 2021, 19:15:42) [MSC v.1916 64 bit (AMD64)] on win32\n",
    "Type \"help\", \"copyright\", \"credits\" or \"license\" for more information.\n",
    ">>>\n",
    "```\n",
    "\n",
    "You can type ``exit()`` to get out of the python interpreter.\n",
    "\n",
    "\n",
    "```{admonition} Optional: conda, mamba, conda-forge?\n",
    ":class: note, dropdown\n",
    "\n",
    "Although the instructions above should work in almost all situations and should get you ready for the class,\n",
    "I should explain what we have just done in case you are interested or if you google:\n",
    "\n",
    "We have just installed [miniconda](https://docs.conda.io/en/latest/miniconda.html) which is a minimal installer for the larger project Anaconda. Anaconda is a scientific Python installation which, in my opinion, has too many options and tools that you won't need.\n",
    "\n",
    "**But** we haven't installed `miniconda` only: we have also set some options per default automatically:\n",
    "- we now use [conda-forge](https://conda-forge.org/) as default channels to download the python packages we will use later in the lecture (instead of anaconda channels).\n",
    "- we now use [mamba](https://mamba.readthedocs.io) as the default python package install tool (instead of `conda`). `mamba install` behaves exactly like `conda install`, but is significantly faster.\n",
    "```"
   ]
  },
  {
   "cell_type": "markdown",
   "metadata": {},
   "source": [
    "## What is this python \"interpreter\"? "
   ]
  },
  {
   "cell_type": "markdown",
   "metadata": {},
   "source": [
    "Start with reading the definition from <a href=\"https://techterms.com/definition/interpreter\">the Tech Terms Dictionary</a>.\n",
    "\n",
    "Put simple, the python interpreter is a program executing python programs or commands. It reads the programs you write and executes the instructions they contain. We will look into interpreters in a little more detail later in the semester, when we will talk about compiled and interpreted languages. "
   ]
  },
  {
   "cell_type": "markdown",
   "metadata": {},
   "source": [
    "## What is a \"python installation\"?"
   ]
  },
  {
   "cell_type": "markdown",
   "metadata": {},
   "source": [
    "[Explanation for windows users](01a-Details-Windows)\n",
    ": the difference between the command prompt, the miniforge prompt, and the python interpreter\n",
    "\n",
    "[Explanation for linux/mac users](01b-Details-Linux)\n",
    ": what did ``mambaforge`` do to your terminal?"
   ]
  },
  {
   "cell_type": "markdown",
   "metadata": {},
   "source": [
    "## Learning checklist\n",
    "\n",
    "<label><input type=\"checkbox\" id=\"week01_01\" class=\"box\"> I know how to install python + mamba on my computer. What this means (especially mamba) will be explained in more detail next week.</input></label>\n",
    "<label><input type=\"checkbox\" id=\"week01_02\" class=\"box\"> I know how to open a **python interpreter** from the miniforge prompt (or the terminal in Linux / Mac OS) and close it with `exit()`.</input></label>   \n",
    "<label><input type=\"checkbox\" id=\"week01_03\" class=\"box\"> Linux/Mac only: I understand the differences between a terminal and a python interpreter. I have a basic understanding of what changed in my computer when I installed mambaforge.</input></label> \n",
    "<label><input type=\"checkbox\" id=\"week01_04\" class=\"box\"> Windows only: I understand the differences between the command prompt, the miniforge prompt, and the python interpreter.</input></label>    "
   ]
  }
 ],
 "metadata": {
  "hide_input": false,
  "kernelspec": {
   "display_name": "Python 3 (ipykernel)",
   "language": "python",
   "name": "python3"
  },
  "language_info": {
   "codemirror_mode": {
    "name": "ipython",
    "version": 3
   },
   "file_extension": ".py",
   "mimetype": "text/x-python",
   "name": "python",
   "nbconvert_exporter": "python",
   "pygments_lexer": "ipython3",
   "version": "3.10.6"
  },
  "toc": {
   "base_numbering": 2,
   "nav_menu": {},
   "number_sections": true,
   "sideBar": true,
   "skip_h1_title": false,
   "title_cell": "Table of Contents",
   "title_sidebar": "Contents",
   "toc_cell": true,
   "toc_position": {},
   "toc_section_display": "block",
   "toc_window_display": true
  }
 },
 "nbformat": 4,
 "nbformat_minor": 4
}
