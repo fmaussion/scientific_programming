{
 "cells": [
  {
   "cell_type": "markdown",
   "metadata": {},
   "source": [
    "# 01 - Object Oriented Programming: introduction"
   ]
  },
  {
   "cell_type": "markdown",
   "metadata": {},
   "source": [
    "[Object-oriented programming](https://en.wikipedia.org/wiki/Object-oriented_programming) (OOP) is a standard feature of many modern programming languages. Learning OOP \"properly\" would require one entire semester at least, and we won't try to cover all the details here. The specific objectives of these three OOP units are:\n",
    "- to learn the basic OOP concepts and syntax so that you are able to understand OOP code and can use libraries making use of OOP concepts (i.e.: almost all python libraries)\n",
    "- to become familiar with certain semantics associated with OOP: classes, objects, attributes, methods, inheritance\n",
    "- to introduce simple examples where OOP is a useful paradigm, and try to raise your interest in its usage so that you can learn it by yourself when needed\n",
    "\n",
    "Today's OOP unit introduces the concept of \"objects\" in the Python language and shows how to create new kind of objects on your own. Next week we will learn the concept of class inheritance. Finally, we will learn in which circumstances objects can be useful, and when not."
   ]
  },
  {
   "cell_type": "markdown",
   "metadata": {},
   "source": [
    "*Copyright notice: this chapter is vaguely inspired from [RealPython's beginner tutorial](https://realpython.com/python3-object-oriented-programming/) on OOP.*"
   ]
  },
  {
   "cell_type": "markdown",
   "metadata": {},
   "source": [
    "## Introduction"
   ]
  },
  {
   "cell_type": "markdown",
   "metadata": {},
   "source": [
    "As stated in the [OOP wikipedia page](https://en.wikipedia.org/wiki/Object-oriented_programming), OOP is a \"paradigm\" which might or might not be supported by a specific programming language. Although Python is an OOP language at its core, **it does not enforce its usage**. Matlab or R follow the same philosophy: they support OOP but do not force their users to use it. In fact, many of you will finish your master thesis without having to write any OOP specific code. You have, however, already made heavy use of Python objects (*everything* is an object in Python, remember?) and I argue that it is very important that you are able to understand the basics of OOP in order to make better use of Python.\n",
    "\n",
    "In short, **OOP is simply another way to structure your programs**. Until now, you have written modules consisting of functions, sometimes with a short ``__main__`` script which was itself calling one or more functions. OOP will add a new tool to your repertoire by allowing you to **bundle data and behaviors into individual objects**, possibly helping you to organize your code in a way that feels more natural and clear.\n",
    "\n",
    "Let's get started with some examples and new semantics! We will talk about the advantages and disadvantages of OOP in a following unit, once you are more familiar with its syntax."
   ]
  },
  {
   "cell_type": "markdown",
   "metadata": {},
   "source": [
    "## Classes and objects"
   ]
  },
  {
   "cell_type": "markdown",
   "metadata": {},
   "source": [
    "**Classes** are used to create new user-defined structures that contain information about something. These \"things\" come with \"services\", as you already know. Let's define a new class called ``Cat``:"
   ]
  },
  {
   "cell_type": "code",
   "execution_count": null,
   "metadata": {},
   "outputs": [],
   "source": [
    "class Cat:\n",
    "    # Initializer\n",
    "    def __init__(self, name, weight):\n",
    "        self.name = name\n",
    "        self.weight = weight"
   ]
  },
  {
   "cell_type": "markdown",
   "metadata": {},
   "source": [
    "What are the new things in this code snippet? \n",
    "- first, the class name definition (`class Cat`). As per [pep8](https://www.python.org/dev/peps/pep-0008/#class-names), class names in Python should use \"CapWords\" per convention\n",
    "- the class contains a \"function\" called ``__init__``, which indeed looks very much like a normal function. Here the ``__init__`` function has three positional arguments: ``self`` (which has a special meaning as we are going to see), ``name`` and ``weight``. These arguments are used to initialize the **attributes** of the same name. We'll go back to this in the next section.\n",
    "\n",
    "A class provides a new structure definition. It's a \"blueprint\" for how something should be defined, but it doesn't actually provide any real data content itself. To actually use the functionalities defined by the **class** you'll need to create a new **instance** of that class. **Instantiating** is a fancy term for creating a new, unique realization of a class (an **object**). Let's go for it:"
   ]
  },
  {
   "cell_type": "code",
   "execution_count": null,
   "metadata": {},
   "outputs": [],
   "source": [
    "a = Cat('Grumpy', 4)\n",
    "a"
   ]
  },
  {
   "cell_type": "markdown",
   "metadata": {},
   "source": [
    "We just created a new instance of the class ``Cat`` and assigned it to the variable ``a``. An instance of a class is commonly called an **object** (this can be used as synonym for \"instance\"). The variable ``a`` stores an instance of the class ``Cat``:"
   ]
  },
  {
   "cell_type": "code",
   "execution_count": null,
   "metadata": {},
   "outputs": [],
   "source": [
    "# Ask if a is an instance of Cat or not\n",
    "isinstance(a, Cat)"
   ]
  },
  {
   "cell_type": "markdown",
   "metadata": {},
   "source": [
    "In fact, we just created a **new datatype**, called ``Cat``:"
   ]
  },
  {
   "cell_type": "code",
   "execution_count": null,
   "metadata": {},
   "outputs": [],
   "source": [
    "type(a)"
   ]
  },
  {
   "cell_type": "markdown",
   "metadata": {},
   "source": [
    "**Every new instance of a class is unique**, regardless of the values used to initialize it. Let's create a new Cat with the same name and weight:"
   ]
  },
  {
   "cell_type": "code",
   "execution_count": null,
   "metadata": {},
   "outputs": [],
   "source": [
    "b = Cat('Grumpy', 4)"
   ]
  },
  {
   "cell_type": "code",
   "execution_count": null,
   "metadata": {},
   "outputs": [],
   "source": [
    "isinstance(b, Cat)"
   ]
  },
  {
   "cell_type": "markdown",
   "metadata": {},
   "source": [
    "It is still a unique instance and is not a copy of ``a`` in any way:"
   ]
  },
  {
   "cell_type": "code",
   "execution_count": null,
   "metadata": {},
   "outputs": [],
   "source": [
    "a == b"
   ]
  },
  {
   "cell_type": "code",
   "execution_count": null,
   "metadata": {},
   "outputs": [],
   "source": [
    "b is a"
   ]
  },
  {
   "cell_type": "markdown",
   "metadata": {},
   "source": [
    "## Class/instance attributes "
   ]
  },
  {
   "cell_type": "markdown",
   "metadata": {},
   "source": [
    "The cat's name and weight are called **instance attributes** and can be accessed with the dot syntax:"
   ]
  },
  {
   "cell_type": "code",
   "execution_count": null,
   "metadata": {},
   "outputs": [],
   "source": [
    "a.name"
   ]
  },
  {
   "cell_type": "code",
   "execution_count": null,
   "metadata": {},
   "outputs": [],
   "source": [
    "a.weight"
   ]
  },
  {
   "cell_type": "markdown",
   "metadata": {},
   "source": [
    "A common synonym for the term \"attribute\" is \"**property**\". The two terms are very close and you might find one or the other term depending on who writes about them. Properties in python are a special kind of attributes, but the difference is subtle and not relevant here."
   ]
  },
  {
   "cell_type": "markdown",
   "metadata": {},
   "source": [
    "**Instance attributes** are specific to the created object. They are often defined at instantiation:"
   ]
  },
  {
   "cell_type": "code",
   "execution_count": null,
   "metadata": {},
   "outputs": [],
   "source": [
    "b = Cat('Tiger', 5)\n",
    "b.name"
   ]
  },
  {
   "cell_type": "markdown",
   "metadata": {},
   "source": [
    "Classes can also define **class attributes**, which are tied to a class but not to a specific instance:"
   ]
  },
  {
   "cell_type": "code",
   "execution_count": null,
   "metadata": {},
   "outputs": [],
   "source": [
    "class Cat:\n",
    "    # Class attributes are defined at the class level\n",
    "    speak = 'Meow'\n",
    "    \n",
    "    # Initializer\n",
    "    def __init__(self, name, weight):\n",
    "        # Instance attributes only make sense at instanciation\n",
    "        self.name = name\n",
    "        self.weight = weight"
   ]
  },
  {
   "cell_type": "code",
   "execution_count": null,
   "metadata": {},
   "outputs": [],
   "source": [
    "Cat.speak"
   ]
  },
  {
   "cell_type": "code",
   "execution_count": null,
   "metadata": {},
   "outputs": [],
   "source": [
    "a = Cat('Grumpy', 4)\n",
    "a.speak"
   ]
  },
  {
   "cell_type": "markdown",
   "metadata": {},
   "source": [
    "**Careful!** Both class and instance attributes are **mutable**. They can be changed from outside the class:"
   ]
  },
  {
   "cell_type": "code",
   "execution_count": null,
   "metadata": {},
   "outputs": [],
   "source": [
    "a.name = 'Roncheux'\n",
    "a.speak = 'Miaou'"
   ]
  },
  {
   "cell_type": "code",
   "execution_count": null,
   "metadata": {},
   "outputs": [],
   "source": [
    "a.name"
   ]
  },
  {
   "cell_type": "code",
   "execution_count": null,
   "metadata": {},
   "outputs": [],
   "source": [
    "a.speak"
   ]
  },
  {
   "cell_type": "markdown",
   "metadata": {},
   "source": [
    "These changes are specific to the instance, and the class attributes remains unchanged:"
   ]
  },
  {
   "cell_type": "code",
   "execution_count": null,
   "metadata": {},
   "outputs": [],
   "source": [
    "Cat.speak"
   ]
  },
  {
   "cell_type": "markdown",
   "metadata": {},
   "source": [
    "In comparison to other OO languages, python is very \"liberal\" regarding attributes: some languages like Java would not allow to change attributes this way. In practice, attributes should not be changed by the users of a class. Unless they are documented as being \"changeable\", and in this case they become \"properties\". More on this later."
   ]
  },
  {
   "cell_type": "markdown",
   "metadata": {},
   "source": [
    "## Instance Methods"
   ]
  },
  {
   "cell_type": "markdown",
   "metadata": {},
   "source": [
    "If a class only had attributes, it would merely be a structure for data storage. Classes become useful when they add \"services\" to the data they store. These services are called **methods**, and their syntax has similarities with a function definition:"
   ]
  },
  {
   "cell_type": "code",
   "execution_count": null,
   "metadata": {},
   "outputs": [],
   "source": [
    "class Cat:\n",
    "    # Class attribute\n",
    "    speak = 'Meow'\n",
    "    \n",
    "    # Initializer\n",
    "    def __init__(self, name, weight):\n",
    "        self.name = name\n",
    "        self.weight = weight\n",
    "        \n",
    "    # Method\n",
    "    def say_name(self):\n",
    "        print('{}, {}!'.format(self.speak, self.name))"
   ]
  },
  {
   "cell_type": "markdown",
   "metadata": {},
   "source": [
    "The biggest difference between methods and functions is that **a method is tied to a class instance**: this is made clear by the ``self`` argument, present in the method definition but not used when calling the method:"
   ]
  },
  {
   "cell_type": "code",
   "execution_count": null,
   "metadata": {},
   "outputs": [],
   "source": [
    "a = Cat('Kitty', 4)\n",
    "a.say_name()"
   ]
  },
  {
   "cell_type": "code",
   "execution_count": null,
   "metadata": {},
   "outputs": [],
   "source": [
    "b = Cat('Grumpy', 3)\n",
    "b.say_name()"
   ]
  },
  {
   "cell_type": "markdown",
   "metadata": {},
   "source": [
    "The ``self`` variable is implicit in the call above, and refers to the instance of the class which is calling the method. It might sound a little complicated at first, but you'll get used to it: ``self`` is used to read and write instance attributes, and is the first argument to virtually any method defined in the class (there is one exception to this rule, and we will ignore it for today). "
   ]
  },
  {
   "cell_type": "markdown",
   "metadata": {},
   "source": [
    "At this point, you may have noticed similarities between the objects you used commonly in the climate lecture and the objects we just defined here. Let's make the analogy:"
   ]
  },
  {
   "cell_type": "code",
   "execution_count": null,
   "metadata": {},
   "outputs": [],
   "source": [
    "import xarray as xr\n",
    "a = xr.DataArray([1, 2, 3], name='my data variable')  # instantiating a class\n",
    "assert isinstance(a, xr.DataArray)  # a is an instance of the DataArray class\n",
    "print(type(a))  # xarray.core.dataarray.DataArray is the datatype\n",
    "print(a.name)  # name is an instance attribute\n",
    "print(a.mean())  # mean is an instance method"
   ]
  },
  {
   "cell_type": "markdown",
   "metadata": {},
   "source": [
    "Are you confident about the meaning of all these terms? If not, I might have explained it in a way which is not the right one for you: you can use your google-skills to look for other tutorials. There are plenty of good tutorials on the web!"
   ]
  },
  {
   "cell_type": "markdown",
   "metadata": {},
   "source": [
    "## Extending attributes: the @property decorator "
   ]
  },
  {
   "cell_type": "markdown",
   "metadata": {},
   "source": [
    "We learned that \"attributes\" are data that describe some aspects of a class instance. Very often, instance methods will initialize and/or update these attributes at run time. Consider the following example:"
   ]
  },
  {
   "cell_type": "code",
   "execution_count": null,
   "metadata": {},
   "outputs": [],
   "source": [
    "class Cat:\n",
    "    \n",
    "    # Initializer\n",
    "    def __init__(self, name, weight):\n",
    "        self.name = name\n",
    "        self.weight = weight\n",
    "        \n",
    "    # Method\n",
    "    def eat_food(self, food_kg):\n",
    "        self.weight += food_kg"
   ]
  },
  {
   "cell_type": "code",
   "execution_count": null,
   "metadata": {},
   "outputs": [],
   "source": [
    "a = Cat('Grumpy', 4)\n",
    "print('Weight before eating: {} kg'.format(a.weight))\n",
    "a.eat_food(0.2)\n",
    "print('Weight after eating: {} kg'.format(a.weight))"
   ]
  },
  {
   "cell_type": "markdown",
   "metadata": {},
   "source": [
    "This is a simplified but very typical use for instance attributes: they will change in an object's lifetime according to specific events. Now let's suppose that you are working with scientists from the USA, and they'd like to know the cat's weight in pounds. One way to do so would be to compute it at instantiation:"
   ]
  },
  {
   "cell_type": "code",
   "execution_count": null,
   "metadata": {},
   "outputs": [],
   "source": [
    "class Cat:\n",
    "    \n",
    "    # Initializer\n",
    "    def __init__(self, name, weight):\n",
    "        self.name = name\n",
    "        self.weight = weight\n",
    "        self.weight_lbs = weight / 0.45359237\n",
    "        \n",
    "    # Method\n",
    "    def eat_food(self, food_kg):\n",
    "        self.weight += food_kg"
   ]
  },
  {
   "cell_type": "code",
   "execution_count": null,
   "metadata": {},
   "outputs": [],
   "source": [
    "a = Cat('Grumpy', 4)\n",
    "a.weight_lbs"
   ]
  },
  {
   "cell_type": "markdown",
   "metadata": {},
   "source": [
    "There is an obvious drawback to this method however: what if the cat eats food? Its weight in lbs won't be updated!"
   ]
  },
  {
   "cell_type": "code",
   "execution_count": null,
   "metadata": {},
   "outputs": [],
   "source": [
    "a.eat_food(0.2)\n",
    "a.weight_lbs  # this is a problem"
   ]
  },
  {
   "cell_type": "markdown",
   "metadata": {},
   "source": [
    "A possible way to deal with the issue would be to compute the pound weight *on demand*, i.e. write a method to compute it:"
   ]
  },
  {
   "cell_type": "code",
   "execution_count": null,
   "metadata": {},
   "outputs": [],
   "source": [
    "class Cat:\n",
    "    \n",
    "    # Initializer\n",
    "    def __init__(self, name, weight):\n",
    "        self.name = name\n",
    "        self.weight = weight\n",
    "        \n",
    "    # Method\n",
    "    def eat_food(self, food_kg):\n",
    "        self.weight += food_kg\n",
    "        \n",
    "    def get_weight_lbs(self):\n",
    "        return self.weight / 0.45359237"
   ]
  },
  {
   "cell_type": "code",
   "execution_count": null,
   "metadata": {},
   "outputs": [],
   "source": [
    "a = Cat('Grumpy', 4)\n",
    "a.eat_food(0.2)\n",
    "a.get_weight_lbs()"
   ]
  },
  {
   "cell_type": "markdown",
   "metadata": {},
   "source": [
    "This is already much better (and accurate), but it is somehow hiding the fact that the weight of a cat really is an attribute, no matter the unit. It should not be accessed with a ``get_`` method. This is where a new syntax comes in handy:"
   ]
  },
  {
   "cell_type": "code",
   "execution_count": null,
   "metadata": {},
   "outputs": [],
   "source": [
    "class Cat:\n",
    "\n",
    "    # Initializer\n",
    "    def __init__(self, name, weight):\n",
    "        self.name = name\n",
    "        self.weight = weight\n",
    "        \n",
    "    # Method\n",
    "    def eat_food(self, food_kg):\n",
    "        self.weight += food_kg\n",
    "    \n",
    "    @property\n",
    "    def weight_lbs(self):\n",
    "        return self.weight / 0.45359237"
   ]
  },
  {
   "cell_type": "markdown",
   "metadata": {},
   "source": [
    "``weight_lbs`` looks like a method (it computes something), but only in the class definition. For the user of the objects, the computation is hidden in an attribute call:"
   ]
  },
  {
   "cell_type": "code",
   "execution_count": null,
   "metadata": {},
   "outputs": [],
   "source": [
    "a = Cat('Grumpy', 4)\n",
    "a.eat_food(0.2)\n",
    "a.weight_lbs  # weight_lbs is an attribute!"
   ]
  },
  {
   "cell_type": "markdown",
   "metadata": {},
   "source": [
    "This is a very useful pattern, and it is frequently used in python. The ``@`` syntax defines a \"decorator\", and you might learn about decorators in a more advanced python class."
   ]
  },
  {
   "cell_type": "markdown",
   "metadata": {},
   "source": [
    "## Digging deeper into @property: setters"
   ]
  },
  {
   "cell_type": "markdown",
   "metadata": {},
   "source": [
    "Now, your colleagues from the USA can finally read the weight of the cat in pounds, and you programmed this without compromising the consistency of the cat's weight, regardless of the unit used. However, your colleagues are still unhappy: they would like to be able to set the weight of the cat in pounds as well (these Americans really hate SI units). This is causing you trouble, because when they try to set it they get an error: "
   ]
  },
  {
   "cell_type": "code",
   "execution_count": null,
   "metadata": {},
   "outputs": [],
   "source": [
    "a.weight_lbs = 9  # this generates an attribute error"
   ]
  },
  {
   "cell_type": "markdown",
   "metadata": {},
   "source": [
    "This is expected, because nothing in the class definition above can set an attribute named `weight_lbs`: it is a passive, \"read only\" property. Here again, your creative mind came up with an elegant solution:"
   ]
  },
  {
   "cell_type": "code",
   "execution_count": null,
   "metadata": {},
   "outputs": [],
   "source": [
    "class Cat:\n",
    "\n",
    "    # Initializer\n",
    "    def __init__(self, name, weight, unit='kg'):\n",
    "        self.name = name\n",
    "        if unit == 'kg':\n",
    "            self.weight = weight\n",
    "        elif unit == 'lbs':\n",
    "            self.set_weight_lbs(weight)\n",
    "        else:\n",
    "            raise ValueError('Unit not understood: {}'.format(unit))\n",
    "        \n",
    "    # Method\n",
    "    def eat_food(self, food_kg):\n",
    "        self.weight += food_kg\n",
    "    \n",
    "    @property\n",
    "    def weight_lbs(self):\n",
    "        return self.weight / 0.45359237\n",
    "    \n",
    "    # Set a new value for the weight!\n",
    "    def set_weight_lbs(self, new_weight):\n",
    "        self.weight = 0.45359237 * new_weight"
   ]
  },
  {
   "cell_type": "markdown",
   "metadata": {},
   "source": [
    "With this new method, we are now able to consistently switch between units:"
   ]
  },
  {
   "cell_type": "code",
   "execution_count": null,
   "metadata": {},
   "outputs": [],
   "source": [
    "a = Cat('Grumpy', 4)\n",
    "a.eat_food(0.2)\n",
    "print(a.weight, a.weight_lbs)"
   ]
  },
  {
   "cell_type": "code",
   "execution_count": null,
   "metadata": {},
   "outputs": [],
   "source": [
    "a.set_weight_lbs(11)\n",
    "print(a.weight, a.weight_lbs)"
   ]
  },
  {
   "cell_type": "markdown",
   "metadata": {},
   "source": [
    "This solution works, but is suboptimal. Here again, your USA colleagues have to use a method (`obj.set_xxx()`) where you can use a more intuitive attribute syntax (`obj.xxx = new_value`). For this reason, Python introduced a **setter** decorator, with a syntax inspired from `@property`:"
   ]
  },
  {
   "cell_type": "code",
   "execution_count": null,
   "metadata": {},
   "outputs": [],
   "source": [
    "class Cat:\n",
    "\n",
    "    def __init__(self, name, weight, unit='kg'):\n",
    "        self.name = name\n",
    "        if unit == 'kg':\n",
    "            self.weight = weight\n",
    "        elif unit == 'lbs':\n",
    "            self.weight_lbs = weight\n",
    "        else:\n",
    "            raise ValueError('Unit not understood: {}'.format(unit))\n",
    "        \n",
    "    def eat_food(self, food_kg):\n",
    "        self.weight += food_kg\n",
    "    \n",
    "    @property\n",
    "    def weight_lbs(self):\n",
    "        return self.weight / 0.45359237\n",
    "    \n",
    "    # This is new!\n",
    "    @weight_lbs.setter\n",
    "    def weight_lbs(self, new_weight):\n",
    "        self.weight = 0.45359237 * new_weight"
   ]
  },
  {
   "cell_type": "markdown",
   "metadata": {},
   "source": [
    "With this new syntax, the USA colleagues won't see a difference between the \"true attribute\" (in SI units) and theirs:"
   ]
  },
  {
   "cell_type": "code",
   "execution_count": null,
   "metadata": {},
   "outputs": [],
   "source": [
    "a = Cat('Grumpy', 4)\n",
    "a.eat_food(0.2)\n",
    "print(a.weight, a.weight_lbs)  # read OK"
   ]
  },
  {
   "cell_type": "code",
   "execution_count": null,
   "metadata": {},
   "outputs": [],
   "source": [
    "a.weight_lbs = 11  # set OK\n",
    "print(a.weight, a.weight_lbs)  # updated: nice!"
   ]
  },
  {
   "cell_type": "markdown",
   "metadata": {},
   "source": [
    "## Private attributes and methods"
   ]
  },
  {
   "cell_type": "markdown",
   "metadata": {},
   "source": [
    "Sometimes it can be useful to define and use attributes or methods within a class, *without* providing them to users of the class: in some OO languages like Java or C++, they are called [private](https://en.wikipedia.org/wiki/Private_class_data_pattern) (e.g. a **private attribute** or a **private method**). In Python, there is no specific syntax or language specification for this pattern: in other words, all class attribute and methods are **public**, visible and usable by anyone.\n",
    "\n",
    "To allow the definition of private elements, however, the community agreed on a convention: all attributes and methods starting with an underscore (`_`) are meant to be private and do not belong to the public facing (documented interface) of a class.\n",
    "\n",
    "There are plenty of uses for private attributes or methods, but I'll illustrate one of them below:"
   ]
  },
  {
   "cell_type": "code",
   "execution_count": null,
   "metadata": {},
   "outputs": [],
   "source": [
    "class Cat:\n",
    "    \n",
    "    # Initializer\n",
    "    def __init__(self, name, language='en'):\n",
    "        \n",
    "        # Name of the cat: an instance attribute\n",
    "        self.name = name\n",
    "          \n",
    "        # The cats language\n",
    "        self.speak = None  # we don't know yet what the cat speaks\n",
    "        self._language = None  # This is a private attribute\n",
    "        self.language = language\n",
    "        \n",
    "    # Methods\n",
    "    def say_name(self):\n",
    "        print('{}, {}!'.format(self.speak, self.name))\n",
    "        \n",
    "    def _decide_speech(self, value):\n",
    "        # This is a private method\n",
    "        # We use it to structure our code within the class\n",
    "        if value == 'en':\n",
    "            self.speak = 'Meow'\n",
    "        elif value == 'fr':\n",
    "            self.speak = 'Miaou'\n",
    "        else:\n",
    "            raise ValueError('Language not understood: {}'.format(value))\n",
    "        \n",
    "    # Property getter\n",
    "    @property\n",
    "    def language(self):\n",
    "        return self._language\n",
    "        \n",
    "    # Property setter\n",
    "    @language.setter\n",
    "    def language(self, value):\n",
    "        self._language = value\n",
    "        self._decide_speech(value)"
   ]
  },
  {
   "cell_type": "markdown",
   "metadata": {},
   "source": [
    "The design of this class comes from the addition of a new functionality: users can now set the language of their cat, and the cat's speech will change accordingly. See the following:"
   ]
  },
  {
   "cell_type": "code",
   "execution_count": null,
   "metadata": {},
   "outputs": [],
   "source": [
    "a = Cat('Grumpy')\n",
    "a.say_name()  # the default language is english\n",
    "a.language = 'fr'  # we set it to french\n",
    "a.say_name()  # now our cat speaks french!"
   ]
  },
  {
   "cell_type": "markdown",
   "metadata": {},
   "source": [
    "Line 3 in the code snippet above motivates the use of a `@setter`: when `language` is updated, we want the `speak` attribute to be updated too: we need a dedicated method (`def language(self, value)`) that we hide behind an attribute. This comes with a drawback: where to store the `language` value? We have to use a new container for it: the private attribute `_language` (by convention)."
   ]
  },
  {
   "cell_type": "markdown",
   "metadata": {},
   "source": [
    "## Our final class "
   ]
  },
  {
   "cell_type": "markdown",
   "metadata": {},
   "source": [
    "I attempt to summarize all the concepts we learned above into a single class. Please read through it carefully:"
   ]
  },
  {
   "cell_type": "code",
   "execution_count": null,
   "metadata": {},
   "outputs": [],
   "source": [
    "class Cat:\n",
    "    # Class attributes\n",
    "    purr = 'RRRrrrRRRrrr'  # same for all cats, regardless of their language\n",
    "     \n",
    "    # Initializer\n",
    "    def __init__(self, name, weight, unit='kg', language='en'):\n",
    "        \n",
    "        # Name of the cat: an instance attribute\n",
    "        self.name = name\n",
    "        \n",
    "        # The cat's weight in two possible units\n",
    "        if unit == 'kg':\n",
    "            self.weight = weight\n",
    "        elif unit == 'lbs':\n",
    "            self.weight_lbs = weight\n",
    "        else:\n",
    "            raise ValueError('Unit not understood: {}'.format(unit))\n",
    "        \n",
    "        # The cat's language\n",
    "        self.speak = None  # we don't know yet what the cat speaks\n",
    "        self._language = None  # private attribute\n",
    "        self.language = language\n",
    "        \n",
    "    # Methods\n",
    "    def say_name(self):\n",
    "        print('{}, {}!'.format(self.speak, self.name))\n",
    "        \n",
    "    def eat_food(self, food, unit='kg'):\n",
    "        if unit == 'lbs':\n",
    "            # convert to kg\n",
    "            food = 0.45359237 * food\n",
    "        self.weight += food\n",
    "    \n",
    "    # Private method\n",
    "    def _decide_speech(self, value):\n",
    "        if value == 'en':\n",
    "            self.speak = 'Meow'\n",
    "        elif value == 'fr':\n",
    "            self.speak = 'Miaou'\n",
    "        else:\n",
    "            raise ValueError('Language not understood: {}'.format(value))\n",
    "    \n",
    "    # Property getter\n",
    "    @property\n",
    "    def weight_lbs(self):\n",
    "        return self.weight / 0.45359237\n",
    "    \n",
    "     # Property setter\n",
    "    @weight_lbs.setter\n",
    "    def weight_lbs(self, new_weight):\n",
    "        self.weight = 0.45359237 * new_weight\n",
    "    \n",
    "    @property\n",
    "    def language(self):\n",
    "        return self._language\n",
    "        \n",
    "   \n",
    "    @language.setter\n",
    "    def language(self, value):\n",
    "        self._language = value\n",
    "        self._decide_speech(value)"
   ]
  },
  {
   "cell_type": "code",
   "execution_count": null,
   "metadata": {},
   "outputs": [],
   "source": [
    "# Instantiating an object from the class \"Cat\"\n",
    "a = Cat('Grumpy', 4)"
   ]
  },
  {
   "cell_type": "code",
   "execution_count": null,
   "metadata": {},
   "outputs": [],
   "source": [
    "# Calling an instance method\n",
    "a.say_name()"
   ]
  },
  {
   "cell_type": "code",
   "execution_count": null,
   "metadata": {},
   "outputs": [],
   "source": [
    "# Changing an attribute also changes the behavior of the object\n",
    "a.language = 'fr'\n",
    "a.say_name()"
   ]
  },
  {
   "cell_type": "code",
   "execution_count": null,
   "metadata": {},
   "outputs": [],
   "source": [
    "# Class attributes are available for anyone to read\n",
    "a.purr"
   ]
  },
  {
   "cell_type": "code",
   "execution_count": null,
   "metadata": {},
   "outputs": [],
   "source": [
    "# An action on an object might change its instance attributes\n",
    "a.eat_food(0.3, unit='lbs')\n",
    "a.weight"
   ]
  },
  {
   "cell_type": "code",
   "execution_count": null,
   "metadata": {},
   "outputs": [],
   "source": [
    "# Some attributes are passive and computed only when needed.\n",
    "# The user doesn't see the difference:\n",
    "a.weight_lbs"
   ]
  },
  {
   "cell_type": "markdown",
   "metadata": {},
   "source": [
    "## Take home points"
   ]
  },
  {
   "cell_type": "markdown",
   "metadata": {},
   "source": [
    "- Python is an object oriented programming language but does not enforce the definition of classes in your own programs. However, a basic understanding of the core concepts of OOP is a strong asset and allows to make better use of Python's capabilities.\n",
    "- We defined a lot of new concepts today: classes, objects, instances, instance methods, instance attributes, class attributes, the @property decorator, and the @property.setter decorator. They are all important! You will have to revise these concepts calmly and step by step, possibly by making use of external resources. The web has plenty of good beginner-level OOP tutorials, I recommend to have a look at at least one of them."
   ]
  }
 ],
 "metadata": {
  "hide_input": false,
  "kernelspec": {
   "display_name": "Python 3",
   "language": "python",
   "name": "python3"
  },
  "language_info": {
   "codemirror_mode": {
    "name": "ipython",
    "version": 3
   },
   "file_extension": ".py",
   "mimetype": "text/x-python",
   "name": "python",
   "nbconvert_exporter": "python",
   "pygments_lexer": "ipython3",
   "version": "3.8.5"
  },
  "latex_envs": {
   "LaTeX_envs_menu_present": true,
   "autoclose": false,
   "autocomplete": true,
   "bibliofile": "biblio.bib",
   "cite_by": "apalike",
   "current_citInitial": 1,
   "eqLabelWithNumbers": true,
   "eqNumInitial": 1,
   "hotkeys": {
    "equation": "Ctrl-E",
    "itemize": "Ctrl-I"
   },
   "labels_anchors": false,
   "latex_user_defs": false,
   "report_style_numbering": false,
   "user_envs_cfg": false
  },
  "nbTranslate": {
   "displayLangs": [
    "*"
   ],
   "hotkey": "alt-t",
   "langInMainMenu": true,
   "sourceLang": "en",
   "targetLang": "fr",
   "useGoogleTranslate": true
  },
  "toc": {
   "base_numbering": "23",
   "nav_menu": {},
   "number_sections": true,
   "sideBar": true,
   "skip_h1_title": false,
   "title_cell": "Table of Contents",
   "title_sidebar": "Contents",
   "toc_cell": true,
   "toc_position": {
    "height": "calc(100% - 180px)",
    "left": "10px",
    "top": "150px",
    "width": "345px"
   },
   "toc_section_display": "block",
   "toc_window_display": true
  }
 },
 "nbformat": 4,
 "nbformat_minor": 4
}
