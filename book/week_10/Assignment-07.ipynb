{
 "cells": [
  {
   "cell_type": "markdown",
   "metadata": {},
   "source": [
    "# Assignment #07: a file writer class"
   ]
  },
  {
   "cell_type": "markdown",
   "metadata": {},
   "source": [
    "## Assignment #07-01: an HTML writer"
   ]
  },
  {
   "cell_type": "markdown",
   "metadata": {},
   "source": [
    "HTML files have a relatively simple structure. Here is an example:\n",
    "\n",
    "```html\n",
    "<!DOCTYPE html>\n",
    "<html>\n",
    "\n",
    "<head>\n",
    "  <title>Tab title</title>\n",
    "</head>\n",
    "    \n",
    "<body>\n",
    "\n",
    "<h1>A large title</h1>\n",
    "\n",
    "<h2>A smaller title</h2>\n",
    "\n",
    "<p>\n",
    "A paragraph with more or less text. Rather less.\n",
    "</p>\n",
    " \n",
    "<img alt=\"Image not found\" src=\"/path/to/some/image.png\">\n",
    "\n",
    "\n",
    "<h2>Another smaller title</h2>\n",
    "\n",
    "<p>\n",
    "Another paragraph with more or less text. It depends on your mood.\n",
    "</p>\n",
    "\n",
    "</body>\n",
    "</html>\n",
    "```"
   ]
  },
  {
   "cell_type": "markdown",
   "metadata": {},
   "source": [
    "Your task is to write an ``HTMLFile`` class, which will help you to write such files in python. At instantiation, the ``HTMLFile`` class must accept a positional and a keyword argument:\n",
    "- the positional argument `file_path`: a path to a file which will be created or overwritten by the object. The path must be ending with ``.html``, otherwise the ``__init__`` method should raise an error. \n",
    "- the keyword argument `header_title` which defaults to `'Tab title'`.\n",
    "\n",
    "The class must define the following instance methods:\n",
    "\n",
    "- ``add_body_title``, which adds an html title in the file. The size of the title (h1, h2, ...) must be specified with a keyword argument.\n",
    "- ``add_paragraph``, which adds a paragraph to the file.\n",
    "- ``add_image``, which adds an image command to the file.\n",
    "- ``end_file``, which writes the closing lines of the file.\n",
    "- ``display_html``, which opens the file in your browser.\n",
    "\n",
    "The class should define a new property, ``n_lines``, which returns the number of lines of the html file."
   ]
  },
  {
   "cell_type": "markdown",
   "metadata": {},
   "source": [
    "For example, the following code should write the template above and print the total number of lines:\n",
    "\n",
    "```python\n",
    "file = HTMLFile('my_template.html', header_title='Tab title')\n",
    "file.add_body_title('A large title')\n",
    "file.add_body_title('A smaller title', size=2)\n",
    "file.add_paragraph('A paragraph with more or less text. Rather less.')\n",
    "file.add_image('/path/to/some/image.png', alt='Image not found')\n",
    "file.add_body_title('Another smaller title', size=2)\n",
    "file.add_paragraph('Another paragraph with more or less text. It depends on your mood.')\n",
    "file.end_file()\n",
    "print(file.n_lines)\n",
    "```"
   ]
  },
  {
   "cell_type": "markdown",
   "metadata": {},
   "source": [
    "*Tip: you can decide to open and close the text file at each function call (ideally by using a ``with`` context manager). However, you can also decide to store the commands in an instance attribute (a string) and write the string all at once when the `end_file()` method is called. It's up to you, but the second method is easier for exercise #07-02!*"
   ]
  },
  {
   "cell_type": "markdown",
   "metadata": {},
   "source": [
    "## Assignment #07-02 (optional): change the header"
   ]
  },
  {
   "cell_type": "markdown",
   "metadata": {},
   "source": [
    "For some reason, your clients are not happy with the current software design and made a request: they would like to be able to change the header at wish, *after* the class instantiation. That is, the following code should work:\n",
    "\n",
    "\n",
    "```python\n",
    "file = HTMLFile('my_template.html')\n",
    "file.header_title = 'A new tab title'\n",
    "```"
   ]
  },
  {
   "cell_type": "markdown",
   "metadata": {},
   "source": [
    "**Implement this new functionality to your class!**"
   ]
  }
 ],
 "metadata": {
  "hide_input": false,
  "kernelspec": {
   "display_name": "Python 3",
   "language": "python",
   "name": "python3"
  },
  "language_info": {
   "codemirror_mode": {
    "name": "ipython",
    "version": 3
   },
   "file_extension": ".py",
   "mimetype": "text/x-python",
   "name": "python",
   "nbconvert_exporter": "python",
   "pygments_lexer": "ipython3",
   "version": "3.8.5"
  },
  "latex_envs": {
   "LaTeX_envs_menu_present": true,
   "autoclose": false,
   "autocomplete": true,
   "bibliofile": "biblio.bib",
   "cite_by": "apalike",
   "current_citInitial": 1,
   "eqLabelWithNumbers": true,
   "eqNumInitial": 1,
   "hotkeys": {
    "equation": "Ctrl-E",
    "itemize": "Ctrl-I"
   },
   "labels_anchors": false,
   "latex_user_defs": false,
   "report_style_numbering": false,
   "user_envs_cfg": false
  },
  "nbTranslate": {
   "displayLangs": [
    "*"
   ],
   "hotkey": "alt-t",
   "langInMainMenu": true,
   "sourceLang": "en",
   "targetLang": "fr",
   "useGoogleTranslate": true
  },
  "toc": {
   "base_numbering": 1,
   "nav_menu": {},
   "number_sections": false,
   "sideBar": true,
   "skip_h1_title": false,
   "title_cell": "Table of Contents",
   "title_sidebar": "Contents",
   "toc_cell": false,
   "toc_position": {},
   "toc_section_display": "block",
   "toc_window_display": false
  }
 },
 "nbformat": 4,
 "nbformat_minor": 4
}
