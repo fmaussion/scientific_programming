{
 "cells": [
  {
   "cell_type": "markdown",
   "metadata": {},
   "source": [
    "# Assignment #05"
   ]
  },
  {
   "cell_type": "markdown",
   "metadata": {},
   "source": [
    "[numpy](http://www.numpy.org/) and [matplotlib](https://matplotlib.org/) are two fundamental pillars of the scientific python stack. You will find *numerous* tutorials for both libraries online. I am asking you to learn the basics of both tools by yourself, at the pace that suits you. I can recommend these two tutorials:\n",
    "- [numpy tutorial](http://scipy-lectures.org/intro/numpy/index.html)\n",
    "- [matplotlib tutorial](http://scipy-lectures.org/intro/matplotlib/index.html)\n",
    "\n",
    "They can be quite long if you are new to numpy - I'm not asking to do them all today! Sections 1.4.1.1 to 1.4.1.5 in the [numpy tutorial](http://scipy-lectures.org/intro/numpy/index.html) should get you enough information for today's assignments, or you can try without it and learn on the fly - your choice!"
   ]
  },
  {
   "cell_type": "markdown",
   "metadata": {},
   "source": [
    "## Exercise #05-01: numpy cycles"
   ]
  },
  {
   "cell_type": "markdown",
   "metadata": {},
   "source": [
    "Monthly averages of temperature data at Innsbruck can be downloaded from this lecture's github via:"
   ]
  },
  {
   "cell_type": "code",
   "execution_count": null,
   "metadata": {},
   "outputs": [],
   "source": [
    "from urllib.request import Request, urlopen\n",
    "import json\n",
    "\n",
    "# Parse the given url\n",
    "url = 'https://raw.githubusercontent.com/fmaussion/scientific_programming/master/data/innsbruck_temp.json'\n",
    "req = urlopen(Request(url)).read()\n",
    "# Read the data\n",
    "inn_data = json.loads(req.decode('utf-8'))"
   ]
  },
  {
   "cell_type": "markdown",
   "metadata": {},
   "source": [
    "*(original data obtained from NOAA's [Global Surface Summary of the Day](https://catalog.data.gov/dataset/global-surface-summary-of-the-day-gsod))*"
   ]
  },
  {
   "cell_type": "markdown",
   "metadata": {},
   "source": [
    "**Explore the inn_data variable. What is the type of \"inn_data\", and of the data it contains? Convert the data series to numpy arrays.**\n",
    "\n",
    "**Using numpy/scipy, matplotlib, and the standard library only, compute and plot the mean monthly annual cycle for 1981-2010 and the mean annual temperature timeseries for 1977-2017. Compute the linear trend (using scipy.stats.linregress) of the average annual temperature over 1977-2017. Repeat with winter (DJF) and summer (JJA) trends.**"
   ]
  },
  {
   "cell_type": "markdown",
   "metadata": {},
   "source": [
    "*Tip 1: to select part of an array (indexing) based on a condition, you can use the following syntax:*"
   ]
  },
  {
   "cell_type": "code",
   "execution_count": null,
   "metadata": {},
   "outputs": [],
   "source": [
    "import numpy as np\n",
    "x = np.arange(10)\n",
    "y = x**2\n",
    "y[x > 4]  # select y based on the values in x"
   ]
  },
  {
   "cell_type": "markdown",
   "metadata": {},
   "source": [
    "*Tip 2: there is more than one way to compute the annual and monthly means. Some use loops, some use reshaping on the original 1D array.*"
   ]
  },
  {
   "cell_type": "markdown",
   "metadata": {},
   "source": [
    "## Exercise #05-02: indexing"
   ]
  },
  {
   "cell_type": "markdown",
   "metadata": {},
   "source": [
    "Given a 2D numpy array defined as:"
   ]
  },
  {
   "cell_type": "code",
   "execution_count": null,
   "metadata": {},
   "outputs": [],
   "source": [
    "import numpy as np\n",
    "x = np.array([[1, 2, 3],\n",
    "              [4, 5, 6]])"
   ]
  },
  {
   "cell_type": "markdown",
   "metadata": {},
   "source": [
    "The following indexing operations all select the same values out of the array:\n",
    "- ``x[:, 1]``\n",
    "- ``x[slice(0, 2, 1), 1]``\n",
    "- ``x[(slice(0, 2, 1), 1)]``\n",
    "- ``x[slice(0, 2, 1), slice(1, 2, 1)]``\n",
    "- ``x[..., 1]``\n",
    "- ``x[::1, 1]``\n",
    "- ``x[[0, 1], 1]``\n",
    "- ``x[:, -2]``\n",
    "- ``x[:, 1:2]``\n",
    "- ``x[:, [1]]``"
   ]
  },
  {
   "cell_type": "markdown",
   "metadata": {},
   "source": [
    "This can be checked with the following test:"
   ]
  },
  {
   "cell_type": "code",
   "execution_count": null,
   "metadata": {},
   "outputs": [],
   "source": [
    "from numpy.testing import assert_equal\n",
    "\n",
    "ref = 7\n",
    "\n",
    "assert_equal(ref, x[:, 1].sum())\n",
    "assert_equal(ref, x[..., 1].sum())\n",
    "assert_equal(ref, x[::1, 1].sum())\n",
    "assert_equal(ref, x[slice(0, 2, 1), 1].sum())\n",
    "assert_equal(ref, x[(slice(0, 2, 1), 1)].sum())\n",
    "assert_equal(ref, x[slice(0, 2, 1), slice(1, 2, 1)].sum())\n",
    "assert_equal(ref, x[[0, 1], 1].sum())\n",
    "assert_equal(ref, x[:, -2].sum())\n",
    "assert_equal(ref, x[:, 1:2].sum())\n",
    "assert_equal(ref, x[:, [1]].sum())"
   ]
  },
  {
   "cell_type": "markdown",
   "metadata": {},
   "source": [
    "**Questions:**\n",
    "- **What is the ``...`` syntax doing? Again, it is the literal equivalent of an actual python object: what is it?**\n",
    "- **some of these indexing operations are truly equivalent to the \"obvious\" one, ``x[:, 1]``. List them.**\n",
    "- **Classify these operations (i) in basic and advanced operations, and (ii) by the shape of their output. Explain.**\n",
    "- **I'd like my array ``a = x[:, 1:2]`` to have a shape of (2, ) like most of the other operations listed above. What can I do to reshape it?**"
   ]
  },
  {
   "cell_type": "markdown",
   "metadata": {},
   "source": [
    "## Exercise #05-03: the difference"
   ]
  },
  {
   "cell_type": "markdown",
   "metadata": {},
   "source": [
    "Consider the following example:"
   ]
  },
  {
   "cell_type": "code",
   "execution_count": null,
   "metadata": {},
   "outputs": [],
   "source": [
    "a = np.array([1, 2, 3])\n",
    "b = a\n",
    "c = a\n",
    "\n",
    "b = a - 10\n",
    "c -= 100"
   ]
  },
  {
   "cell_type": "markdown",
   "metadata": {},
   "source": [
    "**What will be the values printed by ``print(a, b, c)`` after this code snippet? Explain.**"
   ]
  },
  {
   "cell_type": "markdown",
   "metadata": {},
   "source": [
    "## Exercise #05-04: Greenwich"
   ]
  },
  {
   "cell_type": "markdown",
   "metadata": {},
   "source": [
    "[ERA-Interim reanalysis](https://www.ecmwf.int/en/forecasts/datasets/archive-datasets/reanalysis-datasets/era-interim) provides global atmospheric fields from 1979 to today. Someone prepared a grid of average temperature available here:"
   ]
  },
  {
   "cell_type": "code",
   "execution_count": null,
   "metadata": {},
   "outputs": [],
   "source": [
    "from urllib.request import Request, urlopen\n",
    "from io import BytesIO\n",
    "import json\n",
    "\n",
    "# Parse the given url\n",
    "url = 'https://github.com/fmaussion/scientific_programming/raw/master/data/monthly_temp.npz'\n",
    "req = urlopen(Request(url)).read()\n",
    "with np.load(BytesIO(req)) as data:\n",
    "    temp = data['temp']\n",
    "    lon = data['lon']\n",
    "    lat = data['lat']"
   ]
  },
  {
   "cell_type": "markdown",
   "metadata": {},
   "source": [
    "However, the data is not well processed! The longitudes are ranging from 0 to 360°, thus cutting UK and Africa in half! Reorganize the data and the corresponding coordinate to obtain a plot similar to this one:"
   ]
  },
  {
   "cell_type": "markdown",
   "metadata": {},
   "source": [
    "<img src=\"../img/18_temp_pic.png\">"
   ]
  },
  {
   "cell_type": "markdown",
   "metadata": {},
   "source": [
    "## Exercise #05-05: ACINN meteorological data"
   ]
  },
  {
   "cell_type": "markdown",
   "metadata": {},
   "source": [
    "```{warning}\n",
    "Online access to ACINN data does not work anymore. For a similar excercise I recommend to have a look at GeoSphere Austria's API. I may update the resources here in the future.\n",
    "```\n",
    "\n",
    "The institute website provides raw data from several stations around Innsbruck using a live feed at the following addresses:\n",
    "- https://acinn-data.uibk.ac.at/innsbruck/3 for the three days data\n",
    "- https://acinn-data.uibk.ac.at/innsbruck/7 for the seven days data\n",
    "\n",
    "The datasets for the other stations are available, per analogy:\n",
    "- https://acinn-data.uibk.ac.at/ellboegen/3\n",
    "- https://acinn-data.uibk.ac.at/obergurgl/3\n",
    "- https://acinn-data.uibk.ac.at/sattelberg/3\n",
    "\n",
    "The data is shared by ACINN under a [Creative Commons Attribution-ShareAlike 4.0 International License](https://creativecommons.org/licenses/by-sa/4.0/).\n",
    "\n",
    "<a href=\"https://creativecommons.org/licenses/by-sa/4.0/\" target=\"_blank\">\n",
    "  <img src=\"https://i.creativecommons.org/l/by-sa/4.0/88x31.png\"/>\n",
    "</a>"
   ]
  },
  {
   "cell_type": "markdown",
   "metadata": {},
   "source": [
    "The data is provided in the [json](https://www.json.org/) format, often used for web applications. Fortunately, this is very easy to read in python:"
   ]
  },
  {
   "cell_type": "code",
   "execution_count": null,
   "metadata": {},
   "outputs": [],
   "source": [
    "from urllib.request import Request, urlopen\n",
    "import json\n",
    "\n",
    "url = 'https://acinn-data.uibk.ac.at/innsbruck/3'\n",
    "# Parse the given url\n",
    "req = urlopen(Request(url)).read()\n",
    "# Read the data\n",
    "data = json.loads(req.decode('utf-8'))"
   ]
  },
  {
   "cell_type": "markdown",
   "metadata": {},
   "source": [
    "Now I will help you to parse the timestamp of the data:"
   ]
  },
  {
   "cell_type": "code",
   "execution_count": null,
   "metadata": {},
   "outputs": [],
   "source": [
    "from datetime import datetime, timedelta\n",
    "data['time'] = [datetime(1970, 1, 1) + timedelta(milliseconds=ds) for ds in data['datumsec']]"
   ]
  },
  {
   "cell_type": "markdown",
   "metadata": {},
   "source": [
    "And make a first plot to get you started:"
   ]
  },
  {
   "cell_type": "code",
   "execution_count": null,
   "metadata": {},
   "outputs": [],
   "source": [
    "import matplotlib.pyplot as plt\n",
    "plt.plot(data['time'], data['dd'], '.');\n",
    "plt.ylabel('Wind direction (°)'); \n",
    "plt.title('Wind direction at Innsbruck');"
   ]
  },
  {
   "cell_type": "markdown",
   "metadata": {},
   "source": [
    "You will get much more time to get used to these data in the mid-semester projects. For today, I'm asking to **write a script that takes the station and number of days as input (either as command line arguments or user input, your choice) and prints the following information in the terminal:**\n",
    "\n",
    "\n",
    "    At station XXX, over the last X days, the dominant wind direction was XX (xx% of the time). \n",
    "    The second most dominant wind direction was XX (xx% of the time), the least dominant wind\n",
    "    direction was XX (xx% of the time). The maximum wind speed was XX m/s (DATE and TIME), \n",
    "    while the strongest wind speed averaged over an hour was XX m/s (DATE and TIME).\n",
    "\n",
    "\n",
    "With the wind directions being of 8 classes: N, NW, W, SW, S, SE, E, NE."
   ]
  }
 ],
 "metadata": {
  "hide_input": false,
  "kernelspec": {
   "display_name": "Python 3 (ipykernel)",
   "language": "python",
   "name": "python3"
  },
  "language_info": {
   "codemirror_mode": {
    "name": "ipython",
    "version": 3
   },
   "file_extension": ".py",
   "mimetype": "text/x-python",
   "name": "python",
   "nbconvert_exporter": "python",
   "pygments_lexer": "ipython3",
   "version": "3.12.4"
  },
  "latex_envs": {
   "LaTeX_envs_menu_present": true,
   "autoclose": false,
   "autocomplete": true,
   "bibliofile": "biblio.bib",
   "cite_by": "apalike",
   "current_citInitial": 1,
   "eqLabelWithNumbers": true,
   "eqNumInitial": 1,
   "hotkeys": {
    "equation": "Ctrl-E",
    "itemize": "Ctrl-I"
   },
   "labels_anchors": false,
   "latex_user_defs": false,
   "report_style_numbering": false,
   "user_envs_cfg": false
  },
  "nbTranslate": {
   "displayLangs": [
    "*"
   ],
   "hotkey": "alt-t",
   "langInMainMenu": true,
   "sourceLang": "en",
   "targetLang": "fr",
   "useGoogleTranslate": true
  },
  "toc": {
   "base_numbering": 1,
   "nav_menu": {},
   "number_sections": false,
   "sideBar": true,
   "skip_h1_title": false,
   "title_cell": "Table of Contents",
   "title_sidebar": "Contents",
   "toc_cell": false,
   "toc_position": {},
   "toc_section_display": "block",
   "toc_window_display": false
  }
 },
 "nbformat": 4,
 "nbformat_minor": 4
}
